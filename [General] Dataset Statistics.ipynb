{
 "cells": [
  {
   "cell_type": "code",
   "execution_count": 5,
   "id": "fifteen-paragraph",
   "metadata": {},
   "outputs": [],
   "source": [
    "import os\n",
    "import json\n",
    "import pickle\n",
    "import numpy as np\n",
    "from collections import defaultdict"
   ]
  },
  {
   "cell_type": "code",
   "execution_count": 6,
   "id": "initial-diagnosis",
   "metadata": {},
   "outputs": [],
   "source": [
    "# id: num_tracks, total_duration (ms), avg_song_length (ms), followers\n",
    "with open('mappings/Q3/playlist_data.pkl', 'rb') as fp:\n",
    "    playlist_data = pickle.load(fp)"
   ]
  },
  {
   "cell_type": "code",
   "execution_count": 7,
   "id": "visible-brake",
   "metadata": {},
   "outputs": [
    {
     "name": "stdout",
     "output_type": "stream",
     "text": [
      "1000000\n"
     ]
    }
   ],
   "source": [
    "print(len(playlist_data))"
   ]
  },
  {
   "cell_type": "code",
   "execution_count": 8,
   "id": "loose-continuity",
   "metadata": {},
   "outputs": [],
   "source": [
    "data = np.array([v for k,v in playlist_data.items()])"
   ]
  },
  {
   "cell_type": "code",
   "execution_count": 9,
   "id": "appreciated-directory",
   "metadata": {},
   "outputs": [
    {
     "data": {
      "text/plain": [
       "1000000"
      ]
     },
     "execution_count": 9,
     "metadata": {},
     "output_type": "execute_result"
    }
   ],
   "source": [
    "len(data)"
   ]
  },
  {
   "cell_type": "code",
   "execution_count": 10,
   "id": "conservative-patient",
   "metadata": {},
   "outputs": [
    {
     "data": {
      "text/plain": [
       "array([[1.51000000e+02, 4.35011640e+07, 2.88087179e+05, 1.00000000e+00],\n",
       "       [1.43000000e+02, 2.91746680e+07, 2.04018657e+05, 1.00000000e+00]])"
      ]
     },
     "execution_count": 10,
     "metadata": {},
     "output_type": "execute_result"
    }
   ],
   "source": [
    "data[:2]"
   ]
  },
  {
   "cell_type": "code",
   "execution_count": 11,
   "id": "complicated-aging",
   "metadata": {},
   "outputs": [
    {
     "data": {
      "text/plain": [
       "245781"
      ]
     },
     "execution_count": 11,
     "metadata": {},
     "output_type": "execute_result"
    }
   ],
   "source": [
    "m = [x[-1] > 1 for x in data]\n",
    "len(data[m])"
   ]
  },
  {
   "cell_type": "code",
   "execution_count": null,
   "id": "committed-group",
   "metadata": {},
   "outputs": [],
   "source": []
  }
 ],
 "metadata": {
  "kernelspec": {
   "display_name": "Python 3",
   "language": "python",
   "name": "python3"
  },
  "language_info": {
   "codemirror_mode": {
    "name": "ipython",
    "version": 3
   },
   "file_extension": ".py",
   "mimetype": "text/x-python",
   "name": "python",
   "nbconvert_exporter": "python",
   "pygments_lexer": "ipython3",
   "version": "3.8.10"
  }
 },
 "nbformat": 4,
 "nbformat_minor": 5
}
