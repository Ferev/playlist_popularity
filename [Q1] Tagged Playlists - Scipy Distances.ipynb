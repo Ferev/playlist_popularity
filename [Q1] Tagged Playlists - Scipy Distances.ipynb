{
 "cells": [
  {
   "cell_type": "markdown",
   "id": "hollywood-stake",
   "metadata": {},
   "source": [
    "### How does a playlist’s genre diversity affect its popularity?"
   ]
  },
  {
   "cell_type": "code",
   "execution_count": 35,
   "id": "vietnamese-sullivan",
   "metadata": {},
   "outputs": [],
   "source": [
    "import os\n",
    "import json\n",
    "import pickle\n",
    "from collections import defaultdict\n",
    "from collections import Counter\n",
    "import numpy as np\n",
    "import matplotlib.pyplot\n",
    "import matplotlib.axes\n",
    "import matplotlib.colors\n",
    "import math\n",
    "from scipy.spatial.distance import cityblock, euclidean, braycurtis, cosine, minkowski, canberra"
   ]
  },
  {
   "cell_type": "code",
   "execution_count": 36,
   "id": "artificial-lafayette",
   "metadata": {},
   "outputs": [],
   "source": [
    "def get_distances(a,b):\n",
    "    dist= []\n",
    "    dist.append(cityblock(a,b))\n",
    "    dist.append(euclidean(a,b))\n",
    "    dist.append(braycurtis(a,b))\n",
    "    dist.append(cosine(a,b))\n",
    "    dist.append(minkowski(a,b))\n",
    "    dist.append(canberra(a,b))\n",
    "    return dist"
   ]
  },
  {
   "cell_type": "code",
   "execution_count": 37,
   "id": "smaller-fiction",
   "metadata": {},
   "outputs": [],
   "source": [
    "MPD = 'mpd/'\n",
    "# MPD = r'C:\\Users\\19142\\Documents\\gpjDATA\\mpd\\data'\n",
    "playlist_files = [os.path.join(MPD, x) for x in os.listdir(MPD)]"
   ]
  },
  {
   "cell_type": "code",
   "execution_count": 38,
   "id": "funny-corrections",
   "metadata": {},
   "outputs": [],
   "source": [
    "SONG_DATA = 'mappings/songs'\n",
    "# SONG_DATA = r'C:\\Users\\19142\\Documents\\gpjDATA\\mappings\\songs'\n",
    "song_files = [os.path.join(SONG_DATA, x) for x in os.listdir(SONG_DATA)]"
   ]
  },
  {
   "cell_type": "code",
   "execution_count": 39,
   "id": "fewer-novel",
   "metadata": {},
   "outputs": [],
   "source": [
    "ARTIST_DATA = 'mappings/artists/artist_matching.pkl'\n",
    "with open(ARTIST_DATA, 'rb') as fp:\n",
    "    artist_dict = pickle.load(fp)"
   ]
  },
  {
   "cell_type": "code",
   "execution_count": 40,
   "id": "velvet-belize",
   "metadata": {},
   "outputs": [],
   "source": [
    "all_genres = set()\n",
    "for ID, artist in artist_dict.items():\n",
    "    all_genres.update(artist['genres'])\n",
    "genres = list(all_genres)\n",
    "genres.sort()\n",
    "genre_to_ix = {g:ix for ix,g in enumerate(genres)}\n",
    "ix_to_genre = {ix:g for ix,g in enumerate(genres)}\n",
    "N = len(genres)\n",
    "ideal_dist = np.ones(N)*1/N"
   ]
  },
  {
   "cell_type": "code",
   "execution_count": 41,
   "id": "exotic-latitude",
   "metadata": {},
   "outputs": [
    {
     "data": {
      "text/plain": [
       "5604"
      ]
     },
     "execution_count": 41,
     "metadata": {},
     "output_type": "execute_result"
    }
   ],
   "source": [
    "N"
   ]
  },
  {
   "cell_type": "code",
   "execution_count": 42,
   "id": "flush-opening",
   "metadata": {},
   "outputs": [],
   "source": [
    "# Note: Here we compute this pet track but we can also take list with all genres in playlist as a whole\n",
    "\n",
    "def calculate_playlist_vector(genres_per_track, dim=N, g_ix=genre_to_ix):\n",
    "    k = len(genres_per_track) # weight uniformly across tracks\n",
    "    dist = np.zeros(dim)\n",
    "    for track_genres in genres_per_track:\n",
    "        q = len(track_genres) # weight uniformly across genres per track\n",
    "        for genre in track_genres:\n",
    "            ix = g_ix[genre]\n",
    "            dist[ix] += (1/k)*(1/q)\n",
    "    return dist"
   ]
  },
  {
   "cell_type": "code",
   "execution_count": 43,
   "id": "presidential-skirt",
   "metadata": {},
   "outputs": [],
   "source": [
    "songID_to_genres = defaultdict(list)\n",
    "for file in song_files:\n",
    "    with open(file, 'rb') as fp:\n",
    "        data = pickle.load(fp)\n",
    "    for songID,song in data.items():\n",
    "        genres_list = []\n",
    "        for artist in song['artists']:\n",
    "            artistID = artist['id']\n",
    "            genres = artist_dict[artistID]['genres']\n",
    "            genres_list.extend(genres) # Note: by doing this we allow repeating\n",
    "        songID_to_genres[songID] = genres_list"
   ]
  },
  {
   "cell_type": "code",
   "execution_count": 44,
   "id": "compatible-creature",
   "metadata": {},
   "outputs": [
    {
     "data": {
      "text/plain": [
       "[('spotify:track:1fyTBapjw8q9MlzLVdU6wg',\n",
       "  ['alternative rock',\n",
       "   'madchester',\n",
       "   'new wave',\n",
       "   'post-punk',\n",
       "   'rock',\n",
       "   'uk post-punk']),\n",
       " ('spotify:track:4cC9nQMgClmz8cix6l5CSX', ['filter house']),\n",
       " ('spotify:track:3qwh1awyjkXFUER1Pp64qv',\n",
       "  ['christian rock', 'dreamo', 'piano rock']),\n",
       " ('spotify:track:6NHONOfLaDTtSG8WtCTpex', ['disco house', 'vocal house']),\n",
       " ('spotify:track:7HxecasMeh6aCAvQPGiFgP', ['deep ambient'])]"
      ]
     },
     "execution_count": 44,
     "metadata": {},
     "output_type": "execute_result"
    }
   ],
   "source": [
    "list(songID_to_genres.items())[:5]"
   ]
  },
  {
   "cell_type": "code",
   "execution_count": 45,
   "id": "sporting-noise",
   "metadata": {},
   "outputs": [
    {
     "name": "stdout",
     "output_type": "stream",
     "text": [
      "........................................................................................................................................................................................................................................................................................................................................................................................................................................................................................................................................................................................................................................................................................................................................................................................................................................................................................................................................................................................................................................"
     ]
    }
   ],
   "source": [
    "playlist_data = {}\n",
    "for file in playlist_files:\n",
    "    print('.', end='')\n",
    "   # assert os.path.isfile(file) \n",
    "    with open(file, 'rb') as fp:\n",
    "        data = json.load(fp)\n",
    "    for playlist in data['playlists']:\n",
    "        empty = False\n",
    "        ID = playlist['pid']\n",
    "        genres_per_track = []\n",
    "        for track in playlist['tracks']:\n",
    "            tID = track['track_uri']\n",
    "            if len(songID_to_genres[tID]) != 0:\n",
    "                genres_per_track.append(songID_to_genres[tID])\n",
    "            else:\n",
    "                empty = True\n",
    "                break\n",
    "        if empty:\n",
    "            continue\n",
    "        followers = playlist['num_followers']\n",
    "        dist = calculate_playlist_vector(genres_per_track)\n",
    "        diversity = get_distances(ideal_dist, dist)\n",
    "        playlist_data[ID] = (diversity, followers)"
   ]
  },
  {
   "cell_type": "code",
   "execution_count": 46,
   "id": "seventh-comedy",
   "metadata": {},
   "outputs": [
    {
     "data": {
      "text/plain": [
       "409039"
      ]
     },
     "execution_count": 46,
     "metadata": {},
     "output_type": "execute_result"
    }
   ],
   "source": [
    "len(playlist_data)"
   ]
  },
  {
   "cell_type": "code",
   "execution_count": 47,
   "id": "entertaining-forest",
   "metadata": {},
   "outputs": [
    {
     "data": {
      "text/plain": [
       "[(962001,\n",
       "  ([1.9835831548893639,\n",
       "    0.43318300041595537,\n",
       "    0.9917915774446825,\n",
       "    0.9691771258611092,\n",
       "    0.43318300041595537,\n",
       "    5595.618427603336],\n",
       "   1)),\n",
       " (962003,\n",
       "  ([1.9718058529621698,\n",
       "    0.1869062507074241,\n",
       "    0.9859029264810849,\n",
       "    0.9287112930205207,\n",
       "    0.1869062507074241,\n",
       "    5597.316792024452],\n",
       "   1)),\n",
       " (962005,\n",
       "  ([1.9807280513918628,\n",
       "    0.2886070579527828,\n",
       "    0.9903640256959314,\n",
       "    0.9537641033959948,\n",
       "    0.2886070579527828,\n",
       "    5599.382363331856],\n",
       "   1)),\n",
       " (962006,\n",
       "  ([1.9600285510349749,\n",
       "    0.20375050145651705,\n",
       "    0.9800142755174874,\n",
       "    0.9345784438880881,\n",
       "    0.20375050145651705,\n",
       "    5591.318864665253],\n",
       "   1)),\n",
       " (962011,\n",
       "  ([1.997501784439686,\n",
       "    0.3798236439136597,\n",
       "    0.998750892219843,\n",
       "    0.964852008293013,\n",
       "    0.3798236439136597,\n",
       "    5603.982356514815],\n",
       "   1))]"
      ]
     },
     "execution_count": 47,
     "metadata": {},
     "output_type": "execute_result"
    }
   ],
   "source": [
    "list(playlist_data.items())[:5]"
   ]
  },
  {
   "cell_type": "code",
   "execution_count": 50,
   "id": "circular-consistency",
   "metadata": {},
   "outputs": [],
   "source": [
    "with open('mappings/Q1/playlist_dataMULTIPLE.pkl', 'wb') as fp:\n",
    "    pickle.dump(playlist_data, fp)"
   ]
  },
  {
   "cell_type": "code",
   "execution_count": 51,
   "id": "maritime-medium",
   "metadata": {},
   "outputs": [
    {
     "data": {
      "text/plain": [
       "[(962001,\n",
       "  ([1.9835831548893639,\n",
       "    0.43318300041595537,\n",
       "    0.9917915774446825,\n",
       "    0.9691771258611092,\n",
       "    0.43318300041595537,\n",
       "    5595.618427603336],\n",
       "   1)),\n",
       " (962003,\n",
       "  ([1.9718058529621698,\n",
       "    0.1869062507074241,\n",
       "    0.9859029264810849,\n",
       "    0.9287112930205207,\n",
       "    0.1869062507074241,\n",
       "    5597.316792024452],\n",
       "   1)),\n",
       " (962005,\n",
       "  ([1.9807280513918628,\n",
       "    0.2886070579527828,\n",
       "    0.9903640256959314,\n",
       "    0.9537641033959948,\n",
       "    0.2886070579527828,\n",
       "    5599.382363331856],\n",
       "   1)),\n",
       " (962006,\n",
       "  ([1.9600285510349749,\n",
       "    0.20375050145651705,\n",
       "    0.9800142755174874,\n",
       "    0.9345784438880881,\n",
       "    0.20375050145651705,\n",
       "    5591.318864665253],\n",
       "   1)),\n",
       " (962011,\n",
       "  ([1.997501784439686,\n",
       "    0.3798236439136597,\n",
       "    0.998750892219843,\n",
       "    0.964852008293013,\n",
       "    0.3798236439136597,\n",
       "    5603.982356514815],\n",
       "   1))]"
      ]
     },
     "execution_count": 51,
     "metadata": {},
     "output_type": "execute_result"
    }
   ],
   "source": [
    "list(playlist_data.items())[:5]"
   ]
  },
  {
   "cell_type": "code",
   "execution_count": null,
   "id": "answering-click",
   "metadata": {},
   "outputs": [],
   "source": []
  }
 ],
 "metadata": {
  "kernelspec": {
   "display_name": "Python 3",
   "language": "python",
   "name": "python3"
  },
  "language_info": {
   "codemirror_mode": {
    "name": "ipython",
    "version": 3
   },
   "file_extension": ".py",
   "mimetype": "text/x-python",
   "name": "python",
   "nbconvert_exporter": "python",
   "pygments_lexer": "ipython3",
   "version": "3.8.10"
  }
 },
 "nbformat": 4,
 "nbformat_minor": 5
}
