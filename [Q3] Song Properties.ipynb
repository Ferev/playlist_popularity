{
 "cells": [
  {
   "cell_type": "markdown",
   "id": "possible-finance",
   "metadata": {},
   "source": [
    "### How does a playlist’s number of tracks, average song length, and total duration affect its popularity?"
   ]
  },
  {
   "cell_type": "code",
   "execution_count": 12,
   "id": "innocent-sydney",
   "metadata": {},
   "outputs": [],
   "source": [
    "import os\n",
    "import json\n",
    "import pickle\n",
    "from collections import defaultdict"
   ]
  },
  {
   "cell_type": "code",
   "execution_count": 2,
   "id": "possible-standard",
   "metadata": {},
   "outputs": [],
   "source": [
    "MPD = 'mpd/'\n",
    "playlist_files = [os.path.join(MPD, x) for x in os.listdir(MPD)]"
   ]
  },
  {
   "cell_type": "code",
   "execution_count": 3,
   "id": "reduced-heater",
   "metadata": {},
   "outputs": [],
   "source": [
    "SONG_DATA = 'mappings/songs'\n",
    "song_files = [os.path.join(SONG_DATA, x) for x in os.listdir(SONG_DATA)]"
   ]
  },
  {
   "cell_type": "code",
   "execution_count": 5,
   "id": "interstate-humanity",
   "metadata": {},
   "outputs": [],
   "source": [
    "songID_to_duration = {}\n",
    "for file in song_files:\n",
    "    with open(file, 'rb') as fp:\n",
    "        data = pickle.load(fp)\n",
    "    for k,v in data.items():\n",
    "        songID_to_duration[k] = v['duration_ms']"
   ]
  },
  {
   "cell_type": "code",
   "execution_count": 6,
   "id": "strategic-jersey",
   "metadata": {},
   "outputs": [
    {
     "data": {
      "text/plain": [
       "[('spotify:track:1fyTBapjw8q9MlzLVdU6wg', 231986),\n",
       " ('spotify:track:4cC9nQMgClmz8cix6l5CSX', 306127),\n",
       " ('spotify:track:3qwh1awyjkXFUER1Pp64qv', 283040),\n",
       " ('spotify:track:6NHONOfLaDTtSG8WtCTpex', 501626),\n",
       " ('spotify:track:7HxecasMeh6aCAvQPGiFgP', 346666)]"
      ]
     },
     "execution_count": 6,
     "metadata": {},
     "output_type": "execute_result"
    }
   ],
   "source": [
    "list(songID_to_duration.items())[:5]"
   ]
  },
  {
   "cell_type": "code",
   "execution_count": 19,
   "id": "sound-florist",
   "metadata": {},
   "outputs": [],
   "source": [
    "# IDEA: can also look at playlist_num['num_albums']\n",
    "playlist_data = {}\n",
    "for file in playlist_files:\n",
    "    with open(file, 'rb') as fp:\n",
    "        data = json.load(fp)\n",
    "    for playlist in data['playlists']:\n",
    "        ID = playlist['pid']\n",
    "        followers = playlist['num_followers']\n",
    "        durations = []\n",
    "        for track in playlist['tracks']:\n",
    "            if track['track_uri'] in songID_to_duration:\n",
    "                duration = songID_to_duration[track['track_uri']]\n",
    "                durations.append(int(duration))\n",
    "        number_of_tracks = len(durations) # since some might be None, take this isntead of data parameter\n",
    "        total_duration = sum(durations)\n",
    "        avg_song_length = total_duration/number_of_tracks\n",
    "        playlist_data[ID] = (number_of_tracks, total_duration, avg_song_length, followers)"
   ]
  },
  {
   "cell_type": "code",
   "execution_count": 20,
   "id": "automotive-twins",
   "metadata": {},
   "outputs": [
    {
     "data": {
      "text/plain": [
       "[(962000, (151, 43501164, 288087.178807947, 1)),\n",
       " (962001, (143, 29174668, 204018.65734265733, 1)),\n",
       " (962002, (75, 16744221, 223256.28, 1)),\n",
       " (962003, (32, 7621816, 238181.75, 1)),\n",
       " (962004, (27, 6261480, 231906.66666666666, 1))]"
      ]
     },
     "execution_count": 20,
     "metadata": {},
     "output_type": "execute_result"
    }
   ],
   "source": [
    "list(playlist_data.items())[:5]"
   ]
  },
  {
   "cell_type": "code",
   "execution_count": 21,
   "id": "skilled-religion",
   "metadata": {},
   "outputs": [],
   "source": [
    "# id: num_tracks, total_duration (ms), avg_song_length (ms), followers\n",
    "with open('mappings/Q3/playlist_data.pkl', 'wb') as fp:\n",
    "    pickle.dump(playlist_data, fp)"
   ]
  }
 ],
 "metadata": {
  "kernelspec": {
   "display_name": "Python 3",
   "language": "python",
   "name": "python3"
  },
  "language_info": {
   "codemirror_mode": {
    "name": "ipython",
    "version": 3
   },
   "file_extension": ".py",
   "mimetype": "text/x-python",
   "name": "python",
   "nbconvert_exporter": "python",
   "pygments_lexer": "ipython3",
   "version": "3.8.10"
  }
 },
 "nbformat": 4,
 "nbformat_minor": 5
}
