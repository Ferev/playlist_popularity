{
 "cells": [
  {
   "cell_type": "code",
   "execution_count": 1,
   "id": "agricultural-planning",
   "metadata": {},
   "outputs": [],
   "source": [
    "import os\n",
    "import json\n",
    "import pickle\n",
    "from collections import defaultdict\n",
    "from collections import Counter\n",
    "import numpy as np\n",
    "import scipy.stats as stats\n",
    "import matplotlib.pyplot as plt\n",
    "from sklearn.linear_model import LinearRegression\n",
    "import statsmodels.api as sm"
   ]
  },
  {
   "cell_type": "code",
   "execution_count": 2,
   "id": "decimal-logic",
   "metadata": {},
   "outputs": [],
   "source": [
    "with open('mappings/Q3/playlist_datav2.pkl', 'rb') as fp:\n",
    "    playlist_data = pickle.load(fp)"
   ]
  },
  {
   "cell_type": "code",
   "execution_count": 3,
   "id": "acute-melbourne",
   "metadata": {},
   "outputs": [
    {
     "data": {
      "text/plain": [
       "[(962000, (151, 43501164, 288087.178807947, 58, 1)),\n",
       " (962001, (143, 29174668, 204018.65734265733, 40, 1)),\n",
       " (962002, (75, 16744221, 223256.28, 58, 1)),\n",
       " (962003, (32, 7621816, 238181.75, 32, 1)),\n",
       " (962004, (27, 6261480, 231906.66666666666, 27, 1))]"
      ]
     },
     "execution_count": 3,
     "metadata": {},
     "output_type": "execute_result"
    }
   ],
   "source": [
    "list(playlist_data.items())[:5]"
   ]
  },
  {
   "cell_type": "code",
   "execution_count": 4,
   "id": "banned-algorithm",
   "metadata": {},
   "outputs": [],
   "source": [
    "# number_of_tracks 0 , total_duration 1, avg_song_length 2 , num albums 3, followers 4\n",
    "ftrs = np.array([x[1] for x in playlist_data.items()])"
   ]
  },
  {
   "cell_type": "code",
   "execution_count": 5,
   "id": "adult-cooling",
   "metadata": {},
   "outputs": [
    {
     "data": {
      "text/plain": [
       "array([[1.51000000e+02, 4.35011640e+07, 2.88087179e+05, 5.80000000e+01,\n",
       "        1.00000000e+00],\n",
       "       [1.43000000e+02, 2.91746680e+07, 2.04018657e+05, 4.00000000e+01,\n",
       "        1.00000000e+00],\n",
       "       [7.50000000e+01, 1.67442210e+07, 2.23256280e+05, 5.80000000e+01,\n",
       "        1.00000000e+00],\n",
       "       [3.20000000e+01, 7.62181600e+06, 2.38181750e+05, 3.20000000e+01,\n",
       "        1.00000000e+00],\n",
       "       [2.70000000e+01, 6.26148000e+06, 2.31906667e+05, 2.70000000e+01,\n",
       "        1.00000000e+00]])"
      ]
     },
     "execution_count": 5,
     "metadata": {},
     "output_type": "execute_result"
    }
   ],
   "source": [
    "ftrs[:5]"
   ]
  },
  {
   "cell_type": "code",
   "execution_count": 6,
   "id": "insured-allah",
   "metadata": {},
   "outputs": [
    {
     "data": {
      "text/plain": [
       "1994.000100000063"
      ]
     },
     "execution_count": 6,
     "metadata": {},
     "output_type": "execute_result"
    }
   ],
   "source": [
    "np.quantile(ftrs[:,4], 0.9999)"
   ]
  },
  {
   "cell_type": "code",
   "execution_count": 7,
   "id": "secure-knitting",
   "metadata": {},
   "outputs": [
    {
     "name": "stdout",
     "output_type": "stream",
     "text": [
      "245781\n"
     ]
    }
   ],
   "source": [
    "# filter with >1 follower\n",
    "num_followers = 1\n",
    "m = [x[-1] > num_followers for x in ftrs]\n",
    "q3 = ftrs[m]\n",
    "print(len(q3))"
   ]
  },
  {
   "cell_type": "code",
   "execution_count": 8,
   "id": "amateur-modification",
   "metadata": {},
   "outputs": [
    {
     "data": {
      "text/plain": [
       "(array([43680., 55957., 40466., 31433., 21867., 16992., 12848.,  9478.,\n",
       "         7686.,  5374.]),\n",
       " array([  4. ,  28.6,  53.2,  77.8, 102.4, 127. , 151.6, 176.2, 200.8,\n",
       "        225.4, 250. ]),\n",
       " <BarContainer object of 10 artists>)"
      ]
     },
     "execution_count": 8,
     "metadata": {},
     "output_type": "execute_result"
    },
    {
     "data": {
      "image/png": "[encoded data removed]",
      "text/plain": [
       "<Figure size 432x288 with 1 Axes>"
      ]
     },
     "metadata": {
      "needs_background": "light"
     },
     "output_type": "display_data"
    }
   ],
   "source": [
    "plt.hist(q3[:,0]) # num of tracks"
   ]
  },
  {
   "cell_type": "code",
   "execution_count": 9,
   "id": "closed-contrary",
   "metadata": {},
   "outputs": [
    {
     "data": {
      "text/plain": [
       "(array([1.6191e+05, 6.5097e+04, 1.8227e+04, 4.8800e+02, 3.9000e+01,\n",
       "        1.3000e+01, 2.0000e+00, 3.0000e+00, 0.0000e+00, 2.0000e+00]),\n",
       " array([   8.47495028,  367.78519224,  727.09543419, 1086.40567614,\n",
       "        1445.71591809, 1805.02616005, 2164.336402  , 2523.64664395,\n",
       "        2882.9568859 , 3242.26712785, 3601.57736981]),\n",
       " <BarContainer object of 10 artists>)"
      ]
     },
     "execution_count": 9,
     "metadata": {},
     "output_type": "execute_result"
    },
    {
     "data": {
      "image/png": "[encoded data removed]",
      "text/plain": [
       "<Figure size 432x288 with 1 Axes>"
      ]
     },
     "metadata": {
      "needs_background": "light"
     },
     "output_type": "display_data"
    }
   ],
   "source": [
    "plt.hist(q3[:,1]*1.66667e-5) # total duration"
   ]
  },
  {
   "cell_type": "code",
   "execution_count": 10,
   "id": "integral-lambda",
   "metadata": {},
   "outputs": [
    {
     "data": {
      "text/plain": [
       "(array([2.45742e+05, 2.80000e+01, 5.00000e+00, 2.00000e+00, 3.00000e+00,\n",
       "        0.00000e+00, 0.00000e+00, 0.00000e+00, 0.00000e+00, 1.00000e+00]),\n",
       " array([  0.97520654,  15.38285629,  29.79050603,  44.19815578,\n",
       "         58.60580552,  73.01345527,  87.42110501, 101.82875476,\n",
       "        116.2364045 , 130.64405425, 145.05170399]),\n",
       " <BarContainer object of 10 artists>)"
      ]
     },
     "execution_count": 10,
     "metadata": {},
     "output_type": "execute_result"
    },
    {
     "data": {
      "image/png": "[encoded data removed]",
      "text/plain": [
       "<Figure size 432x288 with 1 Axes>"
      ]
     },
     "metadata": {
      "needs_background": "light"
     },
     "output_type": "display_data"
    }
   ],
   "source": [
    "plt.hist(q3[:,2]*1.66667e-5) # avg song length"
   ]
  },
  {
   "cell_type": "code",
   "execution_count": 11,
   "id": "protected-certification",
   "metadata": {},
   "outputs": [
    {
     "data": {
      "text/plain": [
       "(array([54411., 65656., 45295., 31024., 20414., 13553.,  8609.,  4689.,\n",
       "         1868.,   262.]),\n",
       " array([  2.,  26.,  50.,  74.,  98., 122., 146., 170., 194., 218., 242.]),\n",
       " <BarContainer object of 10 artists>)"
      ]
     },
     "execution_count": 11,
     "metadata": {},
     "output_type": "execute_result"
    },
    {
     "data": {
      "image/png": "[encoded data removed]",
      "text/plain": [
       "<Figure size 432x288 with 1 Axes>"
      ]
     },
     "metadata": {
      "needs_background": "light"
     },
     "output_type": "display_data"
    }
   ],
   "source": [
    "plt.hist(q3[:,3]) # num albums"
   ]
  },
  {
   "cell_type": "code",
   "execution_count": 12,
   "id": "preliminary-remedy",
   "metadata": {},
   "outputs": [
    {
     "data": {
      "text/plain": [
       "(array([2.45754e+05, 1.70000e+01, 3.00000e+00, 3.00000e+00, 1.00000e+00,\n",
       "        0.00000e+00, 1.00000e+00, 1.00000e+00, 0.00000e+00, 1.00000e+00]),\n",
       " array([2.00000e+00, 7.16610e+03, 1.43302e+04, 2.14943e+04, 2.86584e+04,\n",
       "        3.58225e+04, 4.29866e+04, 5.01507e+04, 5.73148e+04, 6.44789e+04,\n",
       "        7.16430e+04]),\n",
       " <BarContainer object of 10 artists>)"
      ]
     },
     "execution_count": 12,
     "metadata": {},
     "output_type": "execute_result"
    },
    {
     "data": {
      "image/png": "[encoded data removed]",
      "text/plain": [
       "<Figure size 432x288 with 1 Axes>"
      ]
     },
     "metadata": {
      "needs_background": "light"
     },
     "output_type": "display_data"
    }
   ],
   "source": [
    "plt.hist(q3[:,4]) # followers"
   ]
  },
  {
   "cell_type": "code",
   "execution_count": 13,
   "id": "alpha-newark",
   "metadata": {},
   "outputs": [
    {
     "data": {
      "text/plain": [
       "Text(0, 0.5, 'followers')"
      ]
     },
     "execution_count": 13,
     "metadata": {},
     "output_type": "execute_result"
    },
    {
     "data": {
      "image/png": "[encoded data removed]",
      "text/plain": [
       "<Figure size 432x288 with 1 Axes>"
      ]
     },
     "metadata": {
      "needs_background": "light"
     },
     "output_type": "display_data"
    }
   ],
   "source": [
    "plt.scatter(q3[:,0] , q3[:,4])\n",
    "plt.xlabel('num tracks')\n",
    "plt.ylabel('followers')"
   ]
  },
  {
   "cell_type": "code",
   "execution_count": 14,
   "id": "guilty-belarus",
   "metadata": {},
   "outputs": [
    {
     "data": {
      "text/plain": [
       "Text(0, 0.5, 'followers')"
      ]
     },
     "execution_count": 14,
     "metadata": {},
     "output_type": "execute_result"
    },
    {
     "data": {
      "image/png": "[encoded data removed]",
      "text/plain": [
       "<Figure size 432x288 with 1 Axes>"
      ]
     },
     "metadata": {
      "needs_background": "light"
     },
     "output_type": "display_data"
    }
   ],
   "source": [
    "plt.scatter(q3[:,1]*1.66667e-5 , q3[:,4])\n",
    "plt.xlabel('total duration')\n",
    "plt.ylabel('followers')"
   ]
  },
  {
   "cell_type": "code",
   "execution_count": 15,
   "id": "sixth-spider",
   "metadata": {},
   "outputs": [
    {
     "data": {
      "text/plain": [
       "Text(0, 0.5, 'followers')"
      ]
     },
     "execution_count": 15,
     "metadata": {},
     "output_type": "execute_result"
    },
    {
     "data": {
      "image/png": "[encoded data removed]",
      "text/plain": [
       "<Figure size 432x288 with 1 Axes>"
      ]
     },
     "metadata": {
      "needs_background": "light"
     },
     "output_type": "display_data"
    }
   ],
   "source": [
    "plt.scatter(q3[:,2]*1.66667e-5 , q3[:,4])\n",
    "plt.xlabel('avg song duration')\n",
    "plt.ylabel('followers')"
   ]
  },
  {
   "cell_type": "code",
   "execution_count": 16,
   "id": "superior-lotus",
   "metadata": {},
   "outputs": [
    {
     "data": {
      "text/plain": [
       "Text(0, 0.5, 'followers')"
      ]
     },
     "execution_count": 16,
     "metadata": {},
     "output_type": "execute_result"
    },
    {
     "data": {
      "image/png": "[encoded data removed]",
      "text/plain": [
       "<Figure size 432x288 with 1 Axes>"
      ]
     },
     "metadata": {
      "needs_background": "light"
     },
     "output_type": "display_data"
    }
   ],
   "source": [
    "plt.scatter(q3[:,3] , q3[:,4])\n",
    "plt.xlabel('albums')\n",
    "plt.ylabel('followers')"
   ]
  },
  {
   "cell_type": "code",
   "execution_count": 17,
   "id": "continuous-decade",
   "metadata": {},
   "outputs": [
    {
     "name": "stdout",
     "output_type": "stream",
     "text": [
      "                            OLS Regression Results                            \n",
      "==============================================================================\n",
      "Dep. Variable:                      y   R-squared:                       0.000\n",
      "Model:                            OLS   Adj. R-squared:                  0.000\n",
      "Method:                 Least Squares   F-statistic:                     1.061\n",
      "Date:                Tue, 19 Apr 2022   Prob (F-statistic):              0.303\n",
      "Time:                        04:26:53   Log-Likelihood:            -1.7153e+06\n",
      "No. Observations:              245781   AIC:                         3.431e+06\n",
      "Df Residuals:                  245779   BIC:                         3.431e+06\n",
      "Df Model:                           1                                         \n",
      "Covariance Type:            nonrobust                                         \n",
      "==============================================================================\n",
      "                 coef    std err          t      P>|t|      [0.025      0.975]\n",
      "------------------------------------------------------------------------------\n",
      "const          6.7358      0.909      7.410      0.000       4.954       8.517\n",
      "x1             0.0093      0.009      1.030      0.303      -0.008       0.027\n",
      "==============================================================================\n",
      "Omnibus:                  1144751.940   Durbin-Watson:                   2.000\n",
      "Prob(Omnibus):                  0.000   Jarque-Bera (JB):   14048797365076.262\n",
      "Skew:                         168.878   Prob(JB):                         0.00\n",
      "Kurtosis:                   37039.760   Cond. No.                         174.\n",
      "==============================================================================\n",
      "\n",
      "Notes:\n",
      "[1] Standard Errors assume that the covariance matrix of the errors is correctly specified.\n"
     ]
    }
   ],
   "source": [
    "y = q3[:,4]\n",
    "x = q3[:,0]\n",
    "x = sm.add_constant(x)\n",
    "lr = sm.OLS(y, x).fit()\n",
    "# print(start, end)\n",
    "print(lr.summary())"
   ]
  },
  {
   "cell_type": "code",
   "execution_count": 18,
   "id": "combined-ensemble",
   "metadata": {},
   "outputs": [
    {
     "name": "stdout",
     "output_type": "stream",
     "text": [
      "                            OLS Regression Results                            \n",
      "==============================================================================\n",
      "Dep. Variable:                      y   R-squared:                       0.000\n",
      "Model:                            OLS   Adj. R-squared:                  0.000\n",
      "Method:                 Least Squares   F-statistic:                     1.265\n",
      "Date:                Tue, 19 Apr 2022   Prob (F-statistic):              0.261\n",
      "Time:                        04:26:53   Log-Likelihood:            -1.7153e+06\n",
      "No. Observations:              245781   AIC:                         3.431e+06\n",
      "Df Residuals:                  245779   BIC:                         3.431e+06\n",
      "Df Model:                           1                                         \n",
      "Covariance Type:            nonrobust                                         \n",
      "==============================================================================\n",
      "                 coef    std err          t      P>|t|      [0.025      0.975]\n",
      "------------------------------------------------------------------------------\n",
      "const          6.6835      0.896      7.460      0.000       4.927       8.440\n",
      "x1             0.0025      0.002      1.125      0.261      -0.002       0.007\n",
      "==============================================================================\n",
      "Omnibus:                  1144752.243   Durbin-Watson:                   2.000\n",
      "Prob(Omnibus):                  0.000   Jarque-Bera (JB):   14048824659574.424\n",
      "Skew:                         168.878   Prob(JB):                         0.00\n",
      "Kurtosis:                   37039.796   Cond. No.                         678.\n",
      "==============================================================================\n",
      "\n",
      "Notes:\n",
      "[1] Standard Errors assume that the covariance matrix of the errors is correctly specified.\n"
     ]
    }
   ],
   "source": [
    "y = q3[:,4]\n",
    "x = q3[:,1]*1.66667e-5\n",
    "x = sm.add_constant(x)\n",
    "lr = sm.OLS(y, x).fit()\n",
    "# print(start, end)\n",
    "print(lr.summary())"
   ]
  },
  {
   "cell_type": "code",
   "execution_count": 19,
   "id": "municipal-ground",
   "metadata": {},
   "outputs": [
    {
     "name": "stdout",
     "output_type": "stream",
     "text": [
      "                            OLS Regression Results                            \n",
      "==============================================================================\n",
      "Dep. Variable:                      y   R-squared:                       0.000\n",
      "Model:                            OLS   Adj. R-squared:                 -0.000\n",
      "Method:                 Least Squares   F-statistic:                    0.1455\n",
      "Date:                Tue, 19 Apr 2022   Prob (F-statistic):              0.703\n",
      "Time:                        04:26:53   Log-Likelihood:            -1.7153e+06\n",
      "No. Observations:              245781   AIC:                         3.431e+06\n",
      "Df Residuals:                  245779   BIC:                         3.431e+06\n",
      "Df Model:                           1                                         \n",
      "Covariance Type:            nonrobust                                         \n",
      "==============================================================================\n",
      "                 coef    std err          t      P>|t|      [0.025      0.975]\n",
      "------------------------------------------------------------------------------\n",
      "const          6.3666      3.019      2.109      0.035       0.450      12.283\n",
      "x1             0.2887      0.757      0.381      0.703      -1.195       1.772\n",
      "==============================================================================\n",
      "Omnibus:                  1144747.913   Durbin-Watson:                   2.000\n",
      "Prob(Omnibus):                  0.000   Jarque-Bera (JB):   14048181502817.955\n",
      "Skew:                         168.876   Prob(JB):                         0.00\n",
      "Kurtosis:                   37038.948   Cond. No.                         24.4\n",
      "==============================================================================\n",
      "\n",
      "Notes:\n",
      "[1] Standard Errors assume that the covariance matrix of the errors is correctly specified.\n"
     ]
    }
   ],
   "source": [
    "y = q3[:,4]\n",
    "x = q3[:,2]*1.66667e-5\n",
    "x = sm.add_constant(x)\n",
    "lr = sm.OLS(y, x).fit()\n",
    "# print(start, end)\n",
    "print(lr.summary())"
   ]
  },
  {
   "cell_type": "code",
   "execution_count": 20,
   "id": "parental-filter",
   "metadata": {},
   "outputs": [
    {
     "name": "stdout",
     "output_type": "stream",
     "text": [
      "                            OLS Regression Results                            \n",
      "==============================================================================\n",
      "Dep. Variable:                      y   R-squared:                       0.000\n",
      "Model:                            OLS   Adj. R-squared:                 -0.000\n",
      "Method:                 Least Squares   F-statistic:                    0.1968\n",
      "Date:                Tue, 19 Apr 2022   Prob (F-statistic):              0.657\n",
      "Time:                        04:26:53   Log-Likelihood:            -1.7153e+06\n",
      "No. Observations:              245781   AIC:                         3.431e+06\n",
      "Df Residuals:                  245779   BIC:                         3.431e+06\n",
      "Df Model:                           1                                         \n",
      "Covariance Type:            nonrobust                                         \n",
      "==============================================================================\n",
      "                 coef    std err          t      P>|t|      [0.025      0.975]\n",
      "------------------------------------------------------------------------------\n",
      "const          7.8290      0.907      8.632      0.000       6.051       9.607\n",
      "x1            -0.0053      0.012     -0.444      0.657      -0.029       0.018\n",
      "==============================================================================\n",
      "Omnibus:                  1144748.198   Durbin-Watson:                   2.000\n",
      "Prob(Omnibus):                  0.000   Jarque-Bera (JB):   14048289236913.674\n",
      "Skew:                         168.876   Prob(JB):                         0.00\n",
      "Kurtosis:                   37039.090   Cond. No.                         132.\n",
      "==============================================================================\n",
      "\n",
      "Notes:\n",
      "[1] Standard Errors assume that the covariance matrix of the errors is correctly specified.\n"
     ]
    }
   ],
   "source": [
    "y = q3[:,4]\n",
    "x = q3[:,3]\n",
    "x = sm.add_constant(x)\n",
    "lr = sm.OLS(y, x).fit()\n",
    "# print(start, end)\n",
    "print(lr.summary())"
   ]
  },
  {
   "cell_type": "code",
   "execution_count": 21,
   "id": "amazing-behavior",
   "metadata": {},
   "outputs": [
    {
     "name": "stdout",
     "output_type": "stream",
     "text": [
      "                            OLS Regression Results                            \n",
      "==============================================================================\n",
      "Dep. Variable:                      y   R-squared:                       0.000\n",
      "Model:                            OLS   Adj. R-squared:                  0.000\n",
      "Method:                 Least Squares   F-statistic:                     3.107\n",
      "Date:                Tue, 19 Apr 2022   Prob (F-statistic):             0.0144\n",
      "Time:                        04:26:53   Log-Likelihood:            -1.7153e+06\n",
      "No. Observations:              245781   AIC:                         3.431e+06\n",
      "Df Residuals:                  245776   BIC:                         3.431e+06\n",
      "Df Model:                           4                                         \n",
      "Covariance Type:            nonrobust                                         \n",
      "==============================================================================\n",
      "                 coef    std err          t      P>|t|      [0.025      0.975]\n",
      "------------------------------------------------------------------------------\n",
      "const          7.4201      4.358      1.703      0.089      -1.122      15.962\n",
      "x1             0.0474      0.065      0.730      0.465      -0.080       0.175\n",
      "x2          1.176e-07   2.61e-07      0.451      0.652   -3.93e-07    6.29e-07\n",
      "x3         -7.043e-07    1.8e-05     -0.039      0.969    -3.6e-05    3.46e-05\n",
      "x4            -0.0947      0.029     -3.324      0.001      -0.151      -0.039\n",
      "==============================================================================\n",
      "Omnibus:                  1144773.825   Durbin-Watson:                   2.000\n",
      "Prob(Omnibus):                  0.000   Jarque-Bera (JB):   14052197376713.051\n",
      "Skew:                         168.889   Prob(JB):                         0.00\n",
      "Kurtosis:                   37044.241   Cond. No.                     1.98e+08\n",
      "==============================================================================\n",
      "\n",
      "Notes:\n",
      "[1] Standard Errors assume that the covariance matrix of the errors is correctly specified.\n",
      "[2] The condition number is large, 1.98e+08. This might indicate that there are\n",
      "strong multicollinearity or other numerical problems.\n"
     ]
    }
   ],
   "source": [
    "x = q3[:, :4]\n",
    "y = q3[:,4]\n",
    "x = sm.add_constant(x)\n",
    "lr = sm.OLS(y, x).fit()\n",
    "# print(start, end)\n",
    "print(lr.summary())"
   ]
  },
  {
   "cell_type": "code",
   "execution_count": 22,
   "id": "alpine-objective",
   "metadata": {},
   "outputs": [
    {
     "name": "stdout",
     "output_type": "stream",
     "text": [
      "                            OLS Regression Results                            \n",
      "==============================================================================\n",
      "Dep. Variable:                      y   R-squared:                       0.013\n",
      "Model:                            OLS   Adj. R-squared:                  0.013\n",
      "Method:                 Least Squares   F-statistic:                     3312.\n",
      "Date:                Tue, 19 Apr 2022   Prob (F-statistic):               0.00\n",
      "Time:                        04:26:54   Log-Likelihood:            -2.0854e+05\n",
      "No. Observations:              245781   AIC:                         4.171e+05\n",
      "Df Residuals:                  245779   BIC:                         4.171e+05\n",
      "Df Model:                           1                                         \n",
      "Covariance Type:            nonrobust                                         \n",
      "==============================================================================\n",
      "                 coef    std err          t      P>|t|      [0.025      0.975]\n",
      "------------------------------------------------------------------------------\n",
      "const          0.9087      0.002    459.518      0.000       0.905       0.913\n",
      "x1             0.0011   1.97e-05     57.549      0.000       0.001       0.001\n",
      "==============================================================================\n",
      "Omnibus:                   222711.062   Durbin-Watson:                   1.997\n",
      "Prob(Omnibus):                  0.000   Jarque-Bera (JB):         11777246.368\n",
      "Skew:                           4.252   Prob(JB):                         0.00\n",
      "Kurtosis:                      35.828   Cond. No.                         174.\n",
      "==============================================================================\n",
      "\n",
      "Notes:\n",
      "[1] Standard Errors assume that the covariance matrix of the errors is correctly specified.\n"
     ]
    }
   ],
   "source": [
    "y = np.log(q3[:,4])\n",
    "x = q3[:,0]\n",
    "x = sm.add_constant(x)\n",
    "lr = sm.OLS(y, x).fit()\n",
    "# print(start, end)\n",
    "print(lr.summary())"
   ]
  },
  {
   "cell_type": "code",
   "execution_count": 23,
   "id": "pregnant-nebraska",
   "metadata": {},
   "outputs": [
    {
     "name": "stdout",
     "output_type": "stream",
     "text": [
      "                            OLS Regression Results                            \n",
      "==============================================================================\n",
      "Dep. Variable:                      y   R-squared:                       0.013\n",
      "Model:                            OLS   Adj. R-squared:                  0.013\n",
      "Method:                 Least Squares   F-statistic:                     3290.\n",
      "Date:                Tue, 19 Apr 2022   Prob (F-statistic):               0.00\n",
      "Time:                        04:26:54   Log-Likelihood:            -2.0856e+05\n",
      "No. Observations:              245781   AIC:                         4.171e+05\n",
      "Df Residuals:                  245779   BIC:                         4.171e+05\n",
      "Df Model:                           1                                         \n",
      "Covariance Type:            nonrobust                                         \n",
      "==============================================================================\n",
      "                 coef    std err          t      P>|t|      [0.025      0.975]\n",
      "------------------------------------------------------------------------------\n",
      "const          0.9110      0.002    467.370      0.000       0.907       0.915\n",
      "x1             0.0003   4.92e-06     57.358      0.000       0.000       0.000\n",
      "==============================================================================\n",
      "Omnibus:                   222727.597   Durbin-Watson:                   1.997\n",
      "Prob(Omnibus):                  0.000   Jarque-Bera (JB):         11780321.043\n",
      "Skew:                           4.253   Prob(JB):                         0.00\n",
      "Kurtosis:                      35.833   Cond. No.                         678.\n",
      "==============================================================================\n",
      "\n",
      "Notes:\n",
      "[1] Standard Errors assume that the covariance matrix of the errors is correctly specified.\n"
     ]
    }
   ],
   "source": [
    "y = np.log(q3[:,4])\n",
    "x = q3[:,1]*1.66667e-5\n",
    "x = sm.add_constant(x)\n",
    "lr = sm.OLS(y, x).fit()\n",
    "# print(start, end)\n",
    "print(lr.summary())"
   ]
  },
  {
   "cell_type": "code",
   "execution_count": 24,
   "id": "velvet-moral",
   "metadata": {},
   "outputs": [
    {
     "name": "stdout",
     "output_type": "stream",
     "text": [
      "                            OLS Regression Results                            \n",
      "==============================================================================\n",
      "Dep. Variable:                      y   R-squared:                       0.000\n",
      "Model:                            OLS   Adj. R-squared:                  0.000\n",
      "Method:                 Least Squares   F-statistic:                     35.78\n",
      "Date:                Tue, 19 Apr 2022   Prob (F-statistic):           2.21e-09\n",
      "Time:                        04:26:54   Log-Likelihood:            -2.1017e+05\n",
      "No. Observations:              245781   AIC:                         4.203e+05\n",
      "Df Residuals:                  245779   BIC:                         4.204e+05\n",
      "Df Model:                           1                                         \n",
      "Covariance Type:            nonrobust                                         \n",
      "==============================================================================\n",
      "                 coef    std err          t      P>|t|      [0.025      0.975]\n",
      "------------------------------------------------------------------------------\n",
      "const          0.9627      0.007    145.636      0.000       0.950       0.976\n",
      "x1             0.0099      0.002      5.982      0.000       0.007       0.013\n",
      "==============================================================================\n",
      "Omnibus:                   221082.887   Durbin-Watson:                   1.997\n",
      "Prob(Omnibus):                  0.000   Jarque-Bera (JB):         11257009.810\n",
      "Skew:                           4.216   Prob(JB):                         0.00\n",
      "Kurtosis:                      35.064   Cond. No.                         24.4\n",
      "==============================================================================\n",
      "\n",
      "Notes:\n",
      "[1] Standard Errors assume that the covariance matrix of the errors is correctly specified.\n"
     ]
    }
   ],
   "source": [
    "y = np.log(q3[:,4])\n",
    "x = q3[:,2]*1.66667e-5\n",
    "x = sm.add_constant(x)\n",
    "lr = sm.OLS(y, x).fit()\n",
    "# print(start, end)\n",
    "print(lr.summary())"
   ]
  },
  {
   "cell_type": "code",
   "execution_count": 26,
   "id": "abroad-pepper",
   "metadata": {},
   "outputs": [
    {
     "name": "stdout",
     "output_type": "stream",
     "text": [
      "                            OLS Regression Results                            \n",
      "==============================================================================\n",
      "Dep. Variable:                      y   R-squared:                       0.013\n",
      "Model:                            OLS   Adj. R-squared:                  0.013\n",
      "Method:                 Least Squares   F-statistic:                     3113.\n",
      "Date:                Tue, 19 Apr 2022   Prob (F-statistic):               0.00\n",
      "Time:                        04:27:38   Log-Likelihood:            -2.0864e+05\n",
      "No. Observations:              245781   AIC:                         4.173e+05\n",
      "Df Residuals:                  245779   BIC:                         4.173e+05\n",
      "Df Model:                           1                                         \n",
      "Covariance Type:            nonrobust                                         \n",
      "==============================================================================\n",
      "                 coef    std err          t      P>|t|      [0.025      0.975]\n",
      "------------------------------------------------------------------------------\n",
      "const          0.9118      0.002    461.964      0.000       0.908       0.916\n",
      "x1             0.0014   2.58e-05     55.790      0.000       0.001       0.001\n",
      "==============================================================================\n",
      "Omnibus:                   223397.406   Durbin-Watson:                   1.997\n",
      "Prob(Omnibus):                  0.000   Jarque-Bera (JB):         11922519.744\n",
      "Skew:                           4.270   Prob(JB):                         0.00\n",
      "Kurtosis:                      36.034   Cond. No.                         132.\n",
      "==============================================================================\n",
      "\n",
      "Notes:\n",
      "[1] Standard Errors assume that the covariance matrix of the errors is correctly specified.\n"
     ]
    }
   ],
   "source": [
    "y = np.log(q3[:,4])\n",
    "x = q3[:,3]\n",
    "x = sm.add_constant(x)\n",
    "lr = sm.OLS(y, x).fit()\n",
    "# print(start, end)\n",
    "print(lr.summary())"
   ]
  },
  {
   "cell_type": "code",
   "execution_count": 27,
   "id": "oriented-basis",
   "metadata": {},
   "outputs": [
    {
     "name": "stdout",
     "output_type": "stream",
     "text": [
      "                            OLS Regression Results                            \n",
      "==============================================================================\n",
      "Dep. Variable:                      y   R-squared:                       0.021\n",
      "Model:                            OLS   Adj. R-squared:                  0.021\n",
      "Method:                 Least Squares   F-statistic:                     5372.\n",
      "Date:                Tue, 19 Apr 2022   Prob (F-statistic):               0.00\n",
      "Time:                        04:27:51   Log-Likelihood:             4.3583e+05\n",
      "No. Observations:              245781   AIC:                        -8.717e+05\n",
      "Df Residuals:                  245779   BIC:                        -8.716e+05\n",
      "Df Model:                           1                                         \n",
      "Covariance Type:            nonrobust                                         \n",
      "==============================================================================\n",
      "                 coef    std err          t      P>|t|      [0.025      0.975]\n",
      "------------------------------------------------------------------------------\n",
      "const          0.3913      0.000   2722.985      0.000       0.391       0.392\n",
      "x1             0.0001   1.43e-06     73.291      0.000       0.000       0.000\n",
      "==============================================================================\n",
      "Omnibus:                   268782.609   Durbin-Watson:                   1.993\n",
      "Prob(Omnibus):                  0.000   Jarque-Bera (JB):            32158.097\n",
      "Skew:                           0.645   Prob(JB):                         0.00\n",
      "Kurtosis:                       1.784   Cond. No.                         174.\n",
      "==============================================================================\n",
      "\n",
      "Notes:\n",
      "[1] Standard Errors assume that the covariance matrix of the errors is correctly specified.\n",
      "                            OLS Regression Results                            \n",
      "==============================================================================\n",
      "Dep. Variable:                      y   R-squared:                       0.021\n",
      "Model:                            OLS   Adj. R-squared:                  0.021\n",
      "Method:                 Least Squares   F-statistic:                     5346.\n",
      "Date:                Tue, 19 Apr 2022   Prob (F-statistic):               0.00\n",
      "Time:                        04:27:51   Log-Likelihood:             4.3582e+05\n",
      "No. Observations:              245781   AIC:                        -8.716e+05\n",
      "Df Residuals:                  245779   BIC:                        -8.716e+05\n",
      "Df Model:                           1                                         \n",
      "Covariance Type:            nonrobust                                         \n",
      "==============================================================================\n",
      "                 coef    std err          t      P>|t|      [0.025      0.975]\n",
      "------------------------------------------------------------------------------\n",
      "const          0.3915      0.000   2763.943      0.000       0.391       0.392\n",
      "x1          2.612e-05   3.57e-07     73.120      0.000    2.54e-05    2.68e-05\n",
      "==============================================================================\n",
      "Omnibus:                   268413.816   Durbin-Watson:                   1.993\n",
      "Prob(Omnibus):                  0.000   Jarque-Bera (JB):            32150.943\n",
      "Skew:                           0.645   Prob(JB):                         0.00\n",
      "Kurtosis:                       1.784   Cond. No.                         678.\n",
      "==============================================================================\n",
      "\n",
      "Notes:\n",
      "[1] Standard Errors assume that the covariance matrix of the errors is correctly specified.\n",
      "                            OLS Regression Results                            \n",
      "==============================================================================\n",
      "Dep. Variable:                      y   R-squared:                       0.000\n",
      "Model:                            OLS   Adj. R-squared:                  0.000\n",
      "Method:                 Least Squares   F-statistic:                     49.67\n",
      "Date:                Tue, 19 Apr 2022   Prob (F-statistic):           1.83e-12\n",
      "Time:                        04:27:51   Log-Likelihood:             4.3320e+05\n",
      "No. Observations:              245781   AIC:                        -8.664e+05\n",
      "Df Residuals:                  245779   BIC:                        -8.664e+05\n",
      "Df Model:                           1                                         \n",
      "Covariance Type:            nonrobust                                         \n",
      "==============================================================================\n",
      "                 coef    std err          t      P>|t|      [0.025      0.975]\n",
      "------------------------------------------------------------------------------\n",
      "const          0.3966      0.000    822.135      0.000       0.396       0.398\n",
      "x1             0.0009      0.000      7.047      0.000       0.001       0.001\n",
      "==============================================================================\n",
      "Omnibus:                   488276.370   Durbin-Watson:                   1.993\n",
      "Prob(Omnibus):                  0.000   Jarque-Bera (JB):            34701.311\n",
      "Skew:                           0.668   Prob(JB):                         0.00\n",
      "Kurtosis:                       1.734   Cond. No.                         24.4\n",
      "==============================================================================\n",
      "\n",
      "Notes:\n",
      "[1] Standard Errors assume that the covariance matrix of the errors is correctly specified.\n",
      "                            OLS Regression Results                            \n",
      "==============================================================================\n",
      "Dep. Variable:                      y   R-squared:                       0.023\n",
      "Model:                            OLS   Adj. R-squared:                  0.023\n",
      "Method:                 Least Squares   F-statistic:                     5810.\n",
      "Date:                Tue, 19 Apr 2022   Prob (F-statistic):               0.00\n",
      "Time:                        04:27:51   Log-Likelihood:             4.3605e+05\n",
      "No. Observations:              245781   AIC:                        -8.721e+05\n",
      "Df Residuals:                  245779   BIC:                        -8.721e+05\n",
      "Df Model:                           1                                         \n",
      "Covariance Type:            nonrobust                                         \n",
      "==============================================================================\n",
      "                 coef    std err          t      P>|t|      [0.025      0.975]\n",
      "------------------------------------------------------------------------------\n",
      "const          0.3910      0.000   2729.465      0.000       0.391       0.391\n",
      "x1             0.0001   1.87e-06     76.226      0.000       0.000       0.000\n",
      "==============================================================================\n",
      "Omnibus:                   240904.788   Durbin-Watson:                   1.993\n",
      "Prob(Omnibus):                  0.000   Jarque-Bera (JB):            31925.721\n",
      "Skew:                           0.646   Prob(JB):                         0.00\n",
      "Kurtosis:                       1.796   Cond. No.                         132.\n",
      "==============================================================================\n",
      "\n",
      "Notes:\n",
      "[1] Standard Errors assume that the covariance matrix of the errors is correctly specified.\n",
      "                            OLS Regression Results                            \n",
      "==============================================================================\n",
      "Dep. Variable:                      y   R-squared:                       0.024\n",
      "Model:                            OLS   Adj. R-squared:                  0.024\n",
      "Method:                 Least Squares   F-statistic:                     1493.\n",
      "Date:                Tue, 19 Apr 2022   Prob (F-statistic):               0.00\n",
      "Time:                        04:27:52   Log-Likelihood:             4.3613e+05\n",
      "No. Observations:              245781   AIC:                        -8.722e+05\n",
      "Df Residuals:                  245776   BIC:                        -8.722e+05\n",
      "Df Model:                           4                                         \n",
      "Covariance Type:            nonrobust                                         \n",
      "==============================================================================\n",
      "                 coef    std err          t      P>|t|      [0.025      0.975]\n",
      "------------------------------------------------------------------------------\n",
      "const          0.3876      0.001    563.208      0.000       0.386       0.389\n",
      "x1          2.131e-05   1.03e-05      2.078      0.038    1.21e-06    4.14e-05\n",
      "x2          5.235e-11   4.12e-11      1.272      0.203   -2.83e-11    1.33e-10\n",
      "x3          1.328e-08   2.84e-09      4.668      0.000     7.7e-09    1.89e-08\n",
      "x4             0.0001    4.5e-06     22.853      0.000     9.4e-05       0.000\n",
      "==============================================================================\n",
      "Omnibus:                   242179.886   Durbin-Watson:                   1.993\n",
      "Prob(Omnibus):                  0.000   Jarque-Bera (JB):            31840.367\n",
      "Skew:                           0.644   Prob(JB):                         0.00\n",
      "Kurtosis:                       1.795   Cond. No.                     1.98e+08\n",
      "==============================================================================\n",
      "\n",
      "Notes:\n",
      "[1] Standard Errors assume that the covariance matrix of the errors is correctly specified.\n",
      "[2] The condition number is large, 1.98e+08. This might indicate that there are\n",
      "strong multicollinearity or other numerical problems.\n"
     ]
    }
   ],
   "source": [
    "y,_ = stats.boxcox(q3[:,4])\n",
    "\n",
    "x = q3[:,0]\n",
    "x = sm.add_constant(x)\n",
    "lr = sm.OLS(y, x).fit()\n",
    "# print(start, end)\n",
    "print(lr.summary())\n",
    "\n",
    "x = q3[:,1]*1.66667e-5\n",
    "x = sm.add_constant(x)\n",
    "lr = sm.OLS(y, x).fit()\n",
    "# print(start, end)\n",
    "print(lr.summary())\n",
    "\n",
    "\n",
    "x = q3[:,2]*1.66667e-5\n",
    "x = sm.add_constant(x)\n",
    "lr = sm.OLS(y, x).fit()\n",
    "# print(start, end)\n",
    "print(lr.summary())\n",
    "\n",
    "x = q3[:,3]\n",
    "x = sm.add_constant(x)\n",
    "lr = sm.OLS(y, x).fit()\n",
    "# print(start, end)\n",
    "print(lr.summary())\n",
    "\n",
    "\n",
    "x = q3[:, :4]\n",
    "x = sm.add_constant(x)\n",
    "lr = sm.OLS(y, x).fit()\n",
    "# print(start, end)\n",
    "print(lr.summary())"
   ]
  },
  {
   "cell_type": "code",
   "execution_count": null,
   "id": "strong-helmet",
   "metadata": {},
   "outputs": [],
   "source": []
  },
  {
   "cell_type": "code",
   "execution_count": null,
   "id": "hungry-atlas",
   "metadata": {},
   "outputs": [],
   "source": []
  }
 ],
 "metadata": {
  "kernelspec": {
   "display_name": "Python 3",
   "language": "python",
   "name": "python3"
  },
  "language_info": {
   "codemirror_mode": {
    "name": "ipython",
    "version": 3
   },
   "file_extension": ".py",
   "mimetype": "text/x-python",
   "name": "python",
   "nbconvert_exporter": "python",
   "pygments_lexer": "ipython3",
   "version": "3.8.10"
  }
 },
 "nbformat": 4,
 "nbformat_minor": 5
}
