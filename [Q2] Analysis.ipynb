{
 "cells": [
  {
   "cell_type": "markdown",
   "id": "introductory-configuration",
   "metadata": {},
   "source": [
    "### How does the popularity of authors within a playlist affect the popularity of the playlist itself?"
   ]
  },
  {
   "cell_type": "code",
   "execution_count": 121,
   "id": "backed-socket",
   "metadata": {},
   "outputs": [],
   "source": [
    "import matplotlib.pyplot as plt\n",
    "import pickle\n",
    "import numpy as np\n",
    "import scipy.stats as stats\n"
   ]
  },
  {
   "cell_type": "code",
   "execution_count": 2,
   "id": "pleasant-camcorder",
   "metadata": {},
   "outputs": [],
   "source": [
    "with open('mappings/Q2/playlist_data.pkl', 'rb') as fp:\n",
    "    playlist_data = pickle.load(fp)"
   ]
  },
  {
   "cell_type": "markdown",
   "id": "secret-terrain",
   "metadata": {},
   "source": [
    "### Total Artist Popularity vs Followers"
   ]
  },
  {
   "cell_type": "code",
   "execution_count": 3,
   "id": "sophisticated-direction",
   "metadata": {},
   "outputs": [],
   "source": [
    "tap_pop = []\n",
    "for k,v in playlist_data.items():\n",
    "    pop_data = v[0]\n",
    "    total_pop = 0\n",
    "    authors = 0\n",
    "    for pop, auth in pop_data:\n",
    "        total_pop += pop\n",
    "        authors += auth\n",
    "    followers = v[1]\n",
    "    tap_pop.append((total_pop/authors, followers))\n",
    "        \n",
    "#     total_pop = sum([x[0] for x in pop_data])\n",
    "#     authors = sum([x[1] for x in pop_data])\n",
    "#     tap_pop.append((total_pop/authors, followers))"
   ]
  },
  {
   "cell_type": "code",
   "execution_count": 4,
   "id": "asian-aquarium",
   "metadata": {},
   "outputs": [
    {
     "data": {
      "text/plain": [
       "[(33.35849056603774, 1), (78.19594594594595, 1)]"
      ]
     },
     "execution_count": 4,
     "metadata": {},
     "output_type": "execute_result"
    }
   ],
   "source": [
    "tap_pop[:2]"
   ]
  },
  {
   "cell_type": "code",
   "execution_count": 106,
   "id": "architectural-absorption",
   "metadata": {},
   "outputs": [],
   "source": [
    "tap = np.asarray(tap_pop)"
   ]
  },
  {
   "cell_type": "code",
   "execution_count": 6,
   "id": "municipal-serum",
   "metadata": {},
   "outputs": [
    {
     "data": {
      "text/plain": [
       "array([[33.35849057,  1.        ],\n",
       "       [78.19594595,  1.        ],\n",
       "       [74.58267717,  1.        ]])"
      ]
     },
     "execution_count": 6,
     "metadata": {},
     "output_type": "execute_result"
    }
   ],
   "source": [
    "tap_pop[:3]"
   ]
  },
  {
   "cell_type": "code",
   "execution_count": 7,
   "id": "comparable-upgrade",
   "metadata": {},
   "outputs": [
    {
     "data": {
      "text/plain": [
       "array([   97.23809524, 71643.        ])"
      ]
     },
     "execution_count": 7,
     "metadata": {},
     "output_type": "execute_result"
    }
   ],
   "source": [
    "np.max(tap_pop, axis=0)"
   ]
  },
  {
   "cell_type": "code",
   "execution_count": 16,
   "id": "classified-grant",
   "metadata": {},
   "outputs": [
    {
     "data": {
      "text/plain": [
       "<matplotlib.collections.PathCollection at 0x7fbf3a525dc0>"
      ]
     },
     "execution_count": 16,
     "metadata": {},
     "output_type": "execute_result"
    },
    {
     "data": {
      "image/png": "[encoded data removed]",
      "text/plain": [
       "<Figure size 432x288 with 1 Axes>"
      ]
     },
     "metadata": {
      "needs_background": "light"
     },
     "output_type": "display_data"
    }
   ],
   "source": [
    "plt.scatter(tap_pop[:,0], tap_pop[:,1])"
   ]
  },
  {
   "cell_type": "code",
   "execution_count": 22,
   "id": "sustainable-sacramento",
   "metadata": {},
   "outputs": [
    {
     "data": {
      "text/plain": [
       "(array([   212,    831,   2976,  10751,  39805, 117978, 252558, 391090,\n",
       "        177078,   6721]),\n",
       " array([ 0.        ,  9.72380952, 19.44761905, 29.17142857, 38.8952381 ,\n",
       "        48.61904762, 58.34285714, 68.06666667, 77.79047619, 87.51428571,\n",
       "        97.23809524]))"
      ]
     },
     "execution_count": 22,
     "metadata": {},
     "output_type": "execute_result"
    }
   ],
   "source": [
    "np.histogram(tap_pop[:,0], bins=10)"
   ]
  },
  {
   "cell_type": "code",
   "execution_count": 38,
   "id": "active-journal",
   "metadata": {},
   "outputs": [],
   "source": [
    "bins = list(range(0,101,1))"
   ]
  },
  {
   "cell_type": "code",
   "execution_count": 39,
   "id": "foreign-blast",
   "metadata": {},
   "outputs": [
    {
     "data": {
      "text/plain": [
       "(array([1.1000e+01, 9.0000e+00, 9.0000e+00, 1.7000e+01, 3.0000e+01,\n",
       "        1.8000e+01, 2.8000e+01, 2.7000e+01, 3.4000e+01, 4.1000e+01,\n",
       "        5.2000e+01, 3.5000e+01, 4.8000e+01, 5.1000e+01, 8.1000e+01,\n",
       "        1.0600e+02, 1.1500e+02, 1.1900e+02, 1.4100e+02, 1.5100e+02,\n",
       "        1.6900e+02, 1.9500e+02, 2.4100e+02, 2.6200e+02, 3.1100e+02,\n",
       "        3.3200e+02, 3.7300e+02, 4.0700e+02, 5.2200e+02, 5.5700e+02,\n",
       "        6.1200e+02, 7.1700e+02, 8.7700e+02, 9.1700e+02, 1.1090e+03,\n",
       "        1.2650e+03, 1.4210e+03, 1.7050e+03, 1.8340e+03, 2.1440e+03,\n",
       "        2.5290e+03, 2.9280e+03, 3.1490e+03, 3.6660e+03, 4.3050e+03,\n",
       "        4.8690e+03, 5.5270e+03, 6.1140e+03, 7.0490e+03, 7.7320e+03,\n",
       "        8.7720e+03, 9.5580e+03, 1.0625e+04, 1.1893e+04, 1.2883e+04,\n",
       "        1.4360e+04, 1.5861e+04, 1.7241e+04, 1.8772e+04, 2.0593e+04,\n",
       "        2.2077e+04, 2.3370e+04, 2.4711e+04, 2.6063e+04, 2.7474e+04,\n",
       "        2.9169e+04, 3.1017e+04, 3.3034e+04, 3.5779e+04, 3.8482e+04,\n",
       "        4.1129e+04, 4.2716e+04, 4.3047e+04, 4.1883e+04, 4.1130e+04,\n",
       "        4.0017e+04, 3.9212e+04, 3.7848e+04, 3.5859e+04, 3.2307e+04,\n",
       "        2.8158e+04, 2.3026e+04, 1.7754e+04, 1.2671e+04, 8.8950e+03,\n",
       "        5.8580e+03, 3.6970e+03, 2.4910e+03, 1.6770e+03, 1.0770e+03,\n",
       "        9.1000e+02, 7.5200e+02, 5.6700e+02, 2.8500e+02, 1.8400e+02,\n",
       "        1.1600e+02, 3.8000e+01, 1.0000e+00, 0.0000e+00, 0.0000e+00]),\n",
       " array([  0,   1,   2,   3,   4,   5,   6,   7,   8,   9,  10,  11,  12,\n",
       "         13,  14,  15,  16,  17,  18,  19,  20,  21,  22,  23,  24,  25,\n",
       "         26,  27,  28,  29,  30,  31,  32,  33,  34,  35,  36,  37,  38,\n",
       "         39,  40,  41,  42,  43,  44,  45,  46,  47,  48,  49,  50,  51,\n",
       "         52,  53,  54,  55,  56,  57,  58,  59,  60,  61,  62,  63,  64,\n",
       "         65,  66,  67,  68,  69,  70,  71,  72,  73,  74,  75,  76,  77,\n",
       "         78,  79,  80,  81,  82,  83,  84,  85,  86,  87,  88,  89,  90,\n",
       "         91,  92,  93,  94,  95,  96,  97,  98,  99, 100]),\n",
       " <BarContainer object of 100 artists>)"
      ]
     },
     "execution_count": 39,
     "metadata": {},
     "output_type": "execute_result"
    },
    {
     "data": {
      "image/png": "[encoded data removed]",
      "text/plain": [
       "<Figure size 432x288 with 1 Axes>"
      ]
     },
     "metadata": {
      "needs_background": "light"
     },
     "output_type": "display_data"
    }
   ],
   "source": [
    "plt.hist(tap_pop[:,0], bins)"
   ]
  },
  {
   "cell_type": "code",
   "execution_count": 46,
   "id": "mediterranean-lounge",
   "metadata": {},
   "outputs": [],
   "source": [
    "mask = [65 <= x and x <= 80 for x in tap_pop[:,0]]"
   ]
  },
  {
   "cell_type": "code",
   "execution_count": 47,
   "id": "unique-accuracy",
   "metadata": {},
   "outputs": [
    {
     "data": {
      "text/plain": [
       "[False,\n",
       " True,\n",
       " True,\n",
       " True,\n",
       " True,\n",
       " True,\n",
       " True,\n",
       " False,\n",
       " False,\n",
       " True,\n",
       " False,\n",
       " False,\n",
       " False,\n",
       " False,\n",
       " False,\n",
       " True,\n",
       " False,\n",
       " True,\n",
       " True,\n",
       " True,\n",
       " False,\n",
       " False,\n",
       " True,\n",
       " False,\n",
       " False,\n",
       " True,\n",
       " True,\n",
       " True,\n",
       " True,\n",
       " True,\n",
       " True,\n",
       " False,\n",
       " True,\n",
       " True,\n",
       " False,\n",
       " False,\n",
       " False,\n",
       " True,\n",
       " True,\n",
       " False,\n",
       " True,\n",
       " True,\n",
       " False,\n",
       " False,\n",
       " False,\n",
       " False,\n",
       " True,\n",
       " False,\n",
       " False,\n",
       " False,\n",
       " True,\n",
       " False,\n",
       " False,\n",
       " True,\n",
       " False,\n",
       " True,\n",
       " True,\n",
       " True,\n",
       " False,\n",
       " False,\n",
       " True,\n",
       " True,\n",
       " False,\n",
       " True,\n",
       " True,\n",
       " False,\n",
       " True,\n",
       " True,\n",
       " True,\n",
       " False,\n",
       " True,\n",
       " False,\n",
       " False,\n",
       " True,\n",
       " False,\n",
       " True,\n",
       " False,\n",
       " True,\n",
       " True,\n",
       " False,\n",
       " True,\n",
       " True,\n",
       " False,\n",
       " False,\n",
       " False,\n",
       " True,\n",
       " True,\n",
       " True,\n",
       " True,\n",
       " True,\n",
       " False,\n",
       " False,\n",
       " True,\n",
       " False,\n",
       " True,\n",
       " False,\n",
       " False,\n",
       " False,\n",
       " True,\n",
       " False,\n",
       " False,\n",
       " True,\n",
       " False,\n",
       " False,\n",
       " False,\n",
       " True,\n",
       " False,\n",
       " False,\n",
       " True,\n",
       " False,\n",
       " False,\n",
       " True,\n",
       " True,\n",
       " True,\n",
       " False,\n",
       " True,\n",
       " True,\n",
       " False,\n",
       " True,\n",
       " False,\n",
       " False,\n",
       " True,\n",
       " True,\n",
       " False,\n",
       " True,\n",
       " False,\n",
       " False,\n",
       " False,\n",
       " False,\n",
       " False,\n",
       " False,\n",
       " False,\n",
       " True,\n",
       " False,\n",
       " False,\n",
       " True,\n",
       " False,\n",
       " True,\n",
       " False,\n",
       " True,\n",
       " False,\n",
       " False,\n",
       " True,\n",
       " True,\n",
       " True,\n",
       " True,\n",
       " True,\n",
       " False,\n",
       " True,\n",
       " True,\n",
       " True,\n",
       " False,\n",
       " True,\n",
       " True,\n",
       " True,\n",
       " False,\n",
       " True,\n",
       " True,\n",
       " True,\n",
       " False,\n",
       " True,\n",
       " False,\n",
       " True,\n",
       " False,\n",
       " False,\n",
       " False,\n",
       " True,\n",
       " True,\n",
       " False,\n",
       " True,\n",
       " True,\n",
       " True,\n",
       " True,\n",
       " True,\n",
       " False,\n",
       " True,\n",
       " True,\n",
       " True,\n",
       " False,\n",
       " False,\n",
       " False,\n",
       " False,\n",
       " True,\n",
       " True,\n",
       " False,\n",
       " True,\n",
       " True,\n",
       " True,\n",
       " False,\n",
       " True,\n",
       " False,\n",
       " True,\n",
       " True,\n",
       " False,\n",
       " True,\n",
       " False,\n",
       " False,\n",
       " False,\n",
       " True,\n",
       " False,\n",
       " True,\n",
       " False,\n",
       " True,\n",
       " False,\n",
       " False,\n",
       " False,\n",
       " False,\n",
       " True,\n",
       " True,\n",
       " True,\n",
       " False,\n",
       " False,\n",
       " True,\n",
       " True,\n",
       " False,\n",
       " False,\n",
       " True,\n",
       " True,\n",
       " True,\n",
       " False,\n",
       " False,\n",
       " True,\n",
       " False,\n",
       " False,\n",
       " True,\n",
       " False,\n",
       " False,\n",
       " False,\n",
       " False,\n",
       " False,\n",
       " True,\n",
       " False,\n",
       " True,\n",
       " True,\n",
       " True,\n",
       " True,\n",
       " False,\n",
       " False,\n",
       " True,\n",
       " True,\n",
       " True,\n",
       " True,\n",
       " True,\n",
       " True,\n",
       " False,\n",
       " False,\n",
       " True,\n",
       " True,\n",
       " False,\n",
       " False,\n",
       " True,\n",
       " False,\n",
       " True,\n",
       " True,\n",
       " False,\n",
       " False,\n",
       " False,\n",
       " True,\n",
       " False,\n",
       " True,\n",
       " False,\n",
       " True,\n",
       " False,\n",
       " False,\n",
       " True,\n",
       " True,\n",
       " True,\n",
       " False,\n",
       " True,\n",
       " True,\n",
       " True,\n",
       " False,\n",
       " True,\n",
       " True,\n",
       " False,\n",
       " True,\n",
       " True,\n",
       " True,\n",
       " False,\n",
       " False,\n",
       " True,\n",
       " False,\n",
       " True,\n",
       " True,\n",
       " True,\n",
       " True,\n",
       " True,\n",
       " False,\n",
       " True,\n",
       " True,\n",
       " True,\n",
       " False,\n",
       " False,\n",
       " False,\n",
       " False,\n",
       " True,\n",
       " True,\n",
       " False,\n",
       " False,\n",
       " False,\n",
       " True,\n",
       " False,\n",
       " False,\n",
       " True,\n",
       " True,\n",
       " False,\n",
       " True,\n",
       " True,\n",
       " False,\n",
       " True,\n",
       " False,\n",
       " True,\n",
       " True,\n",
       " True,\n",
       " False,\n",
       " True,\n",
       " True,\n",
       " True,\n",
       " True,\n",
       " True,\n",
       " True,\n",
       " False,\n",
       " True,\n",
       " False,\n",
       " False,\n",
       " False,\n",
       " True,\n",
       " True,\n",
       " False,\n",
       " True,\n",
       " False,\n",
       " True,\n",
       " True,\n",
       " False,\n",
       " True,\n",
       " True,\n",
       " True,\n",
       " True,\n",
       " False,\n",
       " True,\n",
       " False,\n",
       " True,\n",
       " False,\n",
       " True,\n",
       " False,\n",
       " True,\n",
       " False,\n",
       " True,\n",
       " True,\n",
       " False,\n",
       " True,\n",
       " True,\n",
       " True,\n",
       " False,\n",
       " True,\n",
       " True,\n",
       " False,\n",
       " False,\n",
       " False,\n",
       " True,\n",
       " False,\n",
       " False,\n",
       " True,\n",
       " True,\n",
       " False,\n",
       " False,\n",
       " False,\n",
       " False,\n",
       " True,\n",
       " False,\n",
       " True,\n",
       " False,\n",
       " False,\n",
       " True,\n",
       " False,\n",
       " True,\n",
       " False,\n",
       " True,\n",
       " True,\n",
       " False,\n",
       " True,\n",
       " True,\n",
       " False,\n",
       " True,\n",
       " False,\n",
       " False,\n",
       " False,\n",
       " False,\n",
       " True,\n",
       " True,\n",
       " False,\n",
       " False,\n",
       " False,\n",
       " False,\n",
       " False,\n",
       " True,\n",
       " True,\n",
       " False,\n",
       " True,\n",
       " False,\n",
       " False,\n",
       " False,\n",
       " False,\n",
       " False,\n",
       " True,\n",
       " False,\n",
       " False,\n",
       " True,\n",
       " False,\n",
       " True,\n",
       " True,\n",
       " True,\n",
       " True,\n",
       " False,\n",
       " False,\n",
       " True,\n",
       " True,\n",
       " False,\n",
       " False,\n",
       " True,\n",
       " False,\n",
       " False,\n",
       " False,\n",
       " False,\n",
       " False,\n",
       " True,\n",
       " True,\n",
       " False,\n",
       " True,\n",
       " False,\n",
       " True,\n",
       " True,\n",
       " True,\n",
       " True,\n",
       " False,\n",
       " False,\n",
       " True,\n",
       " True,\n",
       " False,\n",
       " False,\n",
       " True,\n",
       " True,\n",
       " True,\n",
       " True,\n",
       " False,\n",
       " False,\n",
       " True,\n",
       " True,\n",
       " True,\n",
       " True,\n",
       " True,\n",
       " True,\n",
       " False,\n",
       " False,\n",
       " True,\n",
       " False,\n",
       " False,\n",
       " False,\n",
       " True,\n",
       " True,\n",
       " False,\n",
       " False,\n",
       " True,\n",
       " False,\n",
       " True,\n",
       " False,\n",
       " True,\n",
       " True,\n",
       " False,\n",
       " False,\n",
       " False,\n",
       " True,\n",
       " True,\n",
       " True,\n",
       " False,\n",
       " True,\n",
       " False,\n",
       " True,\n",
       " True,\n",
       " True,\n",
       " True,\n",
       " True,\n",
       " False,\n",
       " False,\n",
       " True,\n",
       " False,\n",
       " False,\n",
       " True,\n",
       " False,\n",
       " False,\n",
       " True,\n",
       " False,\n",
       " False,\n",
       " False,\n",
       " False,\n",
       " True,\n",
       " False,\n",
       " False,\n",
       " True,\n",
       " False,\n",
       " False,\n",
       " True,\n",
       " False,\n",
       " True,\n",
       " False,\n",
       " False,\n",
       " True,\n",
       " False,\n",
       " True,\n",
       " True,\n",
       " False,\n",
       " False,\n",
       " True,\n",
       " False,\n",
       " True,\n",
       " False,\n",
       " False,\n",
       " True,\n",
       " True,\n",
       " True,\n",
       " False,\n",
       " True,\n",
       " False,\n",
       " False,\n",
       " False,\n",
       " False,\n",
       " False,\n",
       " False,\n",
       " False,\n",
       " True,\n",
       " False,\n",
       " True,\n",
       " True,\n",
       " True,\n",
       " False,\n",
       " False,\n",
       " False,\n",
       " True,\n",
       " False,\n",
       " False,\n",
       " True,\n",
       " True,\n",
       " True,\n",
       " False,\n",
       " False,\n",
       " True,\n",
       " True,\n",
       " False,\n",
       " True,\n",
       " True,\n",
       " False,\n",
       " False,\n",
       " False,\n",
       " True,\n",
       " True,\n",
       " True,\n",
       " False,\n",
       " True,\n",
       " False,\n",
       " True,\n",
       " False,\n",
       " False,\n",
       " True,\n",
       " True,\n",
       " True,\n",
       " True,\n",
       " True,\n",
       " True,\n",
       " False,\n",
       " False,\n",
       " True,\n",
       " True,\n",
       " True,\n",
       " False,\n",
       " False,\n",
       " True,\n",
       " True,\n",
       " True,\n",
       " True,\n",
       " False,\n",
       " True,\n",
       " True,\n",
       " True,\n",
       " False,\n",
       " False,\n",
       " True,\n",
       " False,\n",
       " False,\n",
       " False,\n",
       " False,\n",
       " True,\n",
       " False,\n",
       " False,\n",
       " True,\n",
       " True,\n",
       " False,\n",
       " True,\n",
       " False,\n",
       " False,\n",
       " True,\n",
       " False,\n",
       " True,\n",
       " True,\n",
       " True,\n",
       " True,\n",
       " False,\n",
       " True,\n",
       " True,\n",
       " False,\n",
       " True,\n",
       " False,\n",
       " False,\n",
       " True,\n",
       " True,\n",
       " False,\n",
       " True,\n",
       " True,\n",
       " False,\n",
       " True,\n",
       " True,\n",
       " True,\n",
       " True,\n",
       " True,\n",
       " True,\n",
       " True,\n",
       " True,\n",
       " False,\n",
       " True,\n",
       " True,\n",
       " False,\n",
       " True,\n",
       " False,\n",
       " False,\n",
       " True,\n",
       " True,\n",
       " False,\n",
       " True,\n",
       " False,\n",
       " True,\n",
       " True,\n",
       " True,\n",
       " False,\n",
       " True,\n",
       " True,\n",
       " True,\n",
       " False,\n",
       " False,\n",
       " True,\n",
       " True,\n",
       " False,\n",
       " False,\n",
       " False,\n",
       " False,\n",
       " False,\n",
       " True,\n",
       " False,\n",
       " False,\n",
       " True,\n",
       " False,\n",
       " True,\n",
       " True,\n",
       " False,\n",
       " True,\n",
       " True,\n",
       " True,\n",
       " True,\n",
       " False,\n",
       " True,\n",
       " False,\n",
       " True,\n",
       " True,\n",
       " True,\n",
       " False,\n",
       " False,\n",
       " False,\n",
       " False,\n",
       " True,\n",
       " True,\n",
       " True,\n",
       " False,\n",
       " True,\n",
       " True,\n",
       " True,\n",
       " False,\n",
       " True,\n",
       " False,\n",
       " False,\n",
       " False,\n",
       " False,\n",
       " True,\n",
       " False,\n",
       " True,\n",
       " True,\n",
       " False,\n",
       " True,\n",
       " True,\n",
       " True,\n",
       " True,\n",
       " True,\n",
       " False,\n",
       " True,\n",
       " False,\n",
       " False,\n",
       " True,\n",
       " False,\n",
       " True,\n",
       " True,\n",
       " False,\n",
       " True,\n",
       " False,\n",
       " True,\n",
       " True,\n",
       " True,\n",
       " True,\n",
       " False,\n",
       " True,\n",
       " True,\n",
       " True,\n",
       " False,\n",
       " False,\n",
       " True,\n",
       " False,\n",
       " False,\n",
       " True,\n",
       " True,\n",
       " True,\n",
       " True,\n",
       " True,\n",
       " False,\n",
       " True,\n",
       " True,\n",
       " False,\n",
       " True,\n",
       " True,\n",
       " False,\n",
       " False,\n",
       " True,\n",
       " True,\n",
       " True,\n",
       " False,\n",
       " True,\n",
       " True,\n",
       " False,\n",
       " True,\n",
       " False,\n",
       " False,\n",
       " True,\n",
       " False,\n",
       " False,\n",
       " False,\n",
       " True,\n",
       " True,\n",
       " True,\n",
       " True,\n",
       " True,\n",
       " False,\n",
       " False,\n",
       " False,\n",
       " False,\n",
       " True,\n",
       " False,\n",
       " True,\n",
       " True,\n",
       " False,\n",
       " True,\n",
       " True,\n",
       " True,\n",
       " True,\n",
       " True,\n",
       " True,\n",
       " False,\n",
       " False,\n",
       " False,\n",
       " True,\n",
       " True,\n",
       " True,\n",
       " True,\n",
       " False,\n",
       " False,\n",
       " False,\n",
       " False,\n",
       " True,\n",
       " True,\n",
       " True,\n",
       " True,\n",
       " True,\n",
       " True,\n",
       " False,\n",
       " False,\n",
       " False,\n",
       " True,\n",
       " False,\n",
       " True,\n",
       " True,\n",
       " True,\n",
       " True,\n",
       " False,\n",
       " True,\n",
       " True,\n",
       " False,\n",
       " False,\n",
       " True,\n",
       " True,\n",
       " True,\n",
       " False,\n",
       " True,\n",
       " True,\n",
       " True,\n",
       " True,\n",
       " True,\n",
       " True,\n",
       " True,\n",
       " True,\n",
       " False,\n",
       " True,\n",
       " True,\n",
       " True,\n",
       " True,\n",
       " True,\n",
       " False,\n",
       " True,\n",
       " False,\n",
       " True,\n",
       " True,\n",
       " False,\n",
       " True,\n",
       " True,\n",
       " False,\n",
       " False,\n",
       " True,\n",
       " True,\n",
       " True,\n",
       " True,\n",
       " False,\n",
       " False,\n",
       " True,\n",
       " True,\n",
       " False,\n",
       " True,\n",
       " True,\n",
       " True,\n",
       " False,\n",
       " False,\n",
       " True,\n",
       " False,\n",
       " True,\n",
       " True,\n",
       " True,\n",
       " True,\n",
       " True,\n",
       " False,\n",
       " True,\n",
       " False,\n",
       " True,\n",
       " False,\n",
       " True,\n",
       " True,\n",
       " False,\n",
       " False,\n",
       " False,\n",
       " True,\n",
       " False,\n",
       " True,\n",
       " True,\n",
       " False,\n",
       " False,\n",
       " True,\n",
       " False,\n",
       " False,\n",
       " True,\n",
       " True,\n",
       " False,\n",
       " False,\n",
       " False,\n",
       " True,\n",
       " False,\n",
       " False,\n",
       " True,\n",
       " True,\n",
       " False,\n",
       " False,\n",
       " False,\n",
       " False,\n",
       " False,\n",
       " False,\n",
       " True,\n",
       " False,\n",
       " False,\n",
       " True,\n",
       " False,\n",
       " False,\n",
       " True,\n",
       " False,\n",
       " False,\n",
       " True,\n",
       " True,\n",
       " False,\n",
       " False,\n",
       " False,\n",
       " False,\n",
       " True,\n",
       " True,\n",
       " False,\n",
       " True,\n",
       " False,\n",
       " True,\n",
       " True,\n",
       " False,\n",
       " True,\n",
       " False,\n",
       " True,\n",
       " True,\n",
       " True,\n",
       " False,\n",
       " False,\n",
       " False,\n",
       " True,\n",
       " True,\n",
       " False,\n",
       " False,\n",
       " True,\n",
       " True,\n",
       " True,\n",
       " False,\n",
       " False,\n",
       " False,\n",
       " False,\n",
       " True,\n",
       " False,\n",
       " True,\n",
       " True,\n",
       " True,\n",
       " False,\n",
       " False,\n",
       " False,\n",
       " True,\n",
       " False,\n",
       " False,\n",
       " True,\n",
       " False,\n",
       " False,\n",
       " False,\n",
       " True,\n",
       " False,\n",
       " False,\n",
       " True,\n",
       " False,\n",
       " True,\n",
       " False,\n",
       " True,\n",
       " False,\n",
       " True,\n",
       " True,\n",
       " False,\n",
       " True,\n",
       " True,\n",
       " True,\n",
       " False,\n",
       " True,\n",
       " True,\n",
       " False,\n",
       " False,\n",
       " False,\n",
       " True,\n",
       " True,\n",
       " False,\n",
       " False,\n",
       " True,\n",
       " False,\n",
       " False,\n",
       " False,\n",
       " True,\n",
       " False,\n",
       " True,\n",
       " True,\n",
       " False,\n",
       " False,\n",
       " True,\n",
       " False,\n",
       " True,\n",
       " False,\n",
       " True,\n",
       " False,\n",
       " False,\n",
       " True,\n",
       " False,\n",
       " True,\n",
       " True,\n",
       " True,\n",
       " False,\n",
       " True,\n",
       " True,\n",
       " True,\n",
       " True,\n",
       " True,\n",
       " True,\n",
       " False,\n",
       " True,\n",
       " True,\n",
       " False,\n",
       " ...]"
      ]
     },
     "execution_count": 47,
     "metadata": {},
     "output_type": "execute_result"
    }
   ],
   "source": [
    "mask"
   ]
  },
  {
   "cell_type": "code",
   "execution_count": 48,
   "id": "august-holocaust",
   "metadata": {},
   "outputs": [],
   "source": [
    "mtp = tap_pop[mask]"
   ]
  },
  {
   "cell_type": "code",
   "execution_count": 49,
   "id": "peaceful-uncle",
   "metadata": {},
   "outputs": [
    {
     "data": {
      "text/plain": [
       "array([[78.19594595,  1.        ],\n",
       "       [74.58267717,  1.        ],\n",
       "       [72.89041096,  1.        ],\n",
       "       ...,\n",
       "       [78.4950495 ,  2.        ],\n",
       "       [78.47761194,  1.        ],\n",
       "       [68.85      ,  2.        ]])"
      ]
     },
     "execution_count": 49,
     "metadata": {},
     "output_type": "execute_result"
    }
   ],
   "source": [
    "mtp"
   ]
  },
  {
   "cell_type": "code",
   "execution_count": 52,
   "id": "median-scale",
   "metadata": {},
   "outputs": [
    {
     "data": {
      "text/plain": [
       "<matplotlib.collections.PathCollection at 0x7fbf39b83430>"
      ]
     },
     "execution_count": 52,
     "metadata": {},
     "output_type": "execute_result"
    },
    {
     "data": {
      "image/png": "[encoded data removed]",
      "text/plain": [
       "<Figure size 432x288 with 1 Axes>"
      ]
     },
     "metadata": {
      "needs_background": "light"
     },
     "output_type": "display_data"
    }
   ],
   "source": [
    "plt.scatter(mtp[:,0], np.sqrt(mtp[:,1]))"
   ]
  },
  {
   "cell_type": "code",
   "execution_count": 107,
   "id": "whole-friendship",
   "metadata": {},
   "outputs": [],
   "source": [
    "def plot_range(a,b):\n",
    "    mask = [a <= x and x <= b for x in tap[:,0]]\n",
    "    mtp = tap[mask]\n",
    "    plt.scatter(mtp[:,0], np.sqrt(mtp[:,1]))"
   ]
  },
  {
   "cell_type": "code",
   "execution_count": 54,
   "id": "decimal-edmonton",
   "metadata": {},
   "outputs": [
    {
     "data": {
      "image/png": "[encoded data removed]",
      "text/plain": [
       "<Figure size 432x288 with 1 Axes>"
      ]
     },
     "metadata": {
      "needs_background": "light"
     },
     "output_type": "display_data"
    }
   ],
   "source": [
    "plot_range(0,65)"
   ]
  },
  {
   "cell_type": "code",
   "execution_count": 55,
   "id": "canadian-process",
   "metadata": {},
   "outputs": [
    {
     "data": {
      "image/png": "[encoded data removed]",
      "text/plain": [
       "<Figure size 432x288 with 1 Axes>"
      ]
     },
     "metadata": {
      "needs_background": "light"
     },
     "output_type": "display_data"
    }
   ],
   "source": [
    "plot_range(80,100)"
   ]
  },
  {
   "cell_type": "code",
   "execution_count": 58,
   "id": "explicit-guitar",
   "metadata": {},
   "outputs": [
    {
     "data": {
      "text/plain": [
       "array([   97.23809524, 71643.        ])"
      ]
     },
     "execution_count": 58,
     "metadata": {},
     "output_type": "execute_result"
    }
   ],
   "source": [
    "np.max(tap_pop, axis=0)"
   ]
  },
  {
   "cell_type": "code",
   "execution_count": 59,
   "id": "plain-hamilton",
   "metadata": {},
   "outputs": [
    {
     "data": {
      "text/plain": [
       "array([0., 1.])"
      ]
     },
     "execution_count": 59,
     "metadata": {},
     "output_type": "execute_result"
    }
   ],
   "source": [
    "np.min(tap_pop, axis=0)"
   ]
  },
  {
   "cell_type": "code",
   "execution_count": 65,
   "id": "straight-shadow",
   "metadata": {},
   "outputs": [],
   "source": [
    "mask = [x >= 100 for x in tap_pop[:,1]]"
   ]
  },
  {
   "cell_type": "code",
   "execution_count": 66,
   "id": "characteristic-genesis",
   "metadata": {},
   "outputs": [],
   "source": [
    "m = tap_pop[mask]"
   ]
  },
  {
   "cell_type": "code",
   "execution_count": 67,
   "id": "stunning-bandwidth",
   "metadata": {},
   "outputs": [
    {
     "data": {
      "text/plain": [
       "822"
      ]
     },
     "execution_count": 67,
     "metadata": {},
     "output_type": "execute_result"
    }
   ],
   "source": [
    "len(m)"
   ]
  },
  {
   "cell_type": "code",
   "execution_count": 70,
   "id": "adjusted-rocket",
   "metadata": {},
   "outputs": [
    {
     "data": {
      "text/plain": [
       "<matplotlib.collections.PathCollection at 0x7fbf241524c0>"
      ]
     },
     "execution_count": 70,
     "metadata": {},
     "output_type": "execute_result"
    },
    {
     "data": {
      "image/png": "[encoded data removed]",
      "text/plain": [
       "<Figure size 432x288 with 1 Axes>"
      ]
     },
     "metadata": {
      "needs_background": "light"
     },
     "output_type": "display_data"
    }
   ],
   "source": [
    "plt.scatter(m[:,0], np.log(m[:,1]))"
   ]
  },
  {
   "cell_type": "code",
   "execution_count": 100,
   "id": "collective-director",
   "metadata": {},
   "outputs": [
    {
     "data": {
      "text/plain": [
       "<matplotlib.collections.PathCollection at 0x7fbf23a13fd0>"
      ]
     },
     "execution_count": 100,
     "metadata": {},
     "output_type": "execute_result"
    },
    {
     "data": {
      "image/png": "[encoded data removed]",
      "text/plain": [
       "<Figure size 432x288 with 1 Axes>"
      ]
     },
     "metadata": {
      "needs_background": "light"
     },
     "output_type": "display_data"
    }
   ],
   "source": [
    "mask = [x >= 100 for x in tap_pop[:,1]]\n",
    "m = tap_pop[mask]\n",
    "plt.scatter(m[:,0], np.sqrt(m[:,1]))\n"
   ]
  },
  {
   "cell_type": "code",
   "execution_count": 92,
   "id": "separated-poetry",
   "metadata": {},
   "outputs": [],
   "source": [
    "x = m[:,1]"
   ]
  },
  {
   "cell_type": "code",
   "execution_count": 98,
   "id": "graphic-optimum",
   "metadata": {},
   "outputs": [
    {
     "data": {
      "text/plain": [
       "(array([796,  16,   3,   3,   1,   0,   1,   1,   0,   1]),\n",
       " array([  100. ,  7254.3, 14408.6, 21562.9, 28717.2, 35871.5, 43025.8,\n",
       "        50180.1, 57334.4, 64488.7, 71643. ]))"
      ]
     },
     "execution_count": 98,
     "metadata": {},
     "output_type": "execute_result"
    }
   ],
   "source": [
    "np.histogram(x)"
   ]
  },
  {
   "cell_type": "code",
   "execution_count": 99,
   "id": "happy-richmond",
   "metadata": {},
   "outputs": [
    {
     "data": {
      "text/plain": [
       "(array([0., 0., 0., 0., 0., 0., 0., 0., 0., 0.]),\n",
       " array([  100. ,  7254.3, 14408.6, 21562.9, 28717.2, 35871.5, 43025.8,\n",
       "        50180.1, 57334.4, 64488.7, 71643. ]),\n",
       " <BarContainer object of 10 artists>)"
      ]
     },
     "execution_count": 99,
     "metadata": {},
     "output_type": "execute_result"
    },
    {
     "data": {
      "image/png": "[encoded data removed]",
      "text/plain": [
       "<Figure size 432x288 with 1 Axes>"
      ]
     },
     "metadata": {
      "needs_background": "light"
     },
     "output_type": "display_data"
    }
   ],
   "source": [
    "plt.hist(tap_pop[:,0], bins)"
   ]
  },
  {
   "cell_type": "code",
   "execution_count": null,
   "id": "collaborative-browse",
   "metadata": {},
   "outputs": [],
   "source": [
    "def t_test(sample1, sample2):\n",
    "    "
   ]
  },
  {
   "cell_type": "code",
   "execution_count": 89,
   "id": "bearing-hobby",
   "metadata": {},
   "outputs": [],
   "source": [
    "# make lin regression test for pop 40-80\n",
    "# make goodness of fit test for f = 1"
   ]
  },
  {
   "cell_type": "code",
   "execution_count": 112,
   "id": "mounted-footage",
   "metadata": {},
   "outputs": [],
   "source": [
    "tap = np.asarray(tap_pop)"
   ]
  },
  {
   "cell_type": "markdown",
   "id": "absolute-hearts",
   "metadata": {},
   "source": [
    "### TAP vs num_playlists"
   ]
  },
  {
   "cell_type": "code",
   "execution_count": 214,
   "id": "outdoor-truck",
   "metadata": {},
   "outputs": [
    {
     "data": {
      "text/plain": [
       "Text(0.5, 1.0, 'TAP vs Number of Playlists')"
      ]
     },
     "execution_count": 214,
     "metadata": {},
     "output_type": "execute_result"
    },
    {
     "data": {
      "image/png": "[encoded data removed]",
      "text/plain": [
       "<Figure size 432x288 with 1 Axes>"
      ]
     },
     "metadata": {
      "needs_background": "light"
     },
     "output_type": "display_data"
    }
   ],
   "source": [
    "bins = list(range(0,101,1))\n",
    "plt.hist(tap_pop[:,0], bins)\n",
    "plt.xlabel('TAP Score')\n",
    "plt.ylabel('Number of Playlists')\n",
    "plt.title('TAP vs Number of Playlists')"
   ]
  },
  {
   "cell_type": "markdown",
   "id": "burning-affairs",
   "metadata": {},
   "source": [
    "### t-test conditional on followers"
   ]
  },
  {
   "cell_type": "code",
   "execution_count": 202,
   "id": "banned-party",
   "metadata": {},
   "outputs": [],
   "source": [
    "m1 = [x == 1 for x in tap[:,1]]\n",
    "m2 = [x != 1 for x in tap[:,1]]"
   ]
  },
  {
   "cell_type": "code",
   "execution_count": 203,
   "id": "agreed-contribution",
   "metadata": {},
   "outputs": [
    {
     "name": "stdout",
     "output_type": "stream",
     "text": [
      "1188.591181889649 34734.75522759918 29.223467039673874\n"
     ]
    }
   ],
   "source": [
    "g1 = tap[m1]\n",
    "g2 = tap[m2]\n",
    "print(np.var(g1), np.var(g2), np.var(g2)/np.var(g1))"
   ]
  },
  {
   "cell_type": "code",
   "execution_count": 209,
   "id": "grand-stone",
   "metadata": {},
   "outputs": [
    {
     "name": "stdout",
     "output_type": "stream",
     "text": [
      "[  4.49265479 -12.40284377] [9.99996482e-01 1.29216724e-35]\n"
     ]
    }
   ],
   "source": [
    "t, p = stats.ttest_ind(a=g1, b=g2, axis=0, equal_var=False, alternative='less', trim=0)\n",
    "print(t,p)"
   ]
  },
  {
   "cell_type": "code",
   "execution_count": 123,
   "id": "palestinian-deployment",
   "metadata": {},
   "outputs": [
    {
     "data": {
      "text/plain": [
       "34.603439812546334"
      ]
     },
     "execution_count": 123,
     "metadata": {},
     "output_type": "execute_result"
    }
   ],
   "source": [
    "np.mean(g1)"
   ]
  },
  {
   "cell_type": "code",
   "execution_count": 124,
   "id": "oriented-moisture",
   "metadata": {},
   "outputs": [
    {
     "data": {
      "text/plain": [
       "37.79757191972047"
      ]
     },
     "execution_count": 124,
     "metadata": {},
     "output_type": "execute_result"
    }
   ],
   "source": [
    "np.mean(g2)"
   ]
  },
  {
   "cell_type": "code",
   "execution_count": 181,
   "id": "coordinated-alcohol",
   "metadata": {},
   "outputs": [
    {
     "data": {
      "text/plain": [
       "0.754219"
      ]
     },
     "execution_count": 181,
     "metadata": {},
     "output_type": "execute_result"
    }
   ],
   "source": [
    "len(g1)/len(tap)"
   ]
  },
  {
   "cell_type": "markdown",
   "id": "silent-deviation",
   "metadata": {},
   "source": [
    "### (TAP >= 90 vs num_followers)"
   ]
  },
  {
   "cell_type": "code",
   "execution_count": 157,
   "id": "liquid-inquiry",
   "metadata": {},
   "outputs": [],
   "source": [
    "m = [x[0] >= 90 and x[1] > 1 for x in tap]"
   ]
  },
  {
   "cell_type": "code",
   "execution_count": 158,
   "id": "useful-google",
   "metadata": {},
   "outputs": [],
   "source": [
    "g = tap[m]"
   ]
  },
  {
   "cell_type": "code",
   "execution_count": 159,
   "id": "industrial-idaho",
   "metadata": {},
   "outputs": [
    {
     "data": {
      "text/plain": [
       "494"
      ]
     },
     "execution_count": 159,
     "metadata": {},
     "output_type": "execute_result"
    }
   ],
   "source": [
    "len(g)"
   ]
  },
  {
   "cell_type": "code",
   "execution_count": 213,
   "id": "reported-tanzania",
   "metadata": {},
   "outputs": [
    {
     "name": "stdout",
     "output_type": "stream",
     "text": [
      "92.0004912902595 2.2674164514168953\n"
     ]
    }
   ],
   "source": [
    "print(np.mean(g[:,0]), np.var(g[:,0]))"
   ]
  },
  {
   "cell_type": "code",
   "execution_count": 212,
   "id": "solved-petite",
   "metadata": {},
   "outputs": [
    {
     "name": "stdout",
     "output_type": "stream",
     "text": [
      "18.062753036437247 82934.91306610499\n"
     ]
    }
   ],
   "source": [
    "print(np.mean(g[:,1]), np.var(g[:,1]))"
   ]
  },
  {
   "cell_type": "code",
   "execution_count": 176,
   "id": "verbal-tribe",
   "metadata": {},
   "outputs": [
    {
     "data": {
      "text/plain": [
       "(0.055289549154289276, 0.21993649444052968)"
      ]
     },
     "execution_count": 176,
     "metadata": {},
     "output_type": "execute_result"
    }
   ],
   "source": [
    "stats.pearsonr(g[:,0], g[:,1])"
   ]
  },
  {
   "cell_type": "code",
   "execution_count": null,
   "id": "statewide-injury",
   "metadata": {},
   "outputs": [],
   "source": []
  }
 ],
 "metadata": {
  "kernelspec": {
   "display_name": "Python 3",
   "language": "python",
   "name": "python3"
  },
  "language_info": {
   "codemirror_mode": {
    "name": "ipython",
    "version": 3
   },
   "file_extension": ".py",
   "mimetype": "text/x-python",
   "name": "python",
   "nbconvert_exporter": "python",
   "pygments_lexer": "ipython3",
   "version": "3.8.10"
  }
 },
 "nbformat": 4,
 "nbformat_minor": 5
}
