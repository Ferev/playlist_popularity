{
 "cells": [
  {
   "cell_type": "markdown",
   "id": "hollywood-stake",
   "metadata": {},
   "source": [
    "### How does a playlist’s genre diversity affect its popularity?"
   ]
  },
  {
   "cell_type": "code",
   "execution_count": 37,
   "id": "vietnamese-sullivan",
   "metadata": {},
   "outputs": [],
   "source": [
    "import os\n",
    "import json\n",
    "import pickle\n",
    "from collections import defaultdict\n",
    "from collections import Counter\n",
    "import numpy as np\n",
    "import scipy.stats as stats\n",
    "import matplotlib.pyplot as plt"
   ]
  },
  {
   "cell_type": "code",
   "execution_count": 38,
   "id": "engaged-commons",
   "metadata": {},
   "outputs": [],
   "source": [
    "with open('mappings/Q1/playlist_dataL1.pkl', 'rb') as fp:\n",
    "    playlist_data = pickle.load(fp)"
   ]
  },
  {
   "cell_type": "code",
   "execution_count": 39,
   "id": "floral-capitol",
   "metadata": {},
   "outputs": [
    {
     "data": {
      "text/plain": [
       "[(962001, (1.9835831548893639, 1)),\n",
       " (962003, (1.9718058529621698, 1)),\n",
       " (962005, (1.9807280513918628, 1)),\n",
       " (962006, (1.9600285510349749, 1)),\n",
       " (962011, (1.997501784439686, 1))]"
      ]
     },
     "execution_count": 39,
     "metadata": {},
     "output_type": "execute_result"
    }
   ],
   "source": [
    "list(playlist_data.items())[:5]"
   ]
  },
  {
   "cell_type": "code",
   "execution_count": 40,
   "id": "defined-reliance",
   "metadata": {},
   "outputs": [],
   "source": [
    "div = np.asarray([x[1] for x in playlist_data.items()])"
   ]
  },
  {
   "cell_type": "code",
   "execution_count": 41,
   "id": "pressing-catering",
   "metadata": {},
   "outputs": [
    {
     "data": {
      "text/plain": [
       "(409039, 2)"
      ]
     },
     "execution_count": 41,
     "metadata": {},
     "output_type": "execute_result"
    }
   ],
   "source": [
    "div.shape"
   ]
  },
  {
   "cell_type": "code",
   "execution_count": 42,
   "id": "catholic-oakland",
   "metadata": {},
   "outputs": [
    {
     "data": {
      "text/plain": [
       "1.9996431120628144"
      ]
     },
     "execution_count": 42,
     "metadata": {},
     "output_type": "execute_result"
    }
   ],
   "source": [
    "np.max(div[:,0])"
   ]
  },
  {
   "cell_type": "markdown",
   "id": "handed-receiver",
   "metadata": {},
   "source": [
    "### Explore Diversity Metric"
   ]
  },
  {
   "cell_type": "code",
   "execution_count": 43,
   "id": "champion-password",
   "metadata": {},
   "outputs": [
    {
     "data": {
      "text/plain": [
       "Text(0.5, 1.0, '# Playlists in Each Diversity Score')"
      ]
     },
     "execution_count": 43,
     "metadata": {},
     "output_type": "execute_result"
    },
    {
     "data": {
      "image/png": "[encoded data removed]",
      "text/plain": [
       "<Figure size 432x288 with 1 Axes>"
      ]
     },
     "metadata": {
      "needs_background": "light"
     },
     "output_type": "display_data"
    }
   ],
   "source": [
    "plt.hist(div[:,0])\n",
    "plt.title('# Playlists in Each Diversity Score')"
   ]
  },
  {
   "cell_type": "markdown",
   "id": "healthy-jones",
   "metadata": {},
   "source": [
    "### Regression on f>1"
   ]
  },
  {
   "cell_type": "code",
   "execution_count": 44,
   "id": "sustainable-jacob",
   "metadata": {},
   "outputs": [],
   "source": [
    "mask = [x[1] > 1 for x in div]\n",
    "data = div[mask]"
   ]
  },
  {
   "cell_type": "code",
   "execution_count": 45,
   "id": "abroad-double",
   "metadata": {},
   "outputs": [
    {
     "data": {
      "text/plain": [
       "Text(0.5, 1.0, '# Playlists (f>1) in Each Diversity Score')"
      ]
     },
     "execution_count": 45,
     "metadata": {},
     "output_type": "execute_result"
    },
    {
     "data": {
      "image/png": "[encoded data removed]",
      "text/plain": [
       "<Figure size 432x288 with 1 Axes>"
      ]
     },
     "metadata": {
      "needs_background": "light"
     },
     "output_type": "display_data"
    }
   ],
   "source": [
    "plt.hist(data[:,0])\n",
    "plt.title('# Playlists (f>1) in Each Diversity Score')"
   ]
  },
  {
   "cell_type": "code",
   "execution_count": 47,
   "id": "magnetic-profile",
   "metadata": {},
   "outputs": [
    {
     "data": {
      "text/plain": [
       "Text(0.5, 1.0, 'Followers vs Diversity')"
      ]
     },
     "execution_count": 47,
     "metadata": {},
     "output_type": "execute_result"
    },
    {
     "data": {
      "image/png": "[encoded data removed]",
      "text/plain": [
       "<Figure size 432x288 with 1 Axes>"
      ]
     },
     "metadata": {
      "needs_background": "light"
     },
     "output_type": "display_data"
    }
   ],
   "source": [
    "plt.scatter(data[:,0], data[:,1])\n",
    "plt.title('Followers vs Diversity')"
   ]
  },
  {
   "cell_type": "code",
   "execution_count": 48,
   "id": "compact-amount",
   "metadata": {},
   "outputs": [
    {
     "data": {
      "text/plain": [
       "15123.0"
      ]
     },
     "execution_count": 48,
     "metadata": {},
     "output_type": "execute_result"
    }
   ],
   "source": [
    "np.max(data[:,1])"
   ]
  },
  {
   "cell_type": "code",
   "execution_count": 49,
   "id": "seeing-crime",
   "metadata": {},
   "outputs": [],
   "source": [
    "frs = data[:,1]"
   ]
  },
  {
   "cell_type": "code",
   "execution_count": 50,
   "id": "popular-frank",
   "metadata": {},
   "outputs": [
    {
     "data": {
      "text/plain": [
       "538.6000000000495"
      ]
     },
     "execution_count": 50,
     "metadata": {},
     "output_type": "execute_result"
    }
   ],
   "source": [
    "np.quantile(frs, 0.999)"
   ]
  },
  {
   "cell_type": "code",
   "execution_count": 51,
   "id": "cloudy-beijing",
   "metadata": {},
   "outputs": [],
   "source": [
    "mask2 = [x[1] < 5712 for x in data]\n",
    "data_adj = data[mask2]"
   ]
  },
  {
   "cell_type": "code",
   "execution_count": 52,
   "id": "nearby-weather",
   "metadata": {},
   "outputs": [
    {
     "data": {
      "text/plain": [
       "81192"
      ]
     },
     "execution_count": 52,
     "metadata": {},
     "output_type": "execute_result"
    }
   ],
   "source": [
    "len(data_adj)"
   ]
  },
  {
   "cell_type": "code",
   "execution_count": 53,
   "id": "direct-simpson",
   "metadata": {},
   "outputs": [
    {
     "data": {
      "text/plain": [
       "<matplotlib.collections.PathCollection at 0x7fa8e2eeea30>"
      ]
     },
     "execution_count": 53,
     "metadata": {},
     "output_type": "execute_result"
    },
    {
     "data": {
      "image/png": "[encoded data removed]",
      "text/plain": [
       "<Figure size 432x288 with 1 Axes>"
      ]
     },
     "metadata": {
      "needs_background": "light"
     },
     "output_type": "display_data"
    }
   ],
   "source": [
    "plt.scatter(data_adj[:,0], data_adj[:,1])"
   ]
  },
  {
   "cell_type": "code",
   "execution_count": 54,
   "id": "sporting-imaging",
   "metadata": {},
   "outputs": [
    {
     "data": {
      "text/plain": [
       "(array([6.0000e+00, 1.4000e+01, 1.0300e+02, 3.8800e+02, 1.3640e+03,\n",
       "        3.6650e+03, 9.7090e+03, 1.9833e+04, 2.9618e+04, 1.6492e+04]),\n",
       " array([1.90471092, 1.91420414, 1.92369736, 1.93319058, 1.9426838 ,\n",
       "        1.95217702, 1.96167024, 1.97116345, 1.98065667, 1.99014989,\n",
       "        1.99964311]),\n",
       " <BarContainer object of 10 artists>)"
      ]
     },
     "execution_count": 54,
     "metadata": {},
     "output_type": "execute_result"
    },
    {
     "data": {
      "image/png": "[encoded data removed]",
      "text/plain": [
       "<Figure size 432x288 with 1 Axes>"
      ]
     },
     "metadata": {
      "needs_background": "light"
     },
     "output_type": "display_data"
    }
   ],
   "source": [
    "plt.hist(data_adj[:,0])"
   ]
  },
  {
   "cell_type": "code",
   "execution_count": 55,
   "id": "boolean-border",
   "metadata": {},
   "outputs": [
    {
     "data": {
      "text/plain": [
       "2.0"
      ]
     },
     "execution_count": 55,
     "metadata": {},
     "output_type": "execute_result"
    }
   ],
   "source": [
    "np.min(data_adj[:,1])"
   ]
  },
  {
   "cell_type": "code",
   "execution_count": 56,
   "id": "great-rates",
   "metadata": {},
   "outputs": [],
   "source": [
    "def msk(a,b, ix=1):\n",
    "    m = [a <= x[ix] and x[ix] <= b for x in div]\n",
    "    print(len(div[m]))\n",
    "    data = div[m]\n",
    "    return data"
   ]
  },
  {
   "cell_type": "code",
   "execution_count": 57,
   "id": "boolean-norwegian",
   "metadata": {},
   "outputs": [
    {
     "name": "stdout",
     "output_type": "stream",
     "text": [
      "1553\n"
     ]
    }
   ],
   "source": [
    "d = msk(10,50)"
   ]
  },
  {
   "cell_type": "code",
   "execution_count": 58,
   "id": "antique-qatar",
   "metadata": {},
   "outputs": [
    {
     "data": {
      "text/plain": [
       "<matplotlib.collections.PathCollection at 0x7fa8e7a6b460>"
      ]
     },
     "execution_count": 58,
     "metadata": {},
     "output_type": "execute_result"
    },
    {
     "data": {
      "image/png": "[encoded data removed]",
      "text/plain": [
       "<Figure size 432x288 with 1 Axes>"
      ]
     },
     "metadata": {
      "needs_background": "light"
     },
     "output_type": "display_data"
    }
   ],
   "source": [
    "plt.scatter(d[:,0], d[:,1])"
   ]
  },
  {
   "cell_type": "code",
   "execution_count": 59,
   "id": "lightweight-calibration",
   "metadata": {},
   "outputs": [],
   "source": [
    "def selector(a=np.min(div[:,1]),b=np.max(div[:,1]),c=np.min(div[:,0]),d=np.max(div[:,0])):\n",
    "    m = [a <= x[1] and x[1] < b and c <= x[0] and x[0] < d for x in div]\n",
    "    print(len(div[m]))\n",
    "    data = div[m]\n",
    "    return data"
   ]
  },
  {
   "cell_type": "code",
   "execution_count": 60,
   "id": "egyptian-independence",
   "metadata": {},
   "outputs": [
    {
     "name": "stdout",
     "output_type": "stream",
     "text": [
      "614\n"
     ]
    },
    {
     "data": {
      "text/plain": [
       "(0.051431562118780895, 0.20313540935065796)"
      ]
     },
     "execution_count": 60,
     "metadata": {},
     "output_type": "execute_result"
    },
    {
     "data": {
      "image/png": "[encoded data removed]",
      "text/plain": [
       "<Figure size 432x288 with 1 Axes>"
      ]
     },
     "metadata": {
      "needs_background": "light"
     },
     "output_type": "display_data"
    }
   ],
   "source": [
    "d = selector(a=32)\n",
    "plt.scatter(d[:,0], np.log(d[:,1]))\n",
    "plt.ylabel('followers')\n",
    "plt.xlabel('diversity')\n",
    "stats.pearsonr(d[:,0], np.log(d[:,1]))"
   ]
  },
  {
   "cell_type": "markdown",
   "id": "extreme-potter",
   "metadata": {},
   "source": [
    "### Playling with Regression"
   ]
  },
  {
   "cell_type": "code",
   "execution_count": 61,
   "id": "satisfied-regard",
   "metadata": {},
   "outputs": [
    {
     "name": "stdout",
     "output_type": "stream",
     "text": [
      "512\n"
     ]
    }
   ],
   "source": [
    "d = selector(a=40)\n",
    "x = d[:,0]\n",
    "y,_ = stats.boxcox(d[:,1])\n",
    "res = stats.linregress(x,y)"
   ]
  },
  {
   "cell_type": "code",
   "execution_count": 62,
   "id": "coated-homeless",
   "metadata": {},
   "outputs": [
    {
     "data": {
      "image/png": "[encoded data removed]",
      "text/plain": [
       "<Figure size 432x288 with 1 Axes>"
      ]
     },
     "metadata": {
      "needs_background": "light"
     },
     "output_type": "display_data"
    }
   ],
   "source": [
    "plt.plot(x, y, 'o', label='original data')\n",
    "plt.plot(x, res.intercept + res.slope*x, 'r', label='fitted line')\n",
    "plt.legend()\n",
    "plt.show()"
   ]
  },
  {
   "cell_type": "code",
   "execution_count": 63,
   "id": "liquid-launch",
   "metadata": {},
   "outputs": [
    {
     "name": "stdout",
     "output_type": "stream",
     "text": [
      "R-squared: 0.002093\n"
     ]
    }
   ],
   "source": [
    "print(f\"R-squared: {res.rvalue**2:.6f}\")"
   ]
  },
  {
   "cell_type": "markdown",
   "id": "integral-cylinder",
   "metadata": {},
   "source": [
    "### Regression and ANOVA on subsections"
   ]
  },
  {
   "cell_type": "code",
   "execution_count": 67,
   "id": "backed-fortune",
   "metadata": {},
   "outputs": [
    {
     "name": "stdout",
     "output_type": "stream",
     "text": [
      "1\n",
      "R-squared: 0.0 on 1.9-1.9049999999999998\n"
     ]
    },
    {
     "name": "stderr",
     "output_type": "stream",
     "text": [
      "/home/milen/GitHub/proj/lib/python3.8/site-packages/scipy/stats/_stats_mstats_common.py:170: RuntimeWarning: invalid value encountered in double_scalars\n",
      "  slope = ssxym / ssxm\n",
      "/home/milen/GitHub/proj/lib/python3.8/site-packages/scipy/stats/_stats_mstats_common.py:184: RuntimeWarning: invalid value encountered in sqrt\n",
      "  t = r * np.sqrt(df / ((1.0 - r + TINY)*(1.0 + r + TINY)))\n",
      "/home/milen/GitHub/proj/lib/python3.8/site-packages/scipy/stats/_stats_mstats_common.py:187: RuntimeWarning: invalid value encountered in double_scalars\n",
      "  slope_stderr = np.sqrt((1 - r**2) * ssym / ssxm / df)\n"
     ]
    },
    {
     "name": "stdout",
     "output_type": "stream",
     "text": [
      "3\n",
      "R-squared: 0.0 on 1.9049999999999998-1.9099999999999997\n",
      "3\n",
      "R-squared: 0.6331789182314413 on 1.9099999999999997-1.9149999999999996\n",
      "3\n",
      "R-squared: 0.9400650638490119 on 1.9149999999999996-1.9199999999999995\n",
      "18\n",
      "R-squared: 0.00037637500597980674 on 1.9199999999999995-1.9249999999999994\n",
      "43\n",
      "R-squared: 0.04327305271169003 on 1.9249999999999994-1.9299999999999993\n",
      "84\n",
      "R-squared: 0.004756799864552522 on 1.9299999999999993-1.9349999999999992\n",
      "192\n",
      "R-squared: 0.0005755115359227791 on 1.9349999999999992-1.939999999999999\n",
      "348\n",
      "R-squared: 0.01050989049545793 on 1.939999999999999-1.944999999999999\n",
      "693\n",
      "R-squared: 0.0014917055415689438 on 1.944999999999999-1.9499999999999988\n",
      "1159\n",
      "R-squared: 0.0008748012172246545 on 1.9499999999999988-1.9549999999999987\n",
      "1995\n",
      "R-squared: 0.00010631325693078726 on 1.9549999999999987-1.9599999999999986\n",
      "3312\n",
      "R-squared: 3.92523884725576e-05 on 1.9599999999999986-1.9649999999999985\n",
      "5317\n",
      "R-squared: 1.4887352605711573e-05 on 1.9649999999999985-1.9699999999999984\n",
      "8276\n",
      "R-squared: 6.0271995376425895e-05 on 1.9699999999999984-1.9749999999999983\n",
      "11735\n",
      "R-squared: 0.00016387634100082223 on 1.9749999999999983-1.9799999999999982\n",
      "14760\n",
      "R-squared: 2.020294711024816e-05 on 1.9799999999999982-1.984999999999998\n",
      "15721\n",
      "R-squared: 2.8857517623632926e-05 on 1.984999999999998-1.989999999999998\n",
      "12645\n",
      "R-squared: 5.2240682036126254e-05 on 1.989999999999998-1.9949999999999979\n",
      "4892\n",
      "R-squared: 0.0018574976096258134 on 1.9949999999999979-1.9999999999999978\n"
     ]
    }
   ],
   "source": [
    "start = 1.90\n",
    "w = 0.005\n",
    "end = start + w\n",
    "fcutoffa = 2\n",
    "while end <= 2:\n",
    "    d = selector(a=fcutoffa, c=start, d=end)\n",
    "    x = d[:,0]\n",
    "    y = d[:,1]\n",
    "    res = stats.linregress(x,y)\n",
    "    print(\"R-squared: {} on {}-{}\".format(res.rvalue**2, start, end))\n",
    "    start = end\n",
    "    end += w"
   ]
  },
  {
   "cell_type": "code",
   "execution_count": 34,
   "id": "received-pricing",
   "metadata": {},
   "outputs": [
    {
     "name": "stdout",
     "output_type": "stream",
     "text": [
      "0\n",
      "0\n",
      "0\n",
      "0\n"
     ]
    }
   ],
   "source": [
    "# fvalue, pvalue = stats.f_oneway(df['A'], df['B'], df['C'], df['D'])\n",
    "w = 0.3 # for .3 works, for .2 not???\n",
    "bins = np.arange(0,1+w,w)\n",
    "groups = [selector(a=2, c=s, d=s+w)[:,1] for s in bins[:-1]]"
   ]
  },
  {
   "cell_type": "code",
   "execution_count": 35,
   "id": "armed-beatles",
   "metadata": {},
   "outputs": [
    {
     "ename": "ValueError",
     "evalue": "Input sample size must be greater than one.",
     "output_type": "error",
     "traceback": [
      "\u001b[0;31m---------------------------------------------------------------------------\u001b[0m",
      "\u001b[0;31mValueError\u001b[0m                                Traceback (most recent call last)",
      "\u001b[0;32m<ipython-input-35-24303d1fd4fe>\u001b[0m in \u001b[0;36m<module>\u001b[0;34m\u001b[0m\n\u001b[0;32m----> 1\u001b[0;31m \u001b[0mstats\u001b[0m\u001b[0;34m.\u001b[0m\u001b[0malexandergovern\u001b[0m\u001b[0;34m(\u001b[0m\u001b[0;34m*\u001b[0m\u001b[0mgroups\u001b[0m\u001b[0;34m)\u001b[0m\u001b[0;34m\u001b[0m\u001b[0;34m\u001b[0m\u001b[0m\n\u001b[0m",
      "\u001b[0;32m~/GitHub/proj/lib/python3.8/site-packages/scipy/stats/stats.py\u001b[0m in \u001b[0;36malexandergovern\u001b[0;34m(nan_policy, *args)\u001b[0m\n\u001b[1;32m   3785\u001b[0m \u001b[0;34m\u001b[0m\u001b[0m\n\u001b[1;32m   3786\u001b[0m     \"\"\"\n\u001b[0;32m-> 3787\u001b[0;31m     \u001b[0margs\u001b[0m \u001b[0;34m=\u001b[0m \u001b[0m_alexandergovern_input_validation\u001b[0m\u001b[0;34m(\u001b[0m\u001b[0margs\u001b[0m\u001b[0;34m,\u001b[0m \u001b[0mnan_policy\u001b[0m\u001b[0;34m)\u001b[0m\u001b[0;34m\u001b[0m\u001b[0;34m\u001b[0m\u001b[0m\n\u001b[0m\u001b[1;32m   3788\u001b[0m \u001b[0;34m\u001b[0m\u001b[0m\n\u001b[1;32m   3789\u001b[0m     \u001b[0;32mif\u001b[0m \u001b[0mnp\u001b[0m\u001b[0;34m.\u001b[0m\u001b[0many\u001b[0m\u001b[0;34m(\u001b[0m\u001b[0;34m[\u001b[0m\u001b[0;34m(\u001b[0m\u001b[0marg\u001b[0m \u001b[0;34m==\u001b[0m \u001b[0marg\u001b[0m\u001b[0;34m[\u001b[0m\u001b[0;36m0\u001b[0m\u001b[0;34m]\u001b[0m\u001b[0;34m)\u001b[0m\u001b[0;34m.\u001b[0m\u001b[0mall\u001b[0m\u001b[0;34m(\u001b[0m\u001b[0;34m)\u001b[0m \u001b[0;32mfor\u001b[0m \u001b[0marg\u001b[0m \u001b[0;32min\u001b[0m \u001b[0margs\u001b[0m\u001b[0;34m]\u001b[0m\u001b[0;34m)\u001b[0m\u001b[0;34m:\u001b[0m\u001b[0;34m\u001b[0m\u001b[0;34m\u001b[0m\u001b[0m\n",
      "\u001b[0;32m~/GitHub/proj/lib/python3.8/site-packages/scipy/stats/stats.py\u001b[0m in \u001b[0;36m_alexandergovern_input_validation\u001b[0;34m(args, nan_policy)\u001b[0m\n\u001b[1;32m   3844\u001b[0m     \u001b[0;32mfor\u001b[0m \u001b[0mi\u001b[0m\u001b[0;34m,\u001b[0m \u001b[0marg\u001b[0m \u001b[0;32min\u001b[0m \u001b[0menumerate\u001b[0m\u001b[0;34m(\u001b[0m\u001b[0margs\u001b[0m\u001b[0;34m)\u001b[0m\u001b[0;34m:\u001b[0m\u001b[0;34m\u001b[0m\u001b[0;34m\u001b[0m\u001b[0m\n\u001b[1;32m   3845\u001b[0m         \u001b[0;32mif\u001b[0m \u001b[0mnp\u001b[0m\u001b[0;34m.\u001b[0m\u001b[0msize\u001b[0m\u001b[0;34m(\u001b[0m\u001b[0marg\u001b[0m\u001b[0;34m)\u001b[0m \u001b[0;34m<=\u001b[0m \u001b[0;36m1\u001b[0m\u001b[0;34m:\u001b[0m\u001b[0;34m\u001b[0m\u001b[0;34m\u001b[0m\u001b[0m\n\u001b[0;32m-> 3846\u001b[0;31m             \u001b[0;32mraise\u001b[0m \u001b[0mValueError\u001b[0m\u001b[0;34m(\u001b[0m\u001b[0;34m\"Input sample size must be greater than one.\"\u001b[0m\u001b[0;34m)\u001b[0m\u001b[0;34m\u001b[0m\u001b[0;34m\u001b[0m\u001b[0m\n\u001b[0m\u001b[1;32m   3847\u001b[0m         \u001b[0;32mif\u001b[0m \u001b[0marg\u001b[0m\u001b[0;34m.\u001b[0m\u001b[0mndim\u001b[0m \u001b[0;34m!=\u001b[0m \u001b[0;36m1\u001b[0m\u001b[0;34m:\u001b[0m\u001b[0;34m\u001b[0m\u001b[0;34m\u001b[0m\u001b[0m\n\u001b[1;32m   3848\u001b[0m             \u001b[0;32mraise\u001b[0m \u001b[0mValueError\u001b[0m\u001b[0;34m(\u001b[0m\u001b[0;34m\"Input samples must be one-dimensional\"\u001b[0m\u001b[0;34m)\u001b[0m\u001b[0;34m\u001b[0m\u001b[0;34m\u001b[0m\u001b[0m\n",
      "\u001b[0;31mValueError\u001b[0m: Input sample size must be greater than one."
     ]
    }
   ],
   "source": [
    "stats.alexandergovern(*groups)"
   ]
  },
  {
   "cell_type": "code",
   "execution_count": 36,
   "id": "norman-framework",
   "metadata": {},
   "outputs": [
    {
     "name": "stderr",
     "output_type": "stream",
     "text": [
      "/home/milen/GitHub/proj/lib/python3.8/site-packages/numpy/core/fromnumeric.py:3440: RuntimeWarning: Mean of empty slice.\n",
      "  return _methods._mean(a, axis=axis, dtype=dtype,\n",
      "/home/milen/GitHub/proj/lib/python3.8/site-packages/numpy/core/_methods.py:189: RuntimeWarning: invalid value encountered in double_scalars\n",
      "  ret = ret.dtype.type(ret / rcount)\n"
     ]
    },
    {
     "data": {
      "text/plain": [
       "LeveneResult(statistic=nan, pvalue=nan)"
      ]
     },
     "execution_count": 36,
     "metadata": {},
     "output_type": "execute_result"
    }
   ],
   "source": [
    "stats.levene(*groups)"
   ]
  },
  {
   "cell_type": "code",
   "execution_count": 29,
   "id": "fewer-testament",
   "metadata": {},
   "outputs": [
    {
     "ename": "NameError",
     "evalue": "name 'groups' is not defined",
     "output_type": "error",
     "traceback": [
      "\u001b[0;31m---------------------------------------------------------------------------\u001b[0m",
      "\u001b[0;31mNameError\u001b[0m                                 Traceback (most recent call last)",
      "\u001b[0;32m<ipython-input-29-9922d2066c85>\u001b[0m in \u001b[0;36m<module>\u001b[0;34m\u001b[0m\n\u001b[0;32m----> 1\u001b[0;31m \u001b[0;32mfor\u001b[0m \u001b[0mg\u001b[0m \u001b[0;32min\u001b[0m \u001b[0mgroups\u001b[0m\u001b[0;34m:\u001b[0m\u001b[0;34m\u001b[0m\u001b[0;34m\u001b[0m\u001b[0m\n\u001b[0m\u001b[1;32m      2\u001b[0m     \u001b[0mprint\u001b[0m\u001b[0;34m(\u001b[0m\u001b[0mnp\u001b[0m\u001b[0;34m.\u001b[0m\u001b[0mstd\u001b[0m\u001b[0;34m(\u001b[0m\u001b[0mg\u001b[0m\u001b[0;34m)\u001b[0m\u001b[0;34m)\u001b[0m\u001b[0;34m\u001b[0m\u001b[0;34m\u001b[0m\u001b[0m\n",
      "\u001b[0;31mNameError\u001b[0m: name 'groups' is not defined"
     ]
    }
   ],
   "source": [
    "for g in groups:\n",
    "    print(np.std(g))"
   ]
  },
  {
   "cell_type": "code",
   "execution_count": 30,
   "id": "korean-litigation",
   "metadata": {},
   "outputs": [
    {
     "name": "stdout",
     "output_type": "stream",
     "text": [
      "81199\n"
     ]
    }
   ],
   "source": [
    "d = selector(a=2)"
   ]
  },
  {
   "cell_type": "code",
   "execution_count": 31,
   "id": "norman-thumb",
   "metadata": {},
   "outputs": [
    {
     "data": {
      "text/plain": [
       "(array([  325.,  2327.,  5812., 10299., 13460., 15717., 13651., 10816.,\n",
       "         6929.,  1863.]),\n",
       " array([1.69854713e+16, 5.43544497e+16, 9.17234281e+16, 1.29092407e+17,\n",
       "        1.66461385e+17, 2.03830363e+17, 2.41199342e+17, 2.78568320e+17,\n",
       "        3.15937298e+17, 3.53306277e+17, 3.90675255e+17]),\n",
       " <BarContainer object of 10 artists>)"
      ]
     },
     "execution_count": 31,
     "metadata": {},
     "output_type": "execute_result"
    },
    {
     "data": {
      "image/png": "[encoded data removed]",
      "text/plain": [
       "<Figure size 432x288 with 1 Axes>"
      ]
     },
     "metadata": {
      "needs_background": "light"
     },
     "output_type": "display_data"
    }
   ],
   "source": [
    "plt.hist(stats.boxcox(d[:,0])[0])"
   ]
  },
  {
   "cell_type": "code",
   "execution_count": 32,
   "id": "electric-oregon",
   "metadata": {},
   "outputs": [
    {
     "data": {
      "text/plain": [
       "(array([53809.,     0.,     0.,     0.,     0.,     0., 14437.,     0.,\n",
       "         5387.,  7566.]),\n",
       " array([0.31910654, 0.32527427, 0.33144199, 0.33760971, 0.34377743,\n",
       "        0.34994515, 0.35611287, 0.36228059, 0.36844832, 0.37461604,\n",
       "        0.38078376]),\n",
       " <BarContainer object of 10 artists>)"
      ]
     },
     "execution_count": 32,
     "metadata": {},
     "output_type": "execute_result"
    },
    {
     "data": {
      "image/png": "[encoded data removed]",
      "text/plain": [
       "<Figure size 432x288 with 1 Axes>"
      ]
     },
     "metadata": {
      "needs_background": "light"
     },
     "output_type": "display_data"
    }
   ],
   "source": [
    "plt.hist(stats.boxcox(d[:,1])[0])"
   ]
  },
  {
   "cell_type": "code",
   "execution_count": null,
   "id": "alternate-makeup",
   "metadata": {},
   "outputs": [],
   "source": []
  },
  {
   "cell_type": "code",
   "execution_count": 33,
   "id": "surprising-terry",
   "metadata": {},
   "outputs": [
    {
     "data": {
      "text/plain": [
       "<matplotlib.collections.PathCollection at 0x7fa8e9e40c40>"
      ]
     },
     "execution_count": 33,
     "metadata": {},
     "output_type": "execute_result"
    },
    {
     "data": {
      "image/png": "[encoded data removed]",
      "text/plain": [
       "<Figure size 432x288 with 1 Axes>"
      ]
     },
     "metadata": {
      "needs_background": "light"
     },
     "output_type": "display_data"
    }
   ],
   "source": [
    "plt.scatter(d[:,0],stats.boxcox(d[:,1])[0])"
   ]
  },
  {
   "cell_type": "code",
   "execution_count": null,
   "id": "incomplete-pasta",
   "metadata": {},
   "outputs": [],
   "source": []
  },
  {
   "cell_type": "code",
   "execution_count": null,
   "id": "expressed-establishment",
   "metadata": {},
   "outputs": [],
   "source": []
  }
 ],
 "metadata": {
  "kernelspec": {
   "display_name": "Python 3",
   "language": "python",
   "name": "python3"
  },
  "language_info": {
   "codemirror_mode": {
    "name": "ipython",
    "version": 3
   },
   "file_extension": ".py",
   "mimetype": "text/x-python",
   "name": "python",
   "nbconvert_exporter": "python",
   "pygments_lexer": "ipython3",
   "version": "3.8.10"
  }
 },
 "nbformat": 4,
 "nbformat_minor": 5
}
