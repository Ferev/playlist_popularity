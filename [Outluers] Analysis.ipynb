{
 "cells": [
  {
   "cell_type": "code",
   "execution_count": 61,
   "id": "preliminary-receiver",
   "metadata": {},
   "outputs": [],
   "source": [
    "from sklearn.ensemble import RandomForestRegressor\n",
    "import os\n",
    "import json\n",
    "import pickle\n",
    "from collections import defaultdict\n",
    "from collections import Counter\n",
    "import numpy as np\n",
    "import scipy.stats as stats\n",
    "import matplotlib.pyplot as plt\n",
    "from sklearn.linear_model import LinearRegression\n",
    "import statsmodels.api as sm\n",
    "from sklearn.model_selection import train_test_split\n",
    "import gc\n",
    "from sklearn.inspection import permutation_importance\n",
    "# training and permutation importance code taken from sklearn"
   ]
  },
  {
   "cell_type": "code",
   "execution_count": 62,
   "id": "emerging-supervisor",
   "metadata": {},
   "outputs": [],
   "source": [
    "with open('mappings/RF/data_dict2.pkl', 'rb') as fp:\n",
    "    data_dict = pickle.load(fp)"
   ]
  },
  {
   "cell_type": "code",
   "execution_count": 63,
   "id": "descending-october",
   "metadata": {},
   "outputs": [
    {
     "data": {
      "text/plain": [
       "[1.9835831548893639,\n",
       " 0.43318300041595537,\n",
       " 93.65003950517811,\n",
       " 143,\n",
       " 29174668,\n",
       " 204018.65734265733,\n",
       " 40,\n",
       " 25,\n",
       " 1]"
      ]
     },
     "execution_count": 63,
     "metadata": {},
     "output_type": "execute_result"
    }
   ],
   "source": [
    "data_dict[962001]"
   ]
  },
  {
   "cell_type": "code",
   "execution_count": 64,
   "id": "professional-negative",
   "metadata": {},
   "outputs": [
    {
     "data": {
      "text/plain": [
       "[(0,\n",
       "  [1.9782298358315489,\n",
       "   0.25206242699126885,\n",
       "   87.25048873203248,\n",
       "   52,\n",
       "   11532858,\n",
       "   221785.73076923078,\n",
       "   47,\n",
       "   50,\n",
       "   1]),\n",
       " (1,\n",
       "  [1.9825124910778014,\n",
       "   0.22576916274870246,\n",
       "   26.311126242565063,\n",
       "   39,\n",
       "   11668180,\n",
       "   299184.10256410256,\n",
       "   23,\n",
       "   27,\n",
       "   1]),\n",
       " (2,\n",
       "  [1.9950035688793717,\n",
       "   0.5280443966756907,\n",
       "   5.880931026409286,\n",
       "   64,\n",
       "   14033889,\n",
       "   219279.515625,\n",
       "   51,\n",
       "   46,\n",
       "   1])]"
      ]
     },
     "execution_count": 64,
     "metadata": {},
     "output_type": "execute_result"
    }
   ],
   "source": [
    "data = list(data_dict.items())\n",
    "data[:3]"
   ]
  },
  {
   "cell_type": "code",
   "execution_count": 65,
   "id": "norman-reducing",
   "metadata": {},
   "outputs": [],
   "source": [
    "dall = np.array([v for k,v in data_dict.items()])\n"
   ]
  },
  {
   "cell_type": "code",
   "execution_count": 66,
   "id": "peaceful-thought",
   "metadata": {},
   "outputs": [],
   "source": [
    "data.sort(key = lambda x: x[1][-1], reverse=True)"
   ]
  },
  {
   "cell_type": "code",
   "execution_count": 67,
   "id": "pediatric-administration",
   "metadata": {},
   "outputs": [
    {
     "data": {
      "text/plain": [
       "[(768280,\n",
       "  [1.9967880085653102,\n",
       "   0.45777324817692555,\n",
       "   29.58511978830257,\n",
       "   13,\n",
       "   3210659,\n",
       "   246973.76923076922,\n",
       "   12,\n",
       "   15,\n",
       "   15123]),\n",
       " (25495,\n",
       "  [1.9825124910778005,\n",
       "   0.34816514325305115,\n",
       "   241.2848982944465,\n",
       "   115,\n",
       "   27640708,\n",
       "   240353.98260869566,\n",
       "   21,\n",
       "   40,\n",
       "   14812]),\n",
       " (667135,\n",
       "  [1.9878658101356175,\n",
       "   0.4199799877958231,\n",
       "   3.7162546450329983,\n",
       "   227,\n",
       "   47214858,\n",
       "   207994.9691629956,\n",
       "   28,\n",
       "   42,\n",
       "   10911])]"
      ]
     },
     "execution_count": 67,
     "metadata": {},
     "output_type": "execute_result"
    }
   ],
   "source": [
    "data[:3]"
   ]
  },
  {
   "cell_type": "code",
   "execution_count": 68,
   "id": "given-sending",
   "metadata": {},
   "outputs": [],
   "source": [
    "top_k = 10"
   ]
  },
  {
   "cell_type": "code",
   "execution_count": 69,
   "id": "decent-retreat",
   "metadata": {},
   "outputs": [
    {
     "data": {
      "text/plain": [
       "{25495, 48201, 452505, 468318, 667135, 691217, 739360, 742759, 768280, 966695}"
      ]
     },
     "execution_count": 69,
     "metadata": {},
     "output_type": "execute_result"
    }
   ],
   "source": [
    "top = data[:top_k]\n",
    "top_ids = set([x[0] for x in top])\n",
    "top_ids"
   ]
  },
  {
   "cell_type": "code",
   "execution_count": 70,
   "id": "dried-still",
   "metadata": {},
   "outputs": [],
   "source": [
    "# Format\n",
    "# name, followers, L1, derived popularity, #tracks, total_duration, avg_sl, albums, total_author_count "
   ]
  },
  {
   "cell_type": "code",
   "execution_count": 71,
   "id": "global-shanghai",
   "metadata": {},
   "outputs": [],
   "source": [
    "# # get names\n",
    "# # IDEA: can also look at playlist_num['num_albums']\n",
    "# MPD = 'mpd/'\n",
    "# playlist_files = [os.path.join(MPD, x) for x in os.listdir(MPD)]\n",
    "# top_data = {}\n",
    "# for file in playlist_files:\n",
    "#     with open(file, 'rb') as fp:\n",
    "#         data = json.load(fp)\n",
    "#     for playlist in data['playlists']:\n",
    "#         ID = playlist['pid']\n",
    "#         if ID in top_ids:\n",
    "#             top_data[ID] = playlist['name']"
   ]
  },
  {
   "cell_type": "code",
   "execution_count": 72,
   "id": "pursuant-aircraft",
   "metadata": {},
   "outputs": [
    {
     "data": {
      "text/plain": [
       "{691217: 'The weekend',\n",
       " 768280: 'FARRUKO',\n",
       " 667135: 'Christmas Instrumental',\n",
       " 565974: 'almost famous',\n",
       " 966695: 'Pirates Of The Caribbean',\n",
       " 468318: 'REGEATON',\n",
       " 48201: 'Summer 16',\n",
       " 452505: \"90's kid\",\n",
       " 742759: 'Yoga',\n",
       " 25495: 'Wiz Khalifa',\n",
       " 990562: 'calm music',\n",
       " 935821: 'Tercer cielo',\n",
       " 54489: 'Pop Country',\n",
       " 739360: 'classic rock',\n",
       " 415171: 'Ellie Goulding'}"
      ]
     },
     "execution_count": 72,
     "metadata": {},
     "output_type": "execute_result"
    }
   ],
   "source": [
    "top_data"
   ]
  },
  {
   "cell_type": "code",
   "execution_count": 73,
   "id": "found-updating",
   "metadata": {},
   "outputs": [
    {
     "name": "stdout",
     "output_type": "stream",
     "text": [
      "[0.25206243 0.22576916 0.5280444  ... 0.26472305 0.36368698 0.24645816] [11532858. 11668180. 14033889. ...  5934551.  8502131.  6016033.]\n"
     ]
    }
   ],
   "source": [
    "print(np.min(dall, axis=1), np.max(dall, axis=1))"
   ]
  },
  {
   "cell_type": "code",
   "execution_count": null,
   "id": "massive-investing",
   "metadata": {},
   "outputs": [],
   "source": []
  },
  {
   "cell_type": "code",
   "execution_count": 85,
   "id": "broad-belarus",
   "metadata": {},
   "outputs": [
    {
     "name": "stdout",
     "output_type": "stream",
     "text": [
      "FARRUKO  & 15123  &  1.997 & 29.585 & 13.0 & 53.511 & 4.116 & 12.0 & 15.0 \\\\ \n",
      " \\hline\n",
      "Wiz Khalifa  & 14812  &  1.983 & 241.285 & 115.0 & 460.679 & 4.006 & 21.0 & 40.0 \\\\ \n",
      " \\hline\n",
      "Christmas Instrumental  & 10911  &  1.988 & 3.716 & 227.0 & 786.916 & 3.467 & 28.0 & 42.0 \\\\ \n",
      " \\hline\n",
      "Yoga  & 9345  &  1.999 & 0.221 & 88.0 & 238.672 & 2.712 & 8.0 & 7.0 \\\\ \n",
      " \\hline\n",
      "Summer 16  & 6568  &  1.974 & 28.535 & 24.0 & 91.635 & 3.818 & 23.0 & 41.0 \\\\ \n",
      " \\hline\n",
      "The weekend  & 6337  &  1.989 & 357.709 & 65.0 & 323.438 & 4.976 & 13.0 & 16.0 \\\\ \n",
      " \\hline\n",
      "REGEATON  & 6326  &  1.972 & 32.824 & 227.0 & 845.541 & 3.725 & 156.0 & 122.0 \\\\ \n",
      " \\hline\n",
      "90's kid  & 5822  &  1.976 & 20.594 & 86.0 & 349.823 & 4.068 & 77.0 & 70.0 \\\\ \n",
      " \\hline\n",
      "Pirates Of The Caribbean  & 5787  &  1.989 & 21.021 & 58.0 & 235.464 & 4.06 & 5.0 & 14.0 \\\\ \n",
      " \\hline\n",
      "classic rock  & 5164  &  1.966 & 30.017 & 211.0 & 1043.757 & 4.947 & 163.0 & 91.0 \\\\ \n",
      " \\hline\n"
     ]
    }
   ],
   "source": [
    "# name, followers, L1, derived popularity, #tracks, total_duration, avg_sl, albums, total_author_count \n",
    "for playlist in top:\n",
    "    ID = playlist[0]\n",
    "    vals = playlist[1].copy()\n",
    "    del vals[1]\n",
    "    name = top_data[ID]\n",
    "    vals.insert(0, vals[-1])\n",
    "    del vals[-1]\n",
    "    vals = np.array(vals)\n",
    "    vals[4] *= 1.66667e-5\n",
    "    vals[5] *= 1.66667e-5\n",
    "    print(name, ' &', int(vals[0]), ' & ', ' & '.join([str(x) for x in np.around(vals[1:], 3)]), '\\\\\\ \\n \\hline')\n"
   ]
  },
  {
   "cell_type": "code",
   "execution_count": 75,
   "id": "owned-canadian",
   "metadata": {},
   "outputs": [],
   "source": []
  },
  {
   "cell_type": "code",
   "execution_count": 86,
   "id": "applicable-skirt",
   "metadata": {},
   "outputs": [],
   "source": [
    "#   followers, L1, derived popularity, #tracks, total_duration, avg_sl, albums, total_author_count\n",
    "# min, max, mean, mode"
   ]
  },
  {
   "cell_type": "code",
   "execution_count": 96,
   "id": "adverse-valuable",
   "metadata": {},
   "outputs": [
    {
     "name": "stdout",
     "output_type": "stream",
     "text": [
      "\\ \n",
      " \\hline\n",
      "min  & 1.0  &1.905  &0.002  &5.0  &1.678 &0.336 &2.0  &1.0  &\\ \n",
      " \\hline\n",
      "max  & 15123.0  &2.0  &989.932  &250.0  &2572.402 &61.682 &217.0  &319.0  &\\ \n",
      " \\hline\n",
      "mode  & 1.0  &1.987  &15.053  &15.0  &44.363 &3.697 &15.0  &14.0  &\\ \n",
      " \\hline\n",
      "mean  & 1.982  &1.983  &87.565  &44.218  &172.702 &3.915 &31.317  &32.785  &"
     ]
    }
   ],
   "source": [
    "\n",
    "for fn in ['min', 'max', 'mode', 'mean']:\n",
    "    print('\\\\ \\n \\hline\\n', end='')\n",
    "    print(fn, ' & ', end='')\n",
    "    for ix in [-1,0,2,3,4,5,6,7]:\n",
    "        if fn == 'min':\n",
    "            val = np.around(np.min(dall[:,ix]),3)\n",
    "        elif fn == 'max':\n",
    "             val = np.around(np.max(dall[:,ix]),3)\n",
    "        elif fn == 'mode':\n",
    "             val = np.around(stats.mode(list(dall[:,ix])),3)[0][0]\n",
    "        elif fn == 'mean':\n",
    "             val = np.around(np.mean(dall[:,ix]),3)\n",
    "        if ix == 4 or ix == 5:\n",
    "            print(np.around(val*1.66667e-5,3), '&', end='')\n",
    "        else:\n",
    "            print(val, ' &', end='')"
   ]
  },
  {
   "cell_type": "code",
   "execution_count": null,
   "id": "ideal-apple",
   "metadata": {},
   "outputs": [],
   "source": []
  }
 ],
 "metadata": {
  "kernelspec": {
   "display_name": "Python 3",
   "language": "python",
   "name": "python3"
  },
  "language_info": {
   "codemirror_mode": {
    "name": "ipython",
    "version": 3
   },
   "file_extension": ".py",
   "mimetype": "text/x-python",
   "name": "python",
   "nbconvert_exporter": "python",
   "pygments_lexer": "ipython3",
   "version": "3.8.10"
  }
 },
 "nbformat": 4,
 "nbformat_minor": 5
}
