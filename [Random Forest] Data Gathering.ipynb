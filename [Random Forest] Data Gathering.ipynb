{
 "cells": [
  {
   "cell_type": "code",
   "execution_count": 1,
   "id": "desirable-juice",
   "metadata": {},
   "outputs": [],
   "source": [
    "from sklearn.ensemble import RandomForestClassifier\n",
    "import os\n",
    "import json\n",
    "import pickle\n",
    "from collections import defaultdict\n",
    "from collections import Counter\n",
    "import numpy as np\n",
    "import scipy.stats as stats\n",
    "import matplotlib.pyplot as plt\n",
    "from sklearn.linear_model import LinearRegression\n",
    "import statsmodels.api as sm"
   ]
  },
  {
   "cell_type": "code",
   "execution_count": 2,
   "id": "sitting-guidance",
   "metadata": {},
   "outputs": [],
   "source": [
    "# Diversity\n",
    "with open('mappings/Q1/playlist_dataMULTIPLE.pkl', 'rb') as fp:\n",
    "    playlist_dataQ1 = pickle.load(fp)\n",
    "pdQ1 = playlist_dataQ1"
   ]
  },
  {
   "cell_type": "code",
   "execution_count": 3,
   "id": "comfortable-agency",
   "metadata": {},
   "outputs": [],
   "source": [
    "# Popularity\n",
    "with open('mappings/Q2/playlist_dataDERIVEDPOP.pkl', 'rb') as fp:\n",
    "    playlist_dataQ2 = pickle.load(fp)\n",
    "\n",
    "pdQ2 = {}\n",
    "for key in pdQ1.keys():\n",
    "    if key in playlist_dataQ2:\n",
    "        pdQ2[key] = playlist_dataQ2[key]\n",
    "    else:\n",
    "        print(key)"
   ]
  },
  {
   "cell_type": "code",
   "execution_count": 4,
   "id": "lined-might",
   "metadata": {},
   "outputs": [],
   "source": [
    "# Basic Features\n",
    "with open('mappings/Q3/playlist_datav3.pkl', 'rb') as fp:\n",
    "    playlist_dataQ3 = pickle.load(fp)\n",
    "pdQ3 = {}\n",
    "for key in pdQ1.keys():\n",
    "    if key in playlist_dataQ3:\n",
    "        pdQ3[key] = playlist_dataQ3[key]\n",
    "    else:\n",
    "        print(key)"
   ]
  },
  {
   "cell_type": "code",
   "execution_count": 5,
   "id": "positive-index",
   "metadata": {},
   "outputs": [],
   "source": [
    "k1 = sorted(list(pdQ1.keys()))\n",
    "k2 = sorted(list(pdQ2.keys()))\n",
    "k3 = sorted(list(pdQ3.keys()))\n",
    "\n",
    "assert k1 == k2 and k2 == k3"
   ]
  },
  {
   "cell_type": "code",
   "execution_count": 6,
   "id": "analyzed-stability",
   "metadata": {},
   "outputs": [],
   "source": [
    "data_dict = {}\n",
    "for key in k1:\n",
    "    div = pdQ1[key][0][:2]\n",
    "    temp = pdQ2[key][0]\n",
    "    pop = sum([x[0]/x[1] for x in temp])/len(temp)\n",
    "    fts = pdQ3[key][:-1]\n",
    "    followers = pdQ3[key][-1]\n",
    "    d = []\n",
    "    d.extend(div)\n",
    "    d.append(pop)\n",
    "    d.extend(fts)\n",
    "    d.append(followers)\n",
    "    data_dict[key] = d"
   ]
  },
  {
   "cell_type": "code",
   "execution_count": 7,
   "id": "formed-remainder",
   "metadata": {},
   "outputs": [
    {
     "data": {
      "text/plain": [
       "[(0,\n",
       "  [1.9782298358315489,\n",
       "   0.25206242699126885,\n",
       "   87.25048873203248,\n",
       "   52,\n",
       "   11532858,\n",
       "   221785.73076923078,\n",
       "   47,\n",
       "   50,\n",
       "   1]),\n",
       " (1,\n",
       "  [1.9825124910778014,\n",
       "   0.22576916274870246,\n",
       "   26.311126242565063,\n",
       "   39,\n",
       "   11668180,\n",
       "   299184.10256410256,\n",
       "   23,\n",
       "   27,\n",
       "   1])]"
      ]
     },
     "execution_count": 7,
     "metadata": {},
     "output_type": "execute_result"
    }
   ],
   "source": [
    "list(data_dict.items())[:2]"
   ]
  },
  {
   "cell_type": "code",
   "execution_count": 8,
   "id": "toxic-trail",
   "metadata": {},
   "outputs": [],
   "source": [
    "# with open('mappings/RF/data_dict2.pkl', 'wb') as fp:\n",
    "#     pickle.dump(data_dict, fp)"
   ]
  },
  {
   "cell_type": "code",
   "execution_count": 9,
   "id": "proved-allah",
   "metadata": {},
   "outputs": [
    {
     "data": {
      "text/plain": [
       "[1.9835831548893639,\n",
       " 0.43318300041595537,\n",
       " 93.65003950517811,\n",
       " 143,\n",
       " 29174668,\n",
       " 204018.65734265733,\n",
       " 40,\n",
       " 25,\n",
       " 1]"
      ]
     },
     "execution_count": 9,
     "metadata": {},
     "output_type": "execute_result"
    }
   ],
   "source": [
    "data_dict[962001]"
   ]
  },
  {
   "cell_type": "code",
   "execution_count": 10,
   "id": "experienced-xerox",
   "metadata": {},
   "outputs": [
    {
     "data": {
      "text/plain": [
       "409039"
      ]
     },
     "execution_count": 10,
     "metadata": {},
     "output_type": "execute_result"
    }
   ],
   "source": [
    "len(data_dict)"
   ]
  },
  {
   "cell_type": "code",
   "execution_count": null,
   "id": "passing-things",
   "metadata": {},
   "outputs": [],
   "source": []
  }
 ],
 "metadata": {
  "kernelspec": {
   "display_name": "Python 3",
   "language": "python",
   "name": "python3"
  },
  "language_info": {
   "codemirror_mode": {
    "name": "ipython",
    "version": 3
   },
   "file_extension": ".py",
   "mimetype": "text/x-python",
   "name": "python",
   "nbconvert_exporter": "python",
   "pygments_lexer": "ipython3",
   "version": "3.8.10"
  }
 },
 "nbformat": 4,
 "nbformat_minor": 5
}
