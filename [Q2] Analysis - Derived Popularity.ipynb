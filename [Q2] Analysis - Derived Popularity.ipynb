{
 "cells": [
  {
   "cell_type": "markdown",
   "id": "introductory-configuration",
   "metadata": {},
   "source": [
    "### How does the popularity of authors within a playlist affect the popularity of the playlist itself?"
   ]
  },
  {
   "cell_type": "code",
   "execution_count": 3,
   "id": "backed-socket",
   "metadata": {},
   "outputs": [],
   "source": [
    "import os\n",
    "import json\n",
    "import pickle\n",
    "from collections import defaultdict\n",
    "from collections import Counter\n",
    "import numpy as np\n",
    "import scipy.stats as stats\n",
    "import matplotlib.pyplot as plt\n",
    "from sklearn.linear_model import LinearRegression\n",
    "import statsmodels.api as sm"
   ]
  },
  {
   "cell_type": "code",
   "execution_count": 4,
   "id": "pleasant-camcorder",
   "metadata": {},
   "outputs": [],
   "source": [
    "with open('mappings/Q2/playlist_dataDERIVEDPOP.pkl', 'rb') as fp:\n",
    "    playlist_data = pickle.load(fp)"
   ]
  },
  {
   "cell_type": "markdown",
   "id": "secret-terrain",
   "metadata": {},
   "source": [
    "### Total Artist Popularity vs Followers"
   ]
  },
  {
   "cell_type": "code",
   "execution_count": 5,
   "id": "sophisticated-direction",
   "metadata": {},
   "outputs": [],
   "source": [
    "tap_pop = []\n",
    "for k,v in playlist_data.items():\n",
    "    pop_data = v[0]\n",
    "    total_pop = 0\n",
    "    authors = 0\n",
    "    for pop, auth in pop_data:\n",
    "        total_pop += pop\n",
    "        authors += auth\n",
    "    followers = v[1]\n",
    "    tap_pop.append([total_pop/authors, followers])\n",
    "        \n",
    "#     total_pop = sum([x[0] for x in pop_data])\n",
    "#     authors = sum([x[1] for x in pop_data])\n",
    "#     tap_pop.append((total_pop/authors, followers))"
   ]
  },
  {
   "cell_type": "code",
   "execution_count": 6,
   "id": "asian-aquarium",
   "metadata": {},
   "outputs": [
    {
     "data": {
      "text/plain": [
       "[[0.09695172090708842, 1], [94.06140227903518, 1]]"
      ]
     },
     "execution_count": 6,
     "metadata": {},
     "output_type": "execute_result"
    }
   ],
   "source": [
    "tap_pop[:2]"
   ]
  },
  {
   "cell_type": "code",
   "execution_count": 7,
   "id": "architectural-absorption",
   "metadata": {},
   "outputs": [],
   "source": [
    "tap = np.array(tap_pop)"
   ]
  },
  {
   "cell_type": "code",
   "execution_count": 8,
   "id": "municipal-serum",
   "metadata": {},
   "outputs": [
    {
     "data": {
      "text/plain": [
       "array([[ 0.09695172,  1.        ],\n",
       "       [94.06140228,  1.        ]])"
      ]
     },
     "execution_count": 8,
     "metadata": {},
     "output_type": "execute_result"
    }
   ],
   "source": [
    "tap[:2]"
   ]
  },
  {
   "cell_type": "code",
   "execution_count": 9,
   "id": "warming-oxide",
   "metadata": {},
   "outputs": [],
   "source": [
    "m = [x[1] > 1 for x in tap]\n",
    "tap = tap[m]"
   ]
  },
  {
   "cell_type": "code",
   "execution_count": 10,
   "id": "hairy-tuesday",
   "metadata": {},
   "outputs": [
    {
     "data": {
      "text/plain": [
       "array([[17.18216491,  2.        ],\n",
       "       [61.80641015,  2.        ]])"
      ]
     },
     "execution_count": 10,
     "metadata": {},
     "output_type": "execute_result"
    }
   ],
   "source": [
    "tap[:2]"
   ]
  },
  {
   "cell_type": "code",
   "execution_count": 12,
   "id": "classified-grant",
   "metadata": {},
   "outputs": [
    {
     "data": {
      "text/plain": [
       "Text(0, 0.5, 'Followers')"
      ]
     },
     "execution_count": 12,
     "metadata": {},
     "output_type": "execute_result"
    },
    {
     "data": {
      "image/png": "[encoded data removed]",
      "text/plain": [
       "<Figure size 432x288 with 1 Axes>"
      ]
     },
     "metadata": {
      "needs_background": "light"
     },
     "output_type": "display_data"
    }
   ],
   "source": [
    "plt.scatter(tap[:,0], tap[:,1])\n",
    "plt.title('Average Derived Popularity vs Followers')\n",
    "plt.xlabel('ADP Score')\n",
    "plt.ylabel('Followers')"
   ]
  },
  {
   "cell_type": "code",
   "execution_count": 23,
   "id": "victorian-gospel",
   "metadata": {},
   "outputs": [
    {
     "data": {
      "text/plain": [
       "876.9777247960723"
      ]
     },
     "execution_count": 23,
     "metadata": {},
     "output_type": "execute_result"
    }
   ],
   "source": []
  },
  {
   "cell_type": "code",
   "execution_count": 13,
   "id": "second-flood",
   "metadata": {},
   "outputs": [
    {
     "data": {
      "text/plain": [
       "Text(0, 0.5, 'Number of Playlists')"
      ]
     },
     "execution_count": 13,
     "metadata": {},
     "output_type": "execute_result"
    },
    {
     "data": {
      "image/png": "[encoded data removed]",
      "text/plain": [
       "<Figure size 432x288 with 1 Axes>"
      ]
     },
     "metadata": {
      "needs_background": "light"
     },
     "output_type": "display_data"
    }
   ],
   "source": [
    "plt.hist(tap[:,0])\n",
    "plt.title('Number of Playlists by Average Derived Popularity')\n",
    "plt.xlabel('ADP Score')\n",
    "plt.ylabel('Number of Playlists')"
   ]
  },
  {
   "cell_type": "code",
   "execution_count": 14,
   "id": "statewide-injury",
   "metadata": {},
   "outputs": [
    {
     "name": "stdout",
     "output_type": "stream",
     "text": [
      "0.0019600861415781682 876.9777247960723 175.39515294198614\n"
     ]
    }
   ],
   "source": [
    "nbins = 5\n",
    "MIN = np.min(tap[:,0])\n",
    "MAX = np.max(tap[:,0])\n",
    "w = (MAX-MIN)/nbins\n",
    "print(MIN,MAX,w)"
   ]
  },
  {
   "cell_type": "markdown",
   "id": "leading-potter",
   "metadata": {},
   "source": [
    "### ANOVA on TAP Score"
   ]
  },
  {
   "cell_type": "code",
   "execution_count": 15,
   "id": "recorded-pointer",
   "metadata": {},
   "outputs": [],
   "source": [
    "def selector(a=1,b=np.max(tap[:,1]),c=0,d=np.max(tap[:,0])):\n",
    "    m = [a < x[1] and x[1] <= b and c < x[0] and x[0] <= d for x in tap]\n",
    "    print(len(tap[m]))\n",
    "    data = tap[m]\n",
    "    return data"
   ]
  },
  {
   "cell_type": "code",
   "execution_count": 24,
   "id": "vertical-microphone",
   "metadata": {},
   "outputs": [
    {
     "name": "stdout",
     "output_type": "stream",
     "text": [
      "216681\n",
      "27430\n",
      "1411\n",
      "125\n",
      "133\n"
     ]
    }
   ],
   "source": [
    "bins = np.arange(MIN,MAX+w,w)\n",
    "bins = list(zip(bins, bins[1:]))\n",
    "groups = [selector(a=1, c=s, d=e)[:,1] for s,e in bins]"
   ]
  },
  {
   "cell_type": "code",
   "execution_count": 26,
   "id": "agricultural-debut",
   "metadata": {},
   "outputs": [
    {
     "name": "stdout",
     "output_type": "stream",
     "text": [
      "From 0.002 to 175.397: 216681 Samples\n",
      "From 175.397 to 350.792: 27430 Samples\n",
      "From 350.792 to 526.187: 1411 Samples\n",
      "From 526.187 to 701.583: 125 Samples\n",
      "From 701.583 to 876.978: 133 Samples\n"
     ]
    }
   ],
   "source": [
    "for ix, s in enumerate(bins):\n",
    "    a,b = s\n",
    "    print('From {} to {}: {} Samples'.format(np.around(a,3), np.around(b,3), len(groups[ix])))"
   ]
  },
  {
   "cell_type": "code",
   "execution_count": 19,
   "id": "steady-truth",
   "metadata": {},
   "outputs": [
    {
     "name": "stdout",
     "output_type": "stream",
     "text": [
      "0.578292005148594 0.6783729138021376\n"
     ]
    }
   ],
   "source": [
    "stat, p = stats.levene(*groups)\n",
    "print(stat,p)"
   ]
  },
  {
   "cell_type": "code",
   "execution_count": 20,
   "id": "photographic-swimming",
   "metadata": {},
   "outputs": [
    {
     "name": "stdout",
     "output_type": "stream",
     "text": [
      "7.721969916583253 3.229670405672135e-06\n"
     ]
    }
   ],
   "source": [
    "log_groups = [np.log(g) for g in groups]\n",
    "stat, p = stats.levene(*log_groups)\n",
    "print(stat,p)"
   ]
  },
  {
   "cell_type": "code",
   "execution_count": 30,
   "id": "hollow-counter",
   "metadata": {},
   "outputs": [
    {
     "data": {
      "text/plain": [
       "AlexanderGovernResult(statistic=21.32647823147412, pvalue=0.0002727930316407263)"
      ]
     },
     "execution_count": 30,
     "metadata": {},
     "output_type": "execute_result"
    }
   ],
   "source": [
    "stats.alexandergovern(*groups)"
   ]
  },
  {
   "cell_type": "code",
   "execution_count": 31,
   "id": "improved-cannon",
   "metadata": {},
   "outputs": [
    {
     "data": {
      "text/plain": [
       "F_onewayResult(statistic=7.721969916583297, pvalue=3.229670405672135e-06)"
      ]
     },
     "execution_count": 31,
     "metadata": {},
     "output_type": "execute_result"
    }
   ],
   "source": [
    "stats.f_oneway(*log_groups)"
   ]
  },
  {
   "cell_type": "markdown",
   "id": "lightweight-tension",
   "metadata": {},
   "source": [
    "### Regressions on Buckets"
   ]
  },
  {
   "cell_type": "code",
   "execution_count": 57,
   "id": "ecological-albert",
   "metadata": {},
   "outputs": [
    {
     "name": "stdout",
     "output_type": "stream",
     "text": [
      "216681\n",
      " 0.002 to 175.397 & -3.411 & 0.001 & -0.007\n",
      "27430\n",
      " 175.397 to 350.792 & -1.045 & 0.296 & -0.006\n",
      "1411\n",
      " 350.792 to 526.187 & -0.893 & 0.372 & -0.024\n",
      "125\n",
      " 526.187 to 701.583 & -0.722 & 0.472 & -0.065\n",
      "133\n",
      " 701.583 to 876.978 & -2.088 & 0.039 & -0.179\n",
      "\n",
      "0.002 to 175.397 & -3.411 & 0.001 & -0.007\\\\ \n",
      " \\hline \n",
      "175.397 to 350.792 & -1.045 & 0.296 & -0.006\\\\ \n",
      " \\hline \n",
      "350.792 to 526.187 & -0.893 & 0.372 & -0.024\\\\ \n",
      " \\hline \n",
      "526.187 to 701.583 & -0.722 & 0.472 & -0.065\\\\ \n",
      " \\hline \n",
      "701.583 to 876.978 & -2.088 & 0.039 & -0.179\\\\ \n",
      " \\hline \n",
      "\n"
     ]
    }
   ],
   "source": [
    "table_arr = []\n",
    "for s,e in bins:\n",
    "    d = selector(a=1, c=s, d=e)\n",
    "    if len(d) == 0:\n",
    "        print('skipping', s, e)\n",
    "        continue\n",
    "    x = d[:,0]\n",
    "    y = d[:,1]\n",
    "    x2 = sm.add_constant(x)\n",
    "    lr = sm.OLS(y, x2).fit()\n",
    "    t = lr.tvalues[-1]\n",
    "    p = lr.pvalues[-1]\n",
    "    r, _ = stats.pearsonr(x,y)\n",
    "    print(' {} to {} & {} & {} & {}'.format(np.around(s,3), \n",
    "                                            np.around(e,3),\n",
    "                                            np.around(t,3),\n",
    "                                            np.around(p,3),\n",
    "                                            np.around(r,3)))\n",
    "    table_arr.append([str(np.around(s,3)) +' to ' + str(np.around(e,3)),np.around(t,3),np.around(p,3),np.around(r,3)])\n",
    "    \n",
    "s = ''\n",
    "for row in table_arr:\n",
    "    s += ' & '.join([str(x) for x in row])\n",
    "    s += '\\\\\\ \\n \\hline \\n'\n",
    "print()\n",
    "print(s)"
   ]
  },
  {
   "cell_type": "code",
   "execution_count": 56,
   "id": "latest-inside",
   "metadata": {},
   "outputs": [
    {
     "name": "stdout",
     "output_type": "stream",
     "text": [
      "216681\n",
      " 0.002 to 175.397 & -13.303 & 0.0 & -0.029\n",
      "27430\n",
      " 175.397 to 350.792 & -3.094 & 0.002 & -0.019\n",
      "1411\n",
      " 350.792 to 526.187 & -2.834 & 0.005 & -0.075\n",
      "125\n",
      " 526.187 to 701.583 & -0.956 & 0.341 & -0.086\n",
      "133\n",
      " 701.583 to 876.978 & -2.195 & 0.03 & -0.188\n",
      "\n",
      "0.002 to 175.397 & -13.303 & 0.0 & -0.029\\\\ \n",
      " \\hline \n",
      "175.397 to 350.792 & -3.094 & 0.002 & -0.019\\\\ \n",
      " \\hline \n",
      "350.792 to 526.187 & -2.834 & 0.005 & -0.075\\\\ \n",
      " \\hline \n",
      "526.187 to 701.583 & -0.956 & 0.341 & -0.086\\\\ \n",
      " \\hline \n",
      "701.583 to 876.978 & -2.195 & 0.03 & -0.188\\\\ \n",
      " \\hline \n",
      "\n"
     ]
    }
   ],
   "source": [
    "table_arr = []\n",
    "for s,e in bins:\n",
    "    d = selector(a=1, c=s, d=e)\n",
    "    if len(d) == 0:\n",
    "        print('skipping', s, e)\n",
    "        continue\n",
    "    x = d[:,0]\n",
    "    y = np.log(d[:,1])\n",
    "    x2 = sm.add_constant(x)\n",
    "    lr = sm.OLS(y, x2).fit()\n",
    "    t = lr.tvalues[-1]\n",
    "    p = lr.pvalues[-1]\n",
    "    r, _ = stats.pearsonr(x,y)\n",
    "    print(' {} to {} & {} & {} & {}'.format(np.around(s,3), \n",
    "                                            np.around(e,3),\n",
    "                                            np.around(t,3),\n",
    "                                            np.around(p,3),\n",
    "                                            np.around(r,3)))\n",
    "    table_arr.append([str(np.around(s,3)) +' to ' + str(np.around(e,3)),np.around(t,3),np.around(p,3),np.around(r,3)])\n",
    "    \n",
    "s = ''\n",
    "for row in table_arr:\n",
    "    s += ' & '.join([str(x) for x in row])\n",
    "    s += '\\\\\\ \\n \\hline \\n'\n",
    "print()\n",
    "print(s)"
   ]
  },
  {
   "cell_type": "markdown",
   "id": "allied-venue",
   "metadata": {},
   "source": [
    "### above but by conditioning on followers"
   ]
  },
  {
   "cell_type": "code",
   "execution_count": 62,
   "id": "professional-cartridge",
   "metadata": {},
   "outputs": [],
   "source": [
    "FCUTOFF = 10"
   ]
  },
  {
   "cell_type": "code",
   "execution_count": 63,
   "id": "czech-madison",
   "metadata": {},
   "outputs": [
    {
     "name": "stdout",
     "output_type": "stream",
     "text": [
      "5929\n",
      " 0.002 to 175.397 & -2.014 & 0.044 & -0.026\n",
      "555\n",
      " 175.397 to 350.792 & -1.07 & 0.285 & -0.045\n",
      "20\n",
      " 350.792 to 526.187 & -0.553 & 0.587 & -0.129\n",
      "4\n",
      " 526.187 to 701.583 & -0.381 & 0.74 & -0.26\n",
      "4\n",
      " 701.583 to 876.978 & -1.533 & 0.265 & -0.735\n",
      "\n",
      "0.002 to 175.397 & -2.014 & 0.044 & -0.026\\\\ \n",
      " \\hline \n",
      "175.397 to 350.792 & -1.07 & 0.285 & -0.045\\\\ \n",
      " \\hline \n",
      "350.792 to 526.187 & -0.553 & 0.587 & -0.129\\\\ \n",
      " \\hline \n",
      "526.187 to 701.583 & -0.381 & 0.74 & -0.26\\\\ \n",
      " \\hline \n",
      "701.583 to 876.978 & -1.533 & 0.265 & -0.735\\\\ \n",
      " \\hline \n",
      "\n"
     ]
    }
   ],
   "source": [
    "table_arr = []\n",
    "for s,e in bins:\n",
    "    d = selector(a=FCUTOFF, c=s, d=e)\n",
    "    if len(d) == 0:\n",
    "        print('skipping', s, e)\n",
    "        continue\n",
    "    x = d[:,0]\n",
    "    y = d[:,1]\n",
    "    x2 = sm.add_constant(x)\n",
    "    lr = sm.OLS(y, x2).fit()\n",
    "    t = lr.tvalues[-1]\n",
    "    p = lr.pvalues[-1]\n",
    "    r, _ = stats.pearsonr(x,y)\n",
    "    print(' {} to {} & {} & {} & {}'.format(np.around(s,3), \n",
    "                                            np.around(e,3),\n",
    "                                            np.around(t,3),\n",
    "                                            np.around(p,3),\n",
    "                                            np.around(r,3)))\n",
    "    table_arr.append([str(np.around(s,3)) +' to ' + str(np.around(e,3)),np.around(t,3),np.around(p,3),np.around(r,3)])\n",
    "    \n",
    "s = ''\n",
    "for row in table_arr:\n",
    "    s += ' & '.join([str(x) for x in row])\n",
    "    s += '\\\\\\ \\n \\hline \\n'\n",
    "print()\n",
    "print(s)"
   ]
  },
  {
   "cell_type": "code",
   "execution_count": 64,
   "id": "neutral-framing",
   "metadata": {},
   "outputs": [
    {
     "name": "stdout",
     "output_type": "stream",
     "text": [
      "5929\n",
      " 0.002 to 175.397 & -3.83 & 0.0 & -0.05\n",
      "555\n",
      " 175.397 to 350.792 & -0.049 & 0.961 & -0.002\n",
      "20\n",
      " 350.792 to 526.187 & 0.4 & 0.694 & 0.094\n",
      "4\n",
      " 526.187 to 701.583 & -0.249 & 0.826 & -0.174\n",
      "4\n",
      " 701.583 to 876.978 & -1.359 & 0.307 & -0.693\n",
      "\n",
      "0.002 to 175.397 & -3.83 & 0.0 & -0.05\\\\ \n",
      " \\hline \n",
      "175.397 to 350.792 & -0.049 & 0.961 & -0.002\\\\ \n",
      " \\hline \n",
      "350.792 to 526.187 & 0.4 & 0.694 & 0.094\\\\ \n",
      " \\hline \n",
      "526.187 to 701.583 & -0.249 & 0.826 & -0.174\\\\ \n",
      " \\hline \n",
      "701.583 to 876.978 & -1.359 & 0.307 & -0.693\\\\ \n",
      " \\hline \n",
      "\n"
     ]
    }
   ],
   "source": [
    "table_arr = []\n",
    "for s,e in bins:\n",
    "    d = selector(a=FCUTOFF, c=s, d=e)\n",
    "    if len(d) == 0:\n",
    "        print('skipping', s, e)\n",
    "        continue\n",
    "    x = d[:,0]\n",
    "    y = np.log(d[:,1])\n",
    "    x2 = sm.add_constant(x)\n",
    "    lr = sm.OLS(y, x2).fit()\n",
    "    t = lr.tvalues[-1]\n",
    "    p = lr.pvalues[-1]\n",
    "    r, _ = stats.pearsonr(x,y)\n",
    "    print(' {} to {} & {} & {} & {}'.format(np.around(s,3), \n",
    "                                            np.around(e,3),\n",
    "                                            np.around(t,3),\n",
    "                                            np.around(p,3),\n",
    "                                            np.around(r,3)))\n",
    "    table_arr.append([str(np.around(s,3)) +' to ' + str(np.around(e,3)),np.around(t,3),np.around(p,3),np.around(r,3)])\n",
    "    \n",
    "s = ''\n",
    "for row in table_arr:\n",
    "    s += ' & '.join([str(x) for x in row])\n",
    "    s += '\\\\\\ \\n \\hline \\n'\n",
    "print()\n",
    "print(s)"
   ]
  },
  {
   "cell_type": "code",
   "execution_count": null,
   "id": "serious-savage",
   "metadata": {},
   "outputs": [],
   "source": []
  },
  {
   "cell_type": "code",
   "execution_count": null,
   "id": "addressed-combine",
   "metadata": {},
   "outputs": [],
   "source": []
  }
 ],
 "metadata": {
  "kernelspec": {
   "display_name": "Python 3",
   "language": "python",
   "name": "python3"
  },
  "language_info": {
   "codemirror_mode": {
    "name": "ipython",
    "version": 3
   },
   "file_extension": ".py",
   "mimetype": "text/x-python",
   "name": "python",
   "nbconvert_exporter": "python",
   "pygments_lexer": "ipython3",
   "version": "3.8.10"
  }
 },
 "nbformat": 4,
 "nbformat_minor": 5
}
