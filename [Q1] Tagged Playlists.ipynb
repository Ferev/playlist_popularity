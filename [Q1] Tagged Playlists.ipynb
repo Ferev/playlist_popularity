{
 "cells": [
  {
   "cell_type": "markdown",
   "id": "hollywood-stake",
   "metadata": {},
   "source": [
    "### How does a playlist’s genre diversity affect its popularity?"
   ]
  },
  {
   "cell_type": "code",
   "execution_count": 1,
   "id": "vietnamese-sullivan",
   "metadata": {},
   "outputs": [],
   "source": [
    "import os\n",
    "import json\n",
    "import pickle\n",
    "from collections import defaultdict\n",
    "from collections import Counter\n",
    "import numpy as np"
   ]
  },
  {
   "cell_type": "code",
   "execution_count": 2,
   "id": "smaller-fiction",
   "metadata": {},
   "outputs": [],
   "source": [
    "MPD = 'mpd/'\n",
    "playlist_files = [os.path.join(MPD, x) for x in os.listdir(MPD)]"
   ]
  },
  {
   "cell_type": "code",
   "execution_count": 3,
   "id": "funny-corrections",
   "metadata": {},
   "outputs": [],
   "source": [
    "SONG_DATA = 'mappings/songs'\n",
    "song_files = [os.path.join(SONG_DATA, x) for x in os.listdir(SONG_DATA)]"
   ]
  },
  {
   "cell_type": "code",
   "execution_count": 4,
   "id": "fewer-novel",
   "metadata": {},
   "outputs": [],
   "source": [
    "ARTIST_DATA = 'mappings/artists/artist_matching.pkl'\n",
    "with open(ARTIST_DATA, 'rb') as fp:\n",
    "    artist_dict = pickle.load(fp)"
   ]
  },
  {
   "cell_type": "code",
   "execution_count": 5,
   "id": "velvet-belize",
   "metadata": {},
   "outputs": [],
   "source": [
    "all_genres = set()\n",
    "for ID, artist in artist_dict.items():\n",
    "    all_genres.update(artist['genres'])\n",
    "genres = list(all_genres)\n",
    "genres.sort()\n",
    "genre_to_ix = {g:ix for ix,g in enumerate(genres)}\n",
    "ix_to_genre = {ix:g for ix,g in enumerate(genres)}\n",
    "N = len(genres)\n",
    "ideal_dist = np.ones(N)*1/N"
   ]
  },
  {
   "cell_type": "code",
   "execution_count": 6,
   "id": "exotic-latitude",
   "metadata": {},
   "outputs": [
    {
     "data": {
      "text/plain": [
       "5604"
      ]
     },
     "execution_count": 6,
     "metadata": {},
     "output_type": "execute_result"
    }
   ],
   "source": [
    "N"
   ]
  },
  {
   "cell_type": "code",
   "execution_count": 8,
   "id": "flush-opening",
   "metadata": {},
   "outputs": [],
   "source": [
    "# Note: Here we compute this pet track but we can also take list with all genres in playlist as a whole\n",
    "\n",
    "def calculate_playlist_vector(genres_per_track, dim=N, g_ix=genre_to_ix):\n",
    "    k = len(genres_per_track) # weight uniformly across tracks\n",
    "    dist = np.zeros(dim)\n",
    "    for track_genres in genres_per_track:\n",
    "        q = len(track_genres) # weight uniformly across genres per track\n",
    "        for genre in track_genres:\n",
    "            ix = g_ix[genre]\n",
    "            dist[ix] += (1/k)*(1/q)\n",
    "    return dist"
   ]
  },
  {
   "cell_type": "code",
   "execution_count": 12,
   "id": "presidential-skirt",
   "metadata": {},
   "outputs": [],
   "source": [
    "songID_to_genres = defaultdict(list)\n",
    "for file in song_files:\n",
    "    with open(file, 'rb') as fp:\n",
    "        data = pickle.load(fp)\n",
    "    for songID,song in data.items():\n",
    "        genres_list = []\n",
    "        for artist in song['artists']:\n",
    "            artistID = artist['id']\n",
    "            genres = artist_dict[artistID]['genres']\n",
    "            genres_list.extend(genres) # Note: by doing this we allow repeating\n",
    "        songID_to_genres[songID] = genres_list"
   ]
  },
  {
   "cell_type": "code",
   "execution_count": 13,
   "id": "compatible-creature",
   "metadata": {},
   "outputs": [
    {
     "data": {
      "text/plain": [
       "[('spotify:track:1fyTBapjw8q9MlzLVdU6wg',\n",
       "  ['alternative rock',\n",
       "   'madchester',\n",
       "   'new wave',\n",
       "   'post-punk',\n",
       "   'rock',\n",
       "   'uk post-punk']),\n",
       " ('spotify:track:4cC9nQMgClmz8cix6l5CSX', ['filter house']),\n",
       " ('spotify:track:3qwh1awyjkXFUER1Pp64qv',\n",
       "  ['christian rock', 'dreamo', 'piano rock']),\n",
       " ('spotify:track:6NHONOfLaDTtSG8WtCTpex', ['disco house', 'vocal house']),\n",
       " ('spotify:track:7HxecasMeh6aCAvQPGiFgP', ['deep ambient'])]"
      ]
     },
     "execution_count": 13,
     "metadata": {},
     "output_type": "execute_result"
    }
   ],
   "source": [
    "list(songID_to_genres.items())[:5]"
   ]
  },
  {
   "cell_type": "code",
   "execution_count": 14,
   "id": "sporting-noise",
   "metadata": {},
   "outputs": [],
   "source": [
    "playlist_data = {}\n",
    "for file in playlist_files:\n",
    "    with open(file, 'rb') as fp:\n",
    "        data = json.load(fp)\n",
    "    for playlist in data['playlists']:\n",
    "        empty = False\n",
    "        ID = playlist['pid']\n",
    "        genres_per_track = []\n",
    "        for track in playlist['tracks']:\n",
    "            tID = track['track_uri']\n",
    "            if len(songID_to_genres[tID]) != 0:\n",
    "                genres_per_track.append(songID_to_genres[tID])\n",
    "            else:\n",
    "                empty = True\n",
    "                break\n",
    "        if empty:\n",
    "            continue\n",
    "        followers = playlist['num_followers']\n",
    "        dist = calculate_playlist_vector(genres_per_track)\n",
    "        diversity = np.linalg.norm(ideal_dist - dist,2)\n",
    "        playlist_data[ID] = (diversity, followers)"
   ]
  },
  {
   "cell_type": "code",
   "execution_count": 15,
   "id": "entertaining-forest",
   "metadata": {},
   "outputs": [
    {
     "data": {
      "text/plain": [
       "[(962001, (0.4331830004159568, 1)),\n",
       " (962003, (0.18690625070742495, 1)),\n",
       " (962005, (0.28860705795278213, 1)),\n",
       " (962006, (0.20375050145651752, 1)),\n",
       " (962011, (0.3798236439136591, 1))]"
      ]
     },
     "execution_count": 15,
     "metadata": {},
     "output_type": "execute_result"
    }
   ],
   "source": [
    "list(playlist_data.items())[:5]"
   ]
  },
  {
   "cell_type": "code",
   "execution_count": 16,
   "id": "circular-consistency",
   "metadata": {},
   "outputs": [],
   "source": [
    "with open('mappings/Q1/playlist_data.pkl', 'wb') as fp:\n",
    "    pickle.dump(playlist_data, fp)"
   ]
  },
  {
   "cell_type": "code",
   "execution_count": null,
   "id": "maritime-medium",
   "metadata": {},
   "outputs": [],
   "source": []
  }
 ],
 "metadata": {
  "kernelspec": {
   "display_name": "Python 3",
   "language": "python",
   "name": "python3"
  },
  "language_info": {
   "codemirror_mode": {
    "name": "ipython",
    "version": 3
   },
   "file_extension": ".py",
   "mimetype": "text/x-python",
   "name": "python",
   "nbconvert_exporter": "python",
   "pygments_lexer": "ipython3",
   "version": "3.8.10"
  }
 },
 "nbformat": 4,
 "nbformat_minor": 5
}
