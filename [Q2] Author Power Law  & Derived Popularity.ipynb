{
 "cells": [
  {
   "cell_type": "code",
   "execution_count": 2,
   "id": "appointed-harvey",
   "metadata": {},
   "outputs": [],
   "source": [
    "import matplotlib.pyplot as plt\n",
    "import pickle\n",
    "import numpy as np\n",
    "import scipy.stats as stats\n",
    "from collections import defaultdict"
   ]
  },
  {
   "cell_type": "code",
   "execution_count": 3,
   "id": "liked-piece",
   "metadata": {},
   "outputs": [],
   "source": [
    "with open('mappings/Q2/playlist_dataAUTHORCOUNT.pkl', 'rb') as fp:\n",
    "    playlist_data = pickle.load(fp)"
   ]
  },
  {
   "cell_type": "code",
   "execution_count": 4,
   "id": "limiting-board",
   "metadata": {},
   "outputs": [],
   "source": [
    "h = defaultdict(int)\n",
    "for k,v in playlist_data.items():\n",
    "    for song in v[0]:\n",
    "        for authID in song:\n",
    "            h[authID] += 1"
   ]
  },
  {
   "cell_type": "code",
   "execution_count": 5,
   "id": "medieval-integer",
   "metadata": {},
   "outputs": [],
   "source": [
    "auths = np.array([v for k,v in h.items()])"
   ]
  },
  {
   "cell_type": "code",
   "execution_count": 6,
   "id": "touched-boxing",
   "metadata": {},
   "outputs": [
    {
     "data": {
      "text/plain": [
       "407276"
      ]
     },
     "execution_count": 6,
     "metadata": {},
     "output_type": "execute_result"
    }
   ],
   "source": [
    "len(auths)"
   ]
  },
  {
   "cell_type": "code",
   "execution_count": 7,
   "id": "sought-warrant",
   "metadata": {},
   "outputs": [
    {
     "name": "stdout",
     "output_type": "stream",
     "text": [
      "1221895 1\n"
     ]
    }
   ],
   "source": [
    "print(np.max(auths), np.min(auths))"
   ]
  },
  {
   "cell_type": "code",
   "execution_count": 8,
   "id": "designing-promise",
   "metadata": {},
   "outputs": [],
   "source": [
    "auths = np.sort(auths)[::-1]"
   ]
  },
  {
   "cell_type": "code",
   "execution_count": 9,
   "id": "affiliated-boutique",
   "metadata": {},
   "outputs": [
    {
     "data": {
      "text/plain": [
       "407276"
      ]
     },
     "execution_count": 9,
     "metadata": {},
     "output_type": "execute_result"
    }
   ],
   "source": [
    "len(auths)"
   ]
  },
  {
   "cell_type": "code",
   "execution_count": 10,
   "id": "seventh-rabbit",
   "metadata": {},
   "outputs": [],
   "source": [
    "x_axis = list(range(0, len(auths)))"
   ]
  },
  {
   "cell_type": "code",
   "execution_count": 11,
   "id": "fabulous-invention",
   "metadata": {},
   "outputs": [
    {
     "data": {
      "text/plain": [
       "<matplotlib.collections.PathCollection at 0x7fb648a0f880>"
      ]
     },
     "execution_count": 11,
     "metadata": {},
     "output_type": "execute_result"
    },
    {
     "data": {
      "image/png": "[encoded data removed]",
      "text/plain": [
       "<Figure size 432x288 with 1 Axes>"
      ]
     },
     "metadata": {
      "needs_background": "light"
     },
     "output_type": "display_data"
    }
   ],
   "source": [
    "plt.scatter(x_axis[:1500], auths[:1500])"
   ]
  },
  {
   "cell_type": "code",
   "execution_count": 46,
   "id": "natural-calculator",
   "metadata": {},
   "outputs": [
    {
     "name": "stdout",
     "output_type": "stream",
     "text": [
      "101\n"
     ]
    }
   ],
   "source": [
    "a = np.sort(auths)\n",
    "total = np.sum(a)\n",
    "population = len(a)\n",
    "step = 0.01\n",
    "data = [[0,0]]\n",
    "pct = step\n",
    "while pct < 1+step:\n",
    "    ix = int(np.ceil(population*pct))\n",
    "    wealth = np.sum(a[:ix])/total\n",
    "    data.append([pct, wealth])\n",
    "    pct+=step\n",
    "\n",
    "print(len(data))\n",
    "data = np.array(data)"
   ]
  },
  {
   "cell_type": "code",
   "execution_count": 61,
   "id": "respected-fence",
   "metadata": {},
   "outputs": [],
   "source": [
    "# Source: https://github.com/oliviaguest/gini\n",
    "# This is the formulation given in \n",
    "# https://en.wikipedia.org/wiki/Gini_coefficient#:~:text=at%20least%2049%25.-,Alternative%20expressions,-%5Bedit%5D\n",
    "def gini(array):\n",
    "    \"\"\"Calculate the Gini coefficient of a numpy array.\"\"\"\n",
    "    index = np.arange(1,array.shape[0]+1) #index per array element\n",
    "    n = len(a)\n",
    "    return ((np.sum((2 * index - n  - 1) * array)) / (n * np.sum(array))) #Gini coefficient\n",
    "\n",
    "gini_coeff = gini(a*1.0)"
   ]
  },
  {
   "cell_type": "code",
   "execution_count": 66,
   "id": "narrative-documentary",
   "metadata": {},
   "outputs": [
    {
     "data": {
      "text/plain": [
       "Text(0, 0.5, '% of Appearances')"
      ]
     },
     "execution_count": 66,
     "metadata": {},
     "output_type": "execute_result"
    },
    {
     "data": {
      "image/png": "[encoded data removed]",
      "text/plain": [
       "<Figure size 432x288 with 1 Axes>"
      ]
     },
     "metadata": {
      "needs_background": "light"
     },
     "output_type": "display_data"
    }
   ],
   "source": [
    "plt.plot(data[:,0],data[:,1], 'b--', label='Lorenz Curve')\n",
    "plt.plot(np.linspace(0,1), np.linspace(0,1), 'r--', label = 'Equality')\n",
    "plt.title('Representation Inequality (Gini Index: {})'.format(np.around(gini_coeff, 3)))\n",
    "plt.legend()\n",
    "plt.xlabel('Bottom % of Population')\n",
    "plt.ylabel('% of Appearances')"
   ]
  },
  {
   "cell_type": "code",
   "execution_count": 15,
   "id": "saving-athletics",
   "metadata": {},
   "outputs": [
    {
     "data": {
      "text/plain": [
       "0.9720931163004327"
      ]
     },
     "execution_count": 15,
     "metadata": {},
     "output_type": "execute_result"
    }
   ],
   "source": []
  },
  {
   "cell_type": "code",
   "execution_count": 73,
   "id": "distributed-company",
   "metadata": {},
   "outputs": [
    {
     "data": {
      "text/plain": [
       "Text(0, 0.5, 'Appearances')"
      ]
     },
     "execution_count": 73,
     "metadata": {},
     "output_type": "execute_result"
    },
    {
     "data": {
      "image/png": "[encoded data removed]",
      "text/plain": [
       "<Figure size 432x288 with 1 Axes>"
      ]
     },
     "metadata": {
      "needs_background": "light"
     },
     "output_type": "display_data"
    }
   ],
   "source": [
    "k = 1500\n",
    "plt.plot(x_axis[:k], auths[:k], '.')\n",
    "plt.title('Appearences vs Author Rank (First {})'.format(k))\n",
    "plt.xlabel('Author Rank by Appearances')\n",
    "plt.ylabel('Appearances')"
   ]
  },
  {
   "cell_type": "code",
   "execution_count": 50,
   "id": "cognitive-second",
   "metadata": {},
   "outputs": [],
   "source": [
    "# Test for power law"
   ]
  },
  {
   "cell_type": "code",
   "execution_count": 51,
   "id": "developed-principle",
   "metadata": {},
   "outputs": [],
   "source": [
    "K = np.max(auths)"
   ]
  },
  {
   "cell_type": "code",
   "execution_count": null,
   "id": "domestic-renaissance",
   "metadata": {},
   "outputs": [],
   "source": []
  },
  {
   "cell_type": "code",
   "execution_count": 52,
   "id": "imperial-grant",
   "metadata": {},
   "outputs": [],
   "source": [
    "new_h = defaultdict(int)\n",
    "for k,v in h.items():\n",
    "    new_h[k] = v/np.sqrt(K) # here we play with scaling a bit to not penalize tail that heavily"
   ]
  },
  {
   "cell_type": "code",
   "execution_count": 53,
   "id": "revolutionary-classic",
   "metadata": {},
   "outputs": [
    {
     "data": {
      "text/plain": [
       "[('7g6SFEhjnq2V2kpY8juNuD', 0.06423051510094611),\n",
       " ('2zhxw6A7BNmwZpgCJkjwRz', 0.16917051160390034),\n",
       " ('4WU7o63S7gxuTIw6WaRYR2', 0.003618620569067387),\n",
       " ('2FOROU2Fdxew72QmueWSUy', 0.012665171991735854),\n",
       " ('2g7CkpYVzBvSbHkWUDp5sK', 0.15198206390083024)]"
      ]
     },
     "execution_count": 53,
     "metadata": {},
     "output_type": "execute_result"
    }
   ],
   "source": [
    "list(new_h.items())[:5]"
   ]
  },
  {
   "cell_type": "code",
   "execution_count": 54,
   "id": "entire-grass",
   "metadata": {},
   "outputs": [
    {
     "name": "stdout",
     "output_type": "stream",
     "text": [
      "0.0009046551422668467 1105.3935950601488 0.19905282519456013\n"
     ]
    }
   ],
   "source": [
    "pops = np.array([v for k,v in new_h.items()])\n",
    "print(np.min(pops), np.max(pops), np.mean(pops))"
   ]
  },
  {
   "cell_type": "code",
   "execution_count": 56,
   "id": "auburn-snapshot",
   "metadata": {},
   "outputs": [],
   "source": [
    "with open('mappings/Q2/auth_to_derived_popularity.pkl', 'wb') as fp:\n",
    "    pickle.dump(new_h, fp)"
   ]
  },
  {
   "cell_type": "code",
   "execution_count": null,
   "id": "cosmetic-ottawa",
   "metadata": {},
   "outputs": [],
   "source": []
  }
 ],
 "metadata": {
  "kernelspec": {
   "display_name": "Python 3",
   "language": "python",
   "name": "python3"
  },
  "language_info": {
   "codemirror_mode": {
    "name": "ipython",
    "version": 3
   },
   "file_extension": ".py",
   "mimetype": "text/x-python",
   "name": "python",
   "nbconvert_exporter": "python",
   "pygments_lexer": "ipython3",
   "version": "3.8.10"
  }
 },
 "nbformat": 4,
 "nbformat_minor": 5
}
