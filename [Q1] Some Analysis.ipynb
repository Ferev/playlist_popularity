{
 "cells": [
  {
   "cell_type": "markdown",
   "id": "hollywood-stake",
   "metadata": {},
   "source": [
    "### How does a playlist’s genre diversity affect its popularity?"
   ]
  },
  {
   "cell_type": "code",
   "execution_count": 123,
   "id": "vietnamese-sullivan",
   "metadata": {},
   "outputs": [],
   "source": [
    "import os\n",
    "import json\n",
    "import pickle\n",
    "from collections import defaultdict\n",
    "from collections import Counter\n",
    "import numpy as np\n",
    "import scipy.stats as stats\n",
    "import matplotlib.pyplot as plt\n",
    "from sklearn.linear_model import LinearRegression\n",
    "import statsmodels.api as sm"
   ]
  },
  {
   "cell_type": "code",
   "execution_count": 11,
   "id": "engaged-commons",
   "metadata": {},
   "outputs": [],
   "source": [
    "with open('mappings/Q1/playlist_dataMULTIPLE.pkl', 'rb') as fp:\n",
    "    playlist_data = pickle.load(fp)"
   ]
  },
  {
   "cell_type": "code",
   "execution_count": 102,
   "id": "split-significance",
   "metadata": {},
   "outputs": [],
   "source": [
    "# cityblock 0, euclidean 1, braycurtis 2, cosine 3, minkowski 4, canberra 5\n",
    "KEY = 0"
   ]
  },
  {
   "cell_type": "code",
   "execution_count": 103,
   "id": "floral-capitol",
   "metadata": {},
   "outputs": [],
   "source": [
    "# list(playlist_data.items())[:5]"
   ]
  },
  {
   "cell_type": "code",
   "execution_count": 104,
   "id": "defined-reliance",
   "metadata": {},
   "outputs": [],
   "source": [
    "div = np.asarray([np.asarray([x[1][0][KEY], x[1][1]]) for x in playlist_data.items()])"
   ]
  },
  {
   "cell_type": "code",
   "execution_count": 105,
   "id": "pressing-catering",
   "metadata": {},
   "outputs": [
    {
     "data": {
      "text/plain": [
       "(409039, 2)"
      ]
     },
     "execution_count": 105,
     "metadata": {},
     "output_type": "execute_result"
    }
   ],
   "source": [
    "div.shape"
   ]
  },
  {
   "cell_type": "code",
   "execution_count": 106,
   "id": "catholic-oakland",
   "metadata": {},
   "outputs": [
    {
     "name": "stdout",
     "output_type": "stream",
     "text": [
      "1.9047109207708781 1.9996431120628144 0.01898643825838726\n"
     ]
    }
   ],
   "source": [
    "MIN = np.min(div[:,0])\n",
    "MAX = np.max(div[:,0])\n",
    "num_bins = 5\n",
    "w = (MAX-MIN)/num_bins\n",
    "print(MIN,MAX,w)"
   ]
  },
  {
   "cell_type": "markdown",
   "id": "handed-receiver",
   "metadata": {},
   "source": [
    "### Explore Diversity Metric"
   ]
  },
  {
   "cell_type": "code",
   "execution_count": 107,
   "id": "sustainable-jacob",
   "metadata": {},
   "outputs": [],
   "source": [
    "mask = [x[1] > 1 for x in div]\n",
    "data = div[mask]"
   ]
  },
  {
   "cell_type": "code",
   "execution_count": 108,
   "id": "champion-password",
   "metadata": {},
   "outputs": [
    {
     "data": {
      "text/plain": [
       "Text(0, 0.5, 'Number of Playlist With Score')"
      ]
     },
     "execution_count": 108,
     "metadata": {},
     "output_type": "execute_result"
    },
    {
     "data": {
      "image/png": "[encoded data removed]",
      "text/plain": [
       "<Figure size 432x288 with 1 Axes>"
      ]
     },
     "metadata": {
      "needs_background": "light"
     },
     "output_type": "display_data"
    }
   ],
   "source": [
    "plt.hist(data[:,0])\n",
    "plt.title('Number of Playlists for Diversity Score')\n",
    "plt.xlabel('Diversity Score')\n",
    "plt.ylabel('Number of Playlist With Score')\n"
   ]
  },
  {
   "cell_type": "code",
   "execution_count": null,
   "id": "unnecessary-galaxy",
   "metadata": {},
   "outputs": [],
   "source": []
  },
  {
   "cell_type": "code",
   "execution_count": 109,
   "id": "magnetic-profile",
   "metadata": {},
   "outputs": [
    {
     "data": {
      "text/plain": [
       "Text(0, 0.5, 'Followers')"
      ]
     },
     "execution_count": 109,
     "metadata": {},
     "output_type": "execute_result"
    },
    {
     "data": {
      "image/png": "[encoded data removed]",
      "text/plain": [
       "<Figure size 432x288 with 1 Axes>"
      ]
     },
     "metadata": {
      "needs_background": "light"
     },
     "output_type": "display_data"
    }
   ],
   "source": [
    "plt.scatter(data[:,0], data[:,1])\n",
    "plt.title('Followers vs Diversity')\n",
    "plt.xlabel('Diversity Score')\n",
    "plt.ylabel('Followers')"
   ]
  },
  {
   "cell_type": "code",
   "execution_count": 110,
   "id": "compact-amount",
   "metadata": {},
   "outputs": [
    {
     "data": {
      "text/plain": [
       "15123.0"
      ]
     },
     "execution_count": 110,
     "metadata": {},
     "output_type": "execute_result"
    }
   ],
   "source": [
    "np.max(data[:,1])"
   ]
  },
  {
   "cell_type": "code",
   "execution_count": 111,
   "id": "lightweight-calibration",
   "metadata": {},
   "outputs": [],
   "source": [
    "def selector(a=np.min(div[:,1]),b=np.max(div[:,1]),c=np.min(div[:,0]),d=np.max(div[:,0])):\n",
    "    m = [a < x[1] and x[1] <= b and c < x[0] and x[0] <= d for x in div]\n",
    "    print(len(div[m]))\n",
    "    data = div[m]\n",
    "    return data"
   ]
  },
  {
   "cell_type": "code",
   "execution_count": 112,
   "id": "functioning-thirty",
   "metadata": {},
   "outputs": [
    {
     "name": "stdout",
     "output_type": "stream",
     "text": [
      "19\n",
      "491\n",
      "5029\n",
      "29545\n",
      "46116\n",
      "0\n"
     ]
    }
   ],
   "source": [
    "bins = np.arange(MIN,MAX+w,w)\n",
    "bins = list(zip(bins, bins[1:]))\n",
    "groups = [selector(a=1, c=s, d=e)[:,1] for s,e in bins]\n",
    "groups = [g for g in groups if len(g) > 0]"
   ]
  },
  {
   "cell_type": "code",
   "execution_count": 114,
   "id": "designed-pledge",
   "metadata": {},
   "outputs": [
    {
     "name": "stdout",
     "output_type": "stream",
     "text": [
      "From 1.905 to 1.924: 19 Samples\n",
      "From 1.924 to 1.943: 491 Samples\n",
      "From 1.943 to 1.962: 5029 Samples\n",
      "From 1.962 to 1.981: 29545 Samples\n",
      "From 1.981 to 2.0: 46116 Samples\n"
     ]
    }
   ],
   "source": [
    "for ix, s in enumerate(bins):\n",
    "    a,b = s\n",
    "    if ix < len(groups):\n",
    "        print('From {} to {}: {} Samples'.format(np.around(a,3), np.around(b,3), len(groups[ix])))"
   ]
  },
  {
   "cell_type": "code",
   "execution_count": 129,
   "id": "lovely-consultation",
   "metadata": {},
   "outputs": [
    {
     "name": "stdout",
     "output_type": "stream",
     "text": [
      "0.954 0.431\n"
     ]
    }
   ],
   "source": [
    "stat, p = stats.levene(*groups)\n",
    "print(np.around(stat, 3), np.around(p, 3))"
   ]
  },
  {
   "cell_type": "code",
   "execution_count": 130,
   "id": "abstract-status",
   "metadata": {},
   "outputs": [
    {
     "name": "stdout",
     "output_type": "stream",
     "text": [
      "31.945 0.0\n"
     ]
    }
   ],
   "source": [
    "log_groups = [np.log(g) for g in groups]\n",
    "stat, p = stats.levene(*log_groups)\n",
    "print(np.around(stat, 3), np.around(p, 3))"
   ]
  },
  {
   "cell_type": "code",
   "execution_count": 131,
   "id": "recreational-progress",
   "metadata": {},
   "outputs": [
    {
     "name": "stdout",
     "output_type": "stream",
     "text": [
      "0.954 0.431\n"
     ]
    }
   ],
   "source": [
    "# stat = stats.alexandergovern(*groups).statistic\n",
    "# p = stats.alexandergovern(*groups).pvalue\n",
    "stat, p = stats.f_oneway(*groups)\n",
    "print(np.around(stat, 3), np.around(p, 3))"
   ]
  },
  {
   "cell_type": "code",
   "execution_count": 132,
   "id": "dried-superintendent",
   "metadata": {},
   "outputs": [
    {
     "name": "stdout",
     "output_type": "stream",
     "text": [
      "120.961 0.0\n"
     ]
    }
   ],
   "source": [
    "stat = stats.alexandergovern(*log_groups).statistic\n",
    "p = stats.alexandergovern(*log_groups).pvalue\n",
    "print(np.around(stat, 3), np.around(p, 3))"
   ]
  },
  {
   "cell_type": "markdown",
   "id": "equivalent-tissue",
   "metadata": {},
   "source": [
    "### Regression on Buckets"
   ]
  },
  {
   "cell_type": "code",
   "execution_count": 126,
   "id": "physical-abuse",
   "metadata": {},
   "outputs": [],
   "source": [
    "# table_arr = []\n",
    "# for s,e in bins:\n",
    "#     d = selector(a=1, c=s, d=e)\n",
    "#     if len(d) == 0:\n",
    "#         print('skipping', s, e)\n",
    "#         continue\n",
    "#     x = d[:,0]\n",
    "#     y = d[:,1]\n",
    "#     x2 = sm.add_constant(x)\n",
    "#     lr = sm.OLS(y, x2).fit()\n",
    "#     t = lr.tvalues[-1]\n",
    "#     p = lr.pvalues[-1]\n",
    "#     r, _ = stats.pearsonr(x,y)\n",
    "#     print(' {} to {} & {} & {} & {}'.format(np.around(s,3), \n",
    "#                                             np.around(e,3),\n",
    "#                                             np.around(t,3),\n",
    "#                                             np.around(p,3),\n",
    "#                                             np.around(r,3)))\n",
    "#     table_arr.append([str(np.around(s,3)) +' to ' + str(np.around(e,3)),np.around(t,3),np.around(p,3),np.around(r,3)])\n",
    "    \n",
    "# s = ''\n",
    "# for row in table_arr:\n",
    "#     s += ' & '.join([str(x) for x in row])\n",
    "#     s += '\\\\\\ \\n \\hline \\n'\n",
    "# print()\n",
    "# print(s)"
   ]
  },
  {
   "cell_type": "code",
   "execution_count": 128,
   "id": "satisfactory-editing",
   "metadata": {},
   "outputs": [
    {
     "name": "stdout",
     "output_type": "stream",
     "text": [
      "19\n",
      " 1.905 to 1.924 & 0.512 & 0.615 & 0.123\n",
      "491\n",
      " 1.924 to 1.943 & -1.481 & 0.139 & -0.067\n",
      "5029\n",
      " 1.943 to 1.962 & -1.801 & 0.072 & -0.025\n",
      "29545\n",
      " 1.962 to 1.981 & -3.247 & 0.001 & -0.019\n",
      "46116\n",
      " 1.981 to 2.0 & 3.133 & 0.002 & 0.015\n",
      "0\n",
      "skipping 1.9996431120628146 2.0186295503212017\n",
      "\n",
      "1.905 to 1.924 & 0.512 & 0.615 & 0.123\\\\ \n",
      " \\hline \n",
      "1.924 to 1.943 & -1.481 & 0.139 & -0.067\\\\ \n",
      " \\hline \n",
      "1.943 to 1.962 & -1.801 & 0.072 & -0.025\\\\ \n",
      " \\hline \n",
      "1.962 to 1.981 & -3.247 & 0.001 & -0.019\\\\ \n",
      " \\hline \n",
      "1.981 to 2.0 & 3.133 & 0.002 & 0.015\\\\ \n",
      " \\hline \n",
      "\n"
     ]
    }
   ],
   "source": [
    "table_arr = []\n",
    "for s,e in bins:\n",
    "    d = selector(a=1, c=s, d=e)\n",
    "    if len(d) == 0:\n",
    "        print('skipping', s, e)\n",
    "        continue\n",
    "    x = d[:,0]\n",
    "    y = np.log(d[:,1])\n",
    "    x2 = sm.add_constant(x)\n",
    "    lr = sm.OLS(y, x2).fit()\n",
    "    t = lr.tvalues[-1]\n",
    "    p = lr.pvalues[-1]\n",
    "    r, _ = stats.pearsonr(x,y)\n",
    "    print(' {} to {} & {} & {} & {}'.format(np.around(s,3), \n",
    "                                            np.around(e,3),\n",
    "                                            np.around(t,3),\n",
    "                                            np.around(p,3),\n",
    "                                            np.around(r,3)))\n",
    "    table_arr.append([str(np.around(s,3)) +' to ' + str(np.around(e,3)),np.around(t,3),np.around(p,3),np.around(r,3)])\n",
    "    \n",
    "s = ''\n",
    "for row in table_arr:\n",
    "    s += ' & '.join([str(x) for x in row])\n",
    "    s += '\\\\\\ \\n \\hline \\n'\n",
    "print()\n",
    "print(s)"
   ]
  },
  {
   "cell_type": "code",
   "execution_count": null,
   "id": "proof-lying",
   "metadata": {},
   "outputs": [],
   "source": []
  },
  {
   "cell_type": "code",
   "execution_count": null,
   "id": "prescription-pride",
   "metadata": {},
   "outputs": [],
   "source": []
  }
 ],
 "metadata": {
  "kernelspec": {
   "display_name": "Python 3",
   "language": "python",
   "name": "python3"
  },
  "language_info": {
   "codemirror_mode": {
    "name": "ipython",
    "version": 3
   },
   "file_extension": ".py",
   "mimetype": "text/x-python",
   "name": "python",
   "nbconvert_exporter": "python",
   "pygments_lexer": "ipython3",
   "version": "3.8.10"
  }
 },
 "nbformat": 4,
 "nbformat_minor": 5
}
